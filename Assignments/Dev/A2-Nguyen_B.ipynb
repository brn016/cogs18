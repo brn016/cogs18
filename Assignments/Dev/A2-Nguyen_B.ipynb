{
 "cells": [
  {
   "cell_type": "markdown",
   "metadata": {
    "deletable": false,
    "editable": false,
    "nbgrader": {
     "checksum": "6e279bda90b42108dcd398b4cc99bc43",
     "grade": false,
     "grade_id": "cell-08eae0a733656950",
     "locked": true,
     "schema_version": 1,
     "solution": false
    }
   },
   "source": [
    "# A2-Ciphers\n",
    "\n",
    "This assignment covers Collections, Loops & Encodings. \n",
    "\n",
    "This assignment is out of 8 points, worth 8% of your grade."
   ]
  },
  {
   "cell_type": "markdown",
   "metadata": {
    "deletable": false,
    "editable": false,
    "nbgrader": {
     "checksum": "2fd992ceac1da4b516761915b00ee214",
     "grade": false,
     "grade_id": "cell-a11c701a459782ac",
     "locked": true,
     "schema_version": 1,
     "solution": false
    }
   },
   "source": [
    "## Part 1: Collection Types\n",
    "\n",
    "This part covers collection types: lists, tuples and dictionaries. "
   ]
  },
  {
   "cell_type": "markdown",
   "metadata": {
    "deletable": false,
    "editable": false,
    "nbgrader": {
     "checksum": "2cde83b3a4af9abbb85b183c53b2ddd1",
     "grade": false,
     "grade_id": "cell-c53af2db4923d356",
     "locked": true,
     "schema_version": 1,
     "solution": false
    }
   },
   "source": [
    "### QN\n",
    "\n",
    "Below are the results of a hypothetical experiment of measuring the height of a class in a land far away:\n",
    "\n",
    "- Mario is 5.6 ft. tall\n",
    "- Sarai is 5.4 ft. tall\n",
    "- Demi  is 6.2 ft. tall\n",
    "- Ian   is 5.8 ft. tall\n",
    "- Dawn  is 5.7 ft. tall\n",
    "\n",
    "Using the two provided variable below create a list of strings for the Class name and a list of Floats for their heights.\n",
    "\n",
    "Remember that the order of lists matters, and so make sure to keep the order of items the same as listed above!"
   ]
  },
  {
   "cell_type": "code",
   "execution_count": 1,
   "metadata": {
    "collapsed": true,
    "deletable": false,
    "nbgrader": {
     "checksum": "b5ee8a7d3fd526f06ef188d4d7371f9f",
     "grade": false,
     "grade_id": "cell-653ac226fd7e65c4",
     "locked": false,
     "schema_version": 1,
     "solution": true
    }
   },
   "outputs": [],
   "source": [
    "# YOUR CODE HERE\n",
    "class_names = [\"Mario\", \"Sarai\", \"Demi\", \"Ian\", \"Dawn\"]\n",
    "class_heights = [5.6, 5.4, 6.2, 5.8, 5.7]"
   ]
  },
  {
   "cell_type": "code",
   "execution_count": 2,
   "metadata": {
    "collapsed": true,
    "deletable": false,
    "editable": false,
    "nbgrader": {
     "checksum": "a1fbe38dcbc4e934ed9ae71e473fd24e",
     "grade": true,
     "grade_id": "cell-7ed89774a93617f3",
     "locked": true,
     "points": 1,
     "schema_version": 1,
     "solution": false
    }
   },
   "outputs": [],
   "source": [
    "# Tests for QN\n",
    "\n",
    "# Check both lists are defined\n",
    "assert isinstance(class_names, list)\n",
    "assert isinstance(class_heights, list)\n",
    "\n",
    "# Check both lists have the same length, and are of length 5\n",
    "assert len(class_names) == len(class_heights) == 5\n"
   ]
  },
  {
   "cell_type": "markdown",
   "metadata": {
    "deletable": false,
    "editable": false,
    "nbgrader": {
     "checksum": "b1bd1716906f10b1455a5b55803dfa06",
     "grade": false,
     "grade_id": "cell-3d40595d954cc6c6",
     "locked": true,
     "schema_version": 1,
     "solution": false
    }
   },
   "source": [
    "Now that we have the data stored in lists, we will explore other collection types. "
   ]
  },
  {
   "cell_type": "markdown",
   "metadata": {
    "deletable": false,
    "editable": false,
    "nbgrader": {
     "checksum": "45514ca99e338a30726e454c65c4e46e",
     "grade": false,
     "grade_id": "cell-1a926ed978b6ea69",
     "locked": true,
     "schema_version": 1,
     "solution": false
    }
   },
   "source": [
    "## Q2\n",
    "\n",
    "Create a tuple, that contains just the names of the people in the experiment. Call this tuple 'names_tuple'. "
   ]
  },
  {
   "cell_type": "code",
   "execution_count": 6,
   "metadata": {
    "collapsed": true,
    "deletable": false,
    "nbgrader": {
     "checksum": "95056d9685e5ff805ffc0b08f959c14e",
     "grade": false,
     "grade_id": "cell-fb210f0469973e5a",
     "locked": false,
     "schema_version": 1,
     "solution": true
    }
   },
   "outputs": [],
   "source": [
    "# YOUR CODE HERE\n",
    "names_tuple = tuple(class_names)"
   ]
  },
  {
   "cell_type": "code",
   "execution_count": 7,
   "metadata": {
    "collapsed": true,
    "deletable": false,
    "editable": false,
    "nbgrader": {
     "checksum": "e1783ebf8a0e3d591d43a33e859a95dd",
     "grade": true,
     "grade_id": "cell-5969238aefebc1dd",
     "locked": true,
     "points": 1,
     "schema_version": 1,
     "solution": false
    }
   },
   "outputs": [],
   "source": [
    "assert isinstance(names_tuple, tuple)\n"
   ]
  },
  {
   "cell_type": "markdown",
   "metadata": {
    "deletable": false,
    "editable": false,
    "nbgrader": {
     "checksum": "5476989e1e65f318191bfb0d578ef4ea",
     "grade": false,
     "grade_id": "cell-e98a1bc50367e340",
     "locked": true,
     "schema_version": 1,
     "solution": false
    }
   },
   "source": [
    "## QN\n",
    "\n",
    "Next, store the data into a dictionary, where each student's name is the key and their height is the value.\n",
    "\n",
    "Call this dictionary `results_dictionary`. "
   ]
  },
  {
   "cell_type": "code",
   "execution_count": 11,
   "metadata": {
    "collapsed": true,
    "deletable": false,
    "nbgrader": {
     "checksum": "60a2ca6b4ef3375e173715fa51478acd",
     "grade": false,
     "grade_id": "cell-d1afd11046ada78c",
     "locked": false,
     "schema_version": 1,
     "solution": true
    }
   },
   "outputs": [],
   "source": [
    "# YOUR CODE HERE\n",
    "results_dictionary = dict(zip(class_names,class_heights))"
   ]
  },
  {
   "cell_type": "code",
   "execution_count": 12,
   "metadata": {
    "collapsed": true,
    "deletable": false,
    "editable": false,
    "nbgrader": {
     "checksum": "f62d9705e9456fa4a7b4ce62bf2516da",
     "grade": true,
     "grade_id": "cell-a823da59fce8614b",
     "locked": true,
     "points": 1,
     "schema_version": 1,
     "solution": false
    }
   },
   "outputs": [],
   "source": [
    "\n",
    "assert isinstance(results_dictionary, dict)\n"
   ]
  },
  {
   "cell_type": "markdown",
   "metadata": {
    "deletable": false,
    "editable": false,
    "nbgrader": {
     "checksum": "25cf94b37b296c2ea466a2564675ffee",
     "grade": false,
     "grade_id": "cell-0b5c5d936d63f444",
     "locked": true,
     "schema_version": 1,
     "solution": false
    }
   },
   "source": [
    "## QN - Lists of Lists\n",
    "\n",
    "You can also make lists, that are filled with lists! List-ception. \n",
    "\n",
    "First, create three different lists:\n",
    "- A list called `string_list` that containts three strings (can be any strings)\n",
    "- A list called `number_list` that containts three numbers (can be any numbers - int or float)\n",
    "- A list called `boolean_list` that containts three boolean (can be any booleans)\n",
    "\n",
    "Then, create a new list, called `nested_list` which contains the three lists you created above. "
   ]
  },
  {
   "cell_type": "code",
   "execution_count": 13,
   "metadata": {
    "collapsed": true,
    "deletable": false,
    "nbgrader": {
     "checksum": "0029582236e07166f8ffd190931519a3",
     "grade": false,
     "grade_id": "cell-49a40611dcdbbea0",
     "locked": false,
     "schema_version": 1,
     "solution": true
    }
   },
   "outputs": [],
   "source": [
    "# YOUR CODE HERE\n",
    "string_list = ['a', 'b', 'c']\n",
    "number_list = [1, 2, 3]\n",
    "boolean_list = [True, True, True]\n",
    "nested_list = [string_list, number_list, boolean_list]"
   ]
  },
  {
   "cell_type": "code",
   "execution_count": 14,
   "metadata": {
    "collapsed": true,
    "deletable": false,
    "editable": false,
    "nbgrader": {
     "checksum": "f95fe8a4f3f7370afd72c73ba4c79eff",
     "grade": true,
     "grade_id": "cell-51ffc8b55e7f36fc",
     "locked": true,
     "points": 1,
     "schema_version": 1,
     "solution": false
    }
   },
   "outputs": [],
   "source": [
    "assert isinstance(string_list, list)\n",
    "assert len(string_list) == 3\n",
    "assert isinstance(string_list[0], str)\n",
    "\n",
    "assert isinstance(number_list, list)\n",
    "assert len(number_list) == 3\n",
    "assert isinstance(number_list[0], int) or isinstance(number_list[0], float)\n",
    "\n",
    "assert isinstance(boolean_list, list)\n",
    "assert len(boolean_list) == 3\n",
    "assert isinstance(boolean_list[0], bool)"
   ]
  },
  {
   "cell_type": "code",
   "execution_count": 15,
   "metadata": {
    "collapsed": true,
    "deletable": false,
    "editable": false,
    "nbgrader": {
     "checksum": "544d8b59fa6da274eb98b750344d85c0",
     "grade": true,
     "grade_id": "cell-04845071d9603b3d",
     "locked": true,
     "points": 1,
     "schema_version": 1,
     "solution": false
    }
   },
   "outputs": [],
   "source": [
    "assert isinstance(nested_list, list)\n",
    "assert len(nested_list) == 3\n",
    "assert isinstance(nested_list[0], list)"
   ]
  },
  {
   "cell_type": "markdown",
   "metadata": {
    "deletable": false,
    "editable": false,
    "nbgrader": {
     "checksum": "78ba92b8162ec3d2733faee24604b12c",
     "grade": false,
     "grade_id": "cell-fea426585a5f88c8",
     "locked": true,
     "schema_version": 1,
     "solution": false
    }
   },
   "source": [
    "## Part 2: Working With Collections\n",
    "\n",
    "This part covers working with collections - indexing and "
   ]
  },
  {
   "cell_type": "code",
   "execution_count": 16,
   "metadata": {
    "collapsed": true,
    "deletable": false,
    "editable": false,
    "nbgrader": {
     "checksum": "215055467878aae531b63e5584a02050",
     "grade": false,
     "grade_id": "cell-3793759b4aa62a90",
     "locked": true,
     "schema_version": 1,
     "solution": false
    }
   },
   "outputs": [],
   "source": [
    "# For QN &QN, the following lists are provided for you\n",
    "list_1 = [10, 20, 40, 50]\n",
    "list_2 = [13, 15, 17, 19, 22, 25]\n",
    "list_3 = [1, 2, 3, 4, 5, 6, 7, 8, 9, 10, 11]\n",
    "list_4 = [21, 9, 98, 289, 938]"
   ]
  },
  {
   "cell_type": "markdown",
   "metadata": {
    "deletable": false,
    "editable": false,
    "nbgrader": {
     "checksum": "d1767ee560f0e4521b6e8abc2d3fb573",
     "grade": false,
     "grade_id": "cell-e9aede81e57b6dfe",
     "locked": true,
     "schema_version": 1,
     "solution": false
    }
   },
   "source": [
    "## Qn - Indexing\n",
    "\n",
    "Do the following using Indexing:\n",
    "- Store the first value in list_1 to index_1\n",
    "- Store the first four values of list_2 to index 2\n",
    "- Store the last four values of list_3 to index 3 "
   ]
  },
  {
   "cell_type": "code",
   "execution_count": 50,
   "metadata": {
    "collapsed": true,
    "deletable": false,
    "nbgrader": {
     "checksum": "fd77c9e18b443390fee43cbcd6bccd19",
     "grade": false,
     "grade_id": "cell-650e61f820451347",
     "locked": false,
     "schema_version": 1,
     "solution": true
    }
   },
   "outputs": [],
   "source": [
    "# YOUR CODE HERE\n",
    "index_1_ans = list_1[0]\n",
    "index_2_ans = list_2[0:4]\n",
    "index_3_ans = list_3[-4:]\n"
   ]
  },
  {
   "cell_type": "code",
   "execution_count": 51,
   "metadata": {
    "collapsed": true,
    "deletable": false,
    "editable": false,
    "nbgrader": {
     "checksum": "e1d0d75cd987aeb2a94f0d15edfc5e32",
     "grade": true,
     "grade_id": "cell-2468c24a17df0b96",
     "locked": true,
     "points": 1,
     "schema_version": 1,
     "solution": false
    }
   },
   "outputs": [],
   "source": [
    "assert isinstance(index_1_ans, int)\n"
   ]
  },
  {
   "cell_type": "code",
   "execution_count": 52,
   "metadata": {
    "collapsed": true,
    "deletable": false,
    "editable": false,
    "nbgrader": {
     "checksum": "6ece3366e1ccc87f7f3e28a627b3c313",
     "grade": true,
     "grade_id": "cell-3ae0d083dd79537d",
     "locked": true,
     "points": 1,
     "schema_version": 1,
     "solution": false
    }
   },
   "outputs": [],
   "source": [
    "assert isinstance(index_2_ans, list)\n",
    "assert len(index_2_ans) == 4\n"
   ]
  },
  {
   "cell_type": "code",
   "execution_count": 53,
   "metadata": {
    "collapsed": true,
    "deletable": false,
    "editable": false,
    "nbgrader": {
     "checksum": "54ccd85c6dc59371eedef5c9434fcf91",
     "grade": true,
     "grade_id": "cell-f591dd9f036b0ffe",
     "locked": true,
     "points": 1,
     "schema_version": 1,
     "solution": false
    }
   },
   "outputs": [],
   "source": [
    "assert isinstance(index_3_ans, list)\n",
    "assert len(index_3_ans) == 4\n"
   ]
  },
  {
   "cell_type": "markdown",
   "metadata": {
    "deletable": false,
    "editable": false,
    "nbgrader": {
     "checksum": "89412ade0e0d39001e4d2c29d5d585b8",
     "grade": false,
     "grade_id": "cell-c8d61ad2ee7afecd",
     "locked": true,
     "schema_version": 1,
     "solution": false
    }
   },
   "source": [
    "## QN - Comparisons using Indexing\n",
    "\n",
    "Do the following Comparisons using Indexing:\n",
    "- Check if the first value of list_1 is one of the last three values in list_3 (Hint: remember operator 'in')\n",
    "    - Store the value in comp_result_1\n",
    "- Check if the third value of list_4 is greator than the fourth value in list_4\n",
    "    - Store the value in comp_result_2\n",
    "- Check if the last value of list_4 is less than the second value in list_4\n",
    "    - Store the value in comp_result_3\n",
    "- Check if the second value of list_2 multiplied by the seventh value of list_3 is greator than the second to last value in list_4\n",
    "    - Store the value in comp_result_4"
   ]
  },
  {
   "cell_type": "code",
   "execution_count": 63,
   "metadata": {
    "collapsed": true,
    "deletable": false,
    "nbgrader": {
     "checksum": "890fcf70cc9ce4598869c78f6a7d3d2c",
     "grade": false,
     "grade_id": "cell-58d83066fbe5dfa8",
     "locked": false,
     "schema_version": 1,
     "solution": true
    }
   },
   "outputs": [],
   "source": [
    "# YOUR CODE HERE\n",
    "comp_result_1 = index_1_ans in list_3[-3:]\n",
    "comp_result_2 = list_4[2] > list_4[3]\n",
    "comp_result_3 = list_4[len(list_4)-1] < list_4[1]\n",
    "comp_result_4 = (list_2[1] * list_3[6]) > list_4[-1]"
   ]
  },
  {
   "cell_type": "code",
   "execution_count": 64,
   "metadata": {
    "collapsed": true,
    "deletable": false,
    "editable": false,
    "nbgrader": {
     "checksum": "aba11dbb1476dbd77e9741d9bc17851c",
     "grade": true,
     "grade_id": "cell-2209a4edc72a8364",
     "locked": true,
     "points": 1,
     "schema_version": 1,
     "solution": false
    }
   },
   "outputs": [],
   "source": [
    "# Tests for QN\n",
    "assert isinstance(comp_result_1, bool)\n"
   ]
  },
  {
   "cell_type": "code",
   "execution_count": 65,
   "metadata": {
    "collapsed": true,
    "deletable": false,
    "editable": false,
    "nbgrader": {
     "checksum": "c5373f856a26f6adfb937d9f20a96844",
     "grade": true,
     "grade_id": "cell-6353d9279a80e98f",
     "locked": true,
     "points": 1,
     "schema_version": 1,
     "solution": false
    }
   },
   "outputs": [],
   "source": [
    "assert isinstance(comp_result_2, bool)\n"
   ]
  },
  {
   "cell_type": "code",
   "execution_count": 66,
   "metadata": {
    "collapsed": true,
    "deletable": false,
    "editable": false,
    "nbgrader": {
     "checksum": "40b32ec7fa3ac78c74f46bc62a0866b3",
     "grade": true,
     "grade_id": "cell-d75011cb18874b17",
     "locked": true,
     "points": 1,
     "schema_version": 1,
     "solution": false
    }
   },
   "outputs": [],
   "source": [
    "assert isinstance(comp_result_3, bool)\n"
   ]
  },
  {
   "cell_type": "code",
   "execution_count": 67,
   "metadata": {
    "collapsed": true,
    "deletable": false,
    "editable": false,
    "nbgrader": {
     "checksum": "5d99e6b7f145a882cbc50f008527bbc5",
     "grade": true,
     "grade_id": "cell-244b969301ac73e8",
     "locked": true,
     "points": 1,
     "schema_version": 1,
     "solution": false
    }
   },
   "outputs": [],
   "source": [
    "assert isinstance(comp_result_4, bool)\n"
   ]
  },
  {
   "cell_type": "markdown",
   "metadata": {
    "deletable": false,
    "editable": false,
    "nbgrader": {
     "checksum": "4eb5836d883be2371e8a738f305242bb",
     "grade": false,
     "grade_id": "cell-67c76df06249fd85",
     "locked": true,
     "schema_version": 1,
     "solution": false
    }
   },
   "source": [
    "## Part 3: Loops\n",
    "\n",
    "This part covers using loops. "
   ]
  },
  {
   "cell_type": "markdown",
   "metadata": {
    "deletable": false,
    "editable": false,
    "nbgrader": {
     "checksum": "83cb74e7c9e5593167f8a34e8108a5b2",
     "grade": false,
     "grade_id": "cell-d1c02544b309c059",
     "locked": true,
     "schema_version": 1,
     "solution": false
    }
   },
   "source": [
    "## QN\n",
    "\n",
    "For each of the scenarios below, indicate whether it is a procedure best done with a for loop, a while loop, or if the task is not something best done with a loop. \n",
    "\n",
    "- a) You want to apply a transform to every piece of data in a list. \n",
    "- b) You want to continuously update the position of a character displayed on a screen, as long as the status of the character is 'alive'.\n",
    "- c) You want to check three different value comparisons are all true together, each checking a different variable. \n",
    "- d) You want your computer to connect to an external network. As long as your connection status is False, you want to try and re-connect. "
   ]
  },
  {
   "cell_type": "code",
   "execution_count": 68,
   "metadata": {
    "collapsed": true,
    "deletable": false,
    "nbgrader": {
     "checksum": "c4f230e67146d4b90ef03c43dffbdac2",
     "grade": false,
     "grade_id": "cell-eb8a52c2ab3e909b",
     "locked": false,
     "schema_version": 1,
     "solution": true
    }
   },
   "outputs": [],
   "source": [
    "# YOUR CODE HERE\n",
    "loop_q_a = \"for\"\n",
    "loop_q_b = \"while\"\n",
    "loop_q_c = \"not_a_loop\"\n",
    "loop_q_d = \"while\""
   ]
  },
  {
   "cell_type": "code",
   "execution_count": 69,
   "metadata": {
    "collapsed": true,
    "deletable": false,
    "editable": false,
    "nbgrader": {
     "checksum": "436363ee57be05f84fbd57d69a73bbe4",
     "grade": true,
     "grade_id": "cell-78ffc841fc725614",
     "locked": true,
     "points": 1,
     "schema_version": 1,
     "solution": false
    }
   },
   "outputs": [],
   "source": [
    "assert loop_q_a in ['for', 'while', 'not_a_loop']\n"
   ]
  },
  {
   "cell_type": "code",
   "execution_count": 70,
   "metadata": {
    "collapsed": true,
    "deletable": false,
    "editable": false,
    "nbgrader": {
     "checksum": "34b583a3207d1cfe55029bc7191e32a6",
     "grade": true,
     "grade_id": "cell-b4743cbf55530c66",
     "locked": true,
     "points": 1,
     "schema_version": 1,
     "solution": false
    }
   },
   "outputs": [],
   "source": [
    "assert loop_q_b in ['for', 'while', 'not_a_loop']\n"
   ]
  },
  {
   "cell_type": "code",
   "execution_count": 71,
   "metadata": {
    "collapsed": true,
    "deletable": false,
    "editable": false,
    "nbgrader": {
     "checksum": "70fbf18c370cb08cad988d9e0c46bf07",
     "grade": true,
     "grade_id": "cell-474f765b4c8b51bb",
     "locked": true,
     "points": 1,
     "schema_version": 1,
     "solution": false
    }
   },
   "outputs": [],
   "source": [
    "assert loop_q_c in ['for', 'while', 'not_a_loop']\n"
   ]
  },
  {
   "cell_type": "code",
   "execution_count": 72,
   "metadata": {
    "collapsed": true,
    "deletable": false,
    "editable": false,
    "nbgrader": {
     "checksum": "3d157b583b5f6d0639ee450e2a842bb4",
     "grade": true,
     "grade_id": "cell-3f8ff16491f2e035",
     "locked": true,
     "points": 1,
     "schema_version": 1,
     "solution": false
    }
   },
   "outputs": [],
   "source": [
    "assert loop_q_d in ['for', 'while', 'not_a_loop']\n"
   ]
  },
  {
   "cell_type": "markdown",
   "metadata": {
    "deletable": false,
    "editable": false,
    "nbgrader": {
     "checksum": "03989b414291fca9ec8969f21ddce391",
     "grade": false,
     "grade_id": "cell-6787a1cddd91c8e2",
     "locked": true,
     "schema_version": 1,
     "solution": false
    }
   },
   "source": [
    "# QN\n",
    "\n",
    "What is the sum of all even numbers between 19 and 35?\n",
    "\n",
    "Answer this question using a for loop, and \n",
    "\n",
    "Hints:\n",
    "\n"
   ]
  },
  {
   "cell_type": "code",
   "execution_count": 76,
   "metadata": {
    "deletable": false,
    "nbgrader": {
     "checksum": "764c6ef553269c9a88f612fc0dd9ebe1",
     "grade": false,
     "grade_id": "cell-749ae260cbdc082d",
     "locked": false,
     "schema_version": 1,
     "solution": true
    }
   },
   "outputs": [
    {
     "name": "stdout",
     "output_type": "stream",
     "text": [
      "459\n"
     ]
    }
   ],
   "source": [
    "# YOUR CODE HERE\n",
    "int_list = list(range(19,36))\n",
    "sum = 0\n",
    "for num in int_list:\n",
    "    sum = sum + num\n",
    "print(sum)"
   ]
  },
  {
   "cell_type": "code",
   "execution_count": 77,
   "metadata": {
    "collapsed": true,
    "deletable": false,
    "nbgrader": {
     "checksum": "9fac72ce2e950dd04811ed004232bf55",
     "grade": false,
     "grade_id": "cell-6b415de65a9332be",
     "locked": false,
     "schema_version": 1,
     "solution": true
    }
   },
   "outputs": [],
   "source": [
    "# YOUR CODE HERE"
   ]
  },
  {
   "cell_type": "markdown",
   "metadata": {
    "deletable": false,
    "editable": false,
    "nbgrader": {
     "checksum": "92cfc007325161e9e774741ca9bd81fb",
     "grade": false,
     "grade_id": "cell-c300db24a54d4a1c",
     "locked": true,
     "schema_version": 1,
     "solution": false
    }
   },
   "source": [
    "## QN\n",
    "\n",
    "Write a while loop that adds the first 100 numbers (from 1 to 100) together.\n",
    "\n",
    "To do so, use a while loop that continues while the condition of `cur_num` being less than or equal to `stop_num`. \n",
    "\n",
    "Inside the loop, it should at the `cur_num` to total, and also add 1 to `cur_num`. "
   ]
  },
  {
   "cell_type": "code",
   "execution_count": 79,
   "metadata": {
    "collapsed": true,
    "deletable": false,
    "nbgrader": {
     "checksum": "462c51aa3140337a4814d67a5b563d16",
     "grade": false,
     "grade_id": "cell-fdabc8d0323473dd",
     "locked": false,
     "schema_version": 1,
     "solution": true
    }
   },
   "outputs": [],
   "source": [
    "# These variables provided for you - use them in your solution\n",
    "total = 0\n",
    "cur_num = 1\n",
    "stop_num = 100\n",
    "\n",
    "while cur_num < 100:\n",
    "    total = total+cur_num\n",
    "    cur_num = cur_num+1\n"
   ]
  },
  {
   "cell_type": "code",
   "execution_count": 80,
   "metadata": {
    "collapsed": true,
    "deletable": false,
    "editable": false,
    "nbgrader": {
     "checksum": "350ba5e89b36437d7b11cdc60450bc55",
     "grade": true,
     "grade_id": "cell-f6513546d3afb423",
     "locked": true,
     "points": 0,
     "schema_version": 1,
     "solution": false
    }
   },
   "outputs": [],
   "source": [
    "assert isinstance(cur_num, int)\n"
   ]
  },
  {
   "cell_type": "markdown",
   "metadata": {
    "deletable": false,
    "editable": false,
    "nbgrader": {
     "checksum": "c4387bfe00fa7c50ad56c8b32c72e4ef",
     "grade": false,
     "grade_id": "cell-725bfa3cd3b18281",
     "locked": true,
     "schema_version": 1,
     "solution": false
    }
   },
   "source": [
    "## Example Provided\n",
    "\n",
    "In the following examples we will need to use an operation to add something to a list. Some examples for doing so are provided. \n",
    "\n",
    "Given a list, `my_list` to add an item `my_item` to the end of the list, you can do `my_list.append(my_item)`. "
   ]
  },
  {
   "cell_type": "code",
   "execution_count": null,
   "metadata": {
    "collapsed": true,
    "deletable": false,
    "editable": false,
    "nbgrader": {
     "checksum": "b80ce82d10c9a426aa955c265707cc55",
     "grade": false,
     "grade_id": "cell-ed0ba20eb0e3b5a2",
     "locked": true,
     "schema_version": 1,
     "solution": false
    }
   },
   "outputs": [],
   "source": [
    "# Example of appending to a list\n",
    "my_list = ['a', 12, None]\n",
    "print('Before Append: ', my_list)\n",
    "my_list.append(True)\n",
    "print('After  Append: ', my_list)"
   ]
  },
  {
   "cell_type": "code",
   "execution_count": null,
   "metadata": {
    "collapsed": true,
    "deletable": false,
    "editable": false,
    "nbgrader": {
     "checksum": "d449c0124cb0f3010ee18fc30e7ae974",
     "grade": false,
     "grade_id": "cell-7f4539e95e27279e",
     "locked": true,
     "schema_version": 1,
     "solution": false
    }
   },
   "outputs": [],
   "source": [
    "# Example of using append with loops\n",
    "list_of_values = [0, 1, 2, 3]\n",
    "\n",
    "# Initialize an empty list that will be used to store outputs\n",
    "outputs = []\n",
    "\n",
    "# Loop through all items in `list_of_items`\n",
    "for item in list_of_values:\n",
    "    \n",
    "    # Add incremented item to the list of outputs\n",
    "    outputs.append(item + 1)\n",
    "\n",
    "# Check what outputs ends up as\n",
    "print(outputs)"
   ]
  },
  {
   "cell_type": "markdown",
   "metadata": {
    "deletable": false,
    "editable": false,
    "nbgrader": {
     "checksum": "cdef66c274c410ded1bc641d39fd87db",
     "grade": false,
     "grade_id": "cell-2cc1336ae40f8b46",
     "locked": true,
     "schema_version": 1,
     "solution": false
    }
   },
   "source": [
    "## QN\n",
    "\n",
    "Using `num_list`, write a for loop to loop across each value, multiplying it by -1. \n",
    "\n",
    "Store the result for each value, in a list called `eval_1`, by defining `eval_1` before the loop, and using `append` inside the loop. "
   ]
  },
  {
   "cell_type": "code",
   "execution_count": 82,
   "metadata": {
    "collapsed": true,
    "deletable": false,
    "editable": false,
    "nbgrader": {
     "checksum": "7ad18930b0a829df33acaf6ab89cbcd4",
     "grade": false,
     "grade_id": "cell-641140b560032dba",
     "locked": true,
     "schema_version": 1,
     "solution": false
    }
   },
   "outputs": [],
   "source": [
    "# This creates a list of all numbers from 1-12, inclusive\n",
    "num_list = list(range(1, 13))"
   ]
  },
  {
   "cell_type": "code",
   "execution_count": 83,
   "metadata": {
    "collapsed": true,
    "deletable": false,
    "nbgrader": {
     "checksum": "b7d4abf9da0d0760f3d622ef8011bfe3",
     "grade": false,
     "grade_id": "cell-c3c8595879347f24",
     "locked": false,
     "schema_version": 1,
     "solution": true
    }
   },
   "outputs": [],
   "source": [
    "# YOUR CODE HERE\n",
    "eval_1 = []\n",
    "for num1 in num_list:\n",
    "    eval_1.append(num1 * (-1))"
   ]
  },
  {
   "cell_type": "code",
   "execution_count": 84,
   "metadata": {
    "collapsed": true,
    "deletable": false,
    "editable": false,
    "nbgrader": {
     "checksum": "058bb8acbb29dfee1b4bbd22c266d36d",
     "grade": true,
     "grade_id": "cell-09e1d8d99d175d45",
     "locked": true,
     "points": 1,
     "schema_version": 1,
     "solution": false
    }
   },
   "outputs": [],
   "source": [
    "assert isinstance(eval_1, list)\n",
    "assert isinstance(eval_1[0], int)\n"
   ]
  },
  {
   "cell_type": "markdown",
   "metadata": {
    "deletable": false,
    "editable": false,
    "nbgrader": {
     "checksum": "3134c3b90cf73e86fa3ce471375cc4e8",
     "grade": false,
     "grade_id": "cell-2e620f0d0d3c43bb",
     "locked": true,
     "schema_version": 1,
     "solution": false
    }
   },
   "source": [
    "## Part 4: Pulling it Together - Adding Conditionals\n",
    "\n",
    "This part covers integrating collections and loops with conditional and operators. "
   ]
  },
  {
   "cell_type": "markdown",
   "metadata": {
    "deletable": false,
    "editable": false,
    "nbgrader": {
     "checksum": "ef27f81d60f2894c5e3e6460ea8b9a00",
     "grade": false,
     "grade_id": "cell-eb367ec505b710ab",
     "locked": true,
     "schema_version": 1,
     "solution": false
    }
   },
   "source": [
    "## QN\n",
    "\n",
    "Write some code that uses a loop to find all the values from `my_list` that are perfectly divisible by 3. \n",
    "\n",
    "Use a for loop to do this, and save any values from `my_list` that meet this condition into a new list called `div_3`. "
   ]
  },
  {
   "cell_type": "code",
   "execution_count": 3,
   "metadata": {
    "collapsed": true,
    "deletable": false,
    "editable": false,
    "nbgrader": {
     "checksum": "40a0643c78ca859524805b8f25ddc88c",
     "grade": false,
     "grade_id": "cell-1e48d1a05b449e67",
     "locked": true,
     "schema_version": 1,
     "solution": false
    }
   },
   "outputs": [],
   "source": [
    "# This list provided to use for the following questions\n",
    "data_list = [ -1, 20, -100, -40, 33, 97, -101, 45, -79, 96]"
   ]
  },
  {
   "cell_type": "code",
   "execution_count": 4,
   "metadata": {
    "collapsed": true,
    "deletable": false,
    "nbgrader": {
     "checksum": "202e703e47664533129cb7debd2ac083",
     "grade": false,
     "grade_id": "cell-b3adf3ba9e29eb9f",
     "locked": false,
     "schema_version": 1,
     "solution": true
    }
   },
   "outputs": [],
   "source": [
    "# YOUR CODE HERE\n",
    "div_3 = []\n",
    "for num2 in data_list:\n",
    "    if num2 % 3 == 0:\n",
    "        div_3.append(num2)"
   ]
  },
  {
   "cell_type": "code",
   "execution_count": 5,
   "metadata": {
    "collapsed": true,
    "deletable": false,
    "editable": false,
    "nbgrader": {
     "checksum": "3104884ac8f71b4e712771460c08b373",
     "grade": true,
     "grade_id": "cell-bb9b4796b7db8253",
     "locked": true,
     "points": 1,
     "schema_version": 1,
     "solution": false
    }
   },
   "outputs": [],
   "source": [
    "# Tests for QN\n",
    "assert isinstance(div_3, list)\n",
    "assert(len(div_3) == 3)\n"
   ]
  },
  {
   "cell_type": "markdown",
   "metadata": {
    "deletable": false,
    "editable": false,
    "nbgrader": {
     "checksum": "525d7c2eddf5f10cac5cf571c5d0d9c8",
     "grade": false,
     "grade_id": "cell-73a2d63f3ccd671f",
     "locked": true,
     "schema_version": 1,
     "solution": false
    }
   },
   "source": [
    "## QN\n",
    "\n",
    "Write a for loop that is going to check whether the values in `data_list` are even or odd. \n",
    "\n",
    "Use a for loop to do this. For each value, it should add `True` to a new list `is_even` if the value is even, and `False` to `is_even` if the value is odd. "
   ]
  },
  {
   "cell_type": "code",
   "execution_count": 6,
   "metadata": {
    "collapsed": true,
    "deletable": false,
    "nbgrader": {
     "checksum": "41ef55d5db8f8c834abe91a71110e86c",
     "grade": false,
     "grade_id": "cell-af4c9eabb79396f1",
     "locked": false,
     "schema_version": 1,
     "solution": true
    }
   },
   "outputs": [],
   "source": [
    "is_even = []\n",
    "for num3 in data_list:\n",
    "    if num3 % 2 == 0:\n",
    "        is_even.append(True)\n",
    "    else:\n",
    "        is_even.append(False)"
   ]
  },
  {
   "cell_type": "code",
   "execution_count": 7,
   "metadata": {
    "collapsed": true,
    "deletable": false,
    "editable": false,
    "nbgrader": {
     "checksum": "7819e1dd7aa09a9dd1041dcc52517f66",
     "grade": true,
     "grade_id": "cell-3b8896dd294ccc5a",
     "locked": true,
     "points": 1,
     "schema_version": 1,
     "solution": false
    }
   },
   "outputs": [],
   "source": [
    "# Tests for QN\n",
    "assert isinstance(is_even, list)\n",
    "assert(len(is_even) == len(data_list))\n"
   ]
  },
  {
   "cell_type": "markdown",
   "metadata": {
    "deletable": false,
    "editable": false,
    "nbgrader": {
     "checksum": "61afb2ef797d3ed6a24de24f5f15ccd3",
     "grade": false,
     "grade_id": "cell-a7a142ffaa3fd919",
     "locked": true,
     "schema_version": 1,
     "solution": false
    }
   },
   "source": [
    "## QN\n",
    "\n",
    "Write a for loop that will check each value list_for_1 to see if they are even or odd and whether they are positive or negative.\n",
    "- If they are both positive and even, encode this as the number 1\n",
    "- If they are both negative and odd, encode this as the the number -1\n",
    "- Otherwise, encode this as the number 0\n",
    "\n",
    "- Store the result for each value into a list called `num_type`"
   ]
  },
  {
   "cell_type": "code",
   "execution_count": 13,
   "metadata": {
    "deletable": false,
    "nbgrader": {
     "checksum": "442268afa769ca100d8f5b073c088445",
     "grade": false,
     "grade_id": "cell-c55e1457c131cb10",
     "locked": false,
     "schema_version": 1,
     "solution": true
    }
   },
   "outputs": [
    {
     "name": "stdout",
     "output_type": "stream",
     "text": [
      "if2\n",
      "if1\n",
      "else\n",
      "else\n",
      "else\n",
      "else\n",
      "else\n",
      "if2\n",
      "else\n",
      "if2\n",
      "if1\n",
      "else\n",
      "[-1, 1, 0, 0, 0, 0, 0, -1, 0, -1, 1, 0]\n"
     ]
    }
   ],
   "source": [
    "# YOUR CODE HERE\n",
    "\n",
    "num_type =[]\n",
    "\n",
    "for num4 in data_list:\n",
    "    if (num4 % 2 == 0) and (num4 > 0):\n",
    "        num_type.append(1)\n",
    "        print('if1')\n",
    "    if(num4 % 2 != 0) and (num4 < 0):\n",
    "        num_type.append(-1)\n",
    "        print('if2')\n",
    "    else:\n",
    "        num_type.append(0)\n",
    "        print('else')\n",
    "        \n",
    "print(num_type)"
   ]
  },
  {
   "cell_type": "code",
   "execution_count": 12,
   "metadata": {
    "collapsed": true,
    "deletable": false,
    "editable": false,
    "nbgrader": {
     "checksum": "ef5e5bf78b6629c4c56bbef71b7e7cbf",
     "grade": true,
     "grade_id": "cell-552f3b912ed4e050",
     "locked": true,
     "points": 1,
     "schema_version": 1,
     "solution": false
    }
   },
   "outputs": [],
   "source": [
    "# Tests for QN\n",
    "assert isinstance(num_type, list)\n",
    "assert(len(num_type) == len(data_list))\n"
   ]
  },
  {
   "cell_type": "markdown",
   "metadata": {
    "deletable": false,
    "editable": false,
    "nbgrader": {
     "checksum": "30ff0fe4e2089e1c367211717704b318",
     "grade": false,
     "grade_id": "cell-a3a7547d21a6280e",
     "locked": true,
     "schema_version": 1,
     "solution": false
    }
   },
   "source": [
    "### Looping through dictionaries"
   ]
  },
  {
   "cell_type": "code",
   "execution_count": 100,
   "metadata": {
    "deletable": false,
    "editable": false,
    "nbgrader": {
     "checksum": "be6c0bfca70da63a964d0fbf1d11f556",
     "grade": false,
     "grade_id": "cell-bd6757d215cb7de1",
     "locked": true,
     "schema_version": 1,
     "solution": false
    }
   },
   "outputs": [
    {
     "name": "stdout",
     "output_type": "stream",
     "text": [
      "New Loop Iteration\n",
      "\tKey is:\t key1\n",
      "\tVal is:\t value1\n",
      "New Loop Iteration\n",
      "\tKey is:\t key2\n",
      "\tVal is:\t value2\n"
     ]
    }
   ],
   "source": [
    "# This example of looping through dictionaries provided\n",
    "dictionary = {\n",
    "    'key1' : 'value1', \n",
    "    'key2' : 'value2'\n",
    "}\n",
    "\n",
    "for item in dictionary:\n",
    "    \n",
    "    # When you loop through a dictionary like this, `item` is the key \n",
    "    key = item\n",
    "    \n",
    "    # Using the key, you can access the associaed value of the dictionary from within the loop\n",
    "    value = dictionary[item]\n",
    "    \n",
    "    # Print out data for each loop iteration\n",
    "    print('New Loop Iteration')\n",
    "    print('\\tKey is:\\t', item)\n",
    "    print('\\tVal is:\\t', value)"
   ]
  },
  {
   "cell_type": "markdown",
   "metadata": {
    "deletable": false,
    "editable": false,
    "nbgrader": {
     "checksum": "09bb89d95dc87adbb19218051186d782",
     "grade": false,
     "grade_id": "cell-1694dc598d6bbca5",
     "locked": true,
     "schema_version": 1,
     "solution": false
    }
   },
   "source": [
    "# QN\n",
    "\n",
    "Using the dictionary `subjects` write a for loop that loops across the dictionary and collects all subject numbers (ex. 'S1') where the dictionary value is False. \n",
    "\n",
    "Imagine, for example, the dictionary indicates whether processing is complete, and we wanted to get a list of the subjects that need more analyses. \n",
    "\n",
    "To answer this question, use a for loop across the `subjects` dictionary. You then need to get the associated value in each iteration, and check if it is `True`. If it is `True`, you can use `continue` to skip ahead to the next iteration. Otherwise, append the subject number (ex 'S1') to a list called `not_finished`. "
   ]
  },
  {
   "cell_type": "code",
   "execution_count": 3,
   "metadata": {
    "collapsed": true,
    "deletable": false,
    "editable": false,
    "nbgrader": {
     "checksum": "b4147954e75c764e4063bb3af76af1b1",
     "grade": false,
     "grade_id": "cell-5bf21a3d8e202cdd",
     "locked": true,
     "schema_version": 1,
     "solution": false
    }
   },
   "outputs": [],
   "source": [
    "# This dictionary provided for you\n",
    "subjects = {\n",
    "    'S1' : True,\n",
    "    'S2' : False,\n",
    "    'S3' : True,\n",
    "    'S4' : False,\n",
    "}"
   ]
  },
  {
   "cell_type": "code",
   "execution_count": 4,
   "metadata": {
    "deletable": false,
    "nbgrader": {
     "checksum": "096c62755cea3b6b6fd6b2d5913c72cd",
     "grade": false,
     "grade_id": "cell-1118d6a4ac43e87d",
     "locked": false,
     "schema_version": 1,
     "solution": true
    }
   },
   "outputs": [],
   "source": [
    "# YOUR CODE HERE\n",
    "not_finished = []\n",
    "for item1 in subjects:\n",
    "    key = item1\n",
    "    value = subjects[item1]\n",
    "    if value == True:\n",
    "        continue\n",
    "    else:\n",
    "        not_finished.append(key)"
   ]
  },
  {
   "cell_type": "code",
   "execution_count": 5,
   "metadata": {
    "deletable": false,
    "editable": false,
    "nbgrader": {
     "checksum": "368e176d615034bda3a92eae3c73edf9",
     "grade": true,
     "grade_id": "cell-36d719f579df1fe3",
     "locked": true,
     "points": 1,
     "schema_version": 1,
     "solution": false
    }
   },
   "outputs": [],
   "source": [
    "assert isinstance(not_finished, list)\n",
    "assert len(not_finished) == 2\n"
   ]
  },
  {
   "cell_type": "markdown",
   "metadata": {
    "deletable": false,
    "editable": false,
    "nbgrader": {
     "checksum": "42eee3e841cbdb56111880528abfacd6",
     "grade": false,
     "grade_id": "cell-ad7046936e9e00e4",
     "locked": true,
     "schema_version": 1,
     "solution": false
    }
   },
   "source": [
    "## Part 5: Application - Ciphers\n",
    "\n",
    "This part is an application of all the tools we have covered so far, to the problem of creating and using ciphers. \n",
    "\n",
    "A cipher is procedure for encoding and decoding secret messages (or encrypted data). \n",
    "\n",
    "To work on this application, we are going to need to use loops and collections. \n",
    "\n",
    "It also uses concepts and ideas from encoding and decoding - and in particular the operators `ord` and `chr`. "
   ]
  },
  {
   "cell_type": "code",
   "execution_count": 113,
   "metadata": {
    "collapsed": true,
    "deletable": false,
    "editable": false,
    "nbgrader": {
     "checksum": "84ffedbce4d116453c1c8ff5fee48f13",
     "grade": false,
     "grade_id": "cell-53b9584b1a10f99d",
     "locked": true,
     "schema_version": 1,
     "solution": false
    }
   },
   "outputs": [],
   "source": [
    "# Setup - run this cell before doing the next part of the assignment\n",
    "import os\n",
    "if not os.path.exists('A2Code'):\n",
    "    os.mkdir('A2Code')"
   ]
  },
  {
   "cell_type": "code",
   "execution_count": 114,
   "metadata": {
    "deletable": false,
    "editable": false,
    "nbgrader": {
     "checksum": "4e9fb7bd2be0734a678db4e0de68667d",
     "grade": false,
     "grade_id": "cell-68ddb79404b001e6",
     "locked": true,
     "schema_version": 1,
     "solution": false
    }
   },
   "outputs": [
    {
     "name": "stdout",
     "output_type": "stream",
     "text": [
      "Original Message:\t Hello from Tom.\n",
      "Encoded Message:\t ĐĭĴĴķèĮĺķĵèĜķĵö\n",
      "Decoded Message:\t Hello from Tom.\n"
     ]
    }
   ],
   "source": [
    "# Example / outline of writing a cipher\n",
    "#   The following shows a layour of writing a cipher.\n",
    "#   You will be writing code to actually do the encoding / decoding.\n",
    "\n",
    "# Create a message\n",
    "original_message = 'Hello from Tom.'\n",
    "print('Original Message:\\t', original_message)\n",
    "\n",
    "# First, Apply Encoding Code, to convert to an encoded message\n",
    "encoded = 'ĐĭĴĴķèĮĺķĵèĜķĵö'\n",
    "print('Encoded Message:\\t', encoded)\n",
    "\n",
    "# Then, Apply Decoding Code, to decode into an interpretable message\n",
    "decoded = 'Hello from Tom.'\n",
    "print('Decoded Message:\\t', decoded)"
   ]
  },
  {
   "cell_type": "markdown",
   "metadata": {
    "deletable": false,
    "editable": false,
    "nbgrader": {
     "checksum": "bcca2798a713f0fc5cefda1cdafe5c47",
     "grade": false,
     "grade_id": "cell-ab7b89763863cab9",
     "locked": true,
     "schema_version": 1,
     "solution": false
    }
   },
   "source": [
    "## QN - Creating an Encoder\n",
    "\n",
    "Write a code block to encode strings into a secret message.\n",
    "\n",
    "To do so:\n",
    "- Initialize a variable called `encoded` as an empty string\n",
    "- Use a for loop to loop across all characters of a presumed string variable called `message`\n",
    "    - Inside the loop, convert the character to another character:\n",
    "        - Get the unicode code point for the character (using `ord`)\n",
    "        - Add the value of `key` to that code point (which should be an int)\n",
    "        - Convert this new int back to a character (using `chr`).\n",
    "    - Also inside the loop, add this converted char to the string `encoded`"
   ]
  },
  {
   "cell_type": "code",
   "execution_count": 139,
   "metadata": {
    "deletable": false,
    "nbgrader": {
     "checksum": "24c3bc66d9dc5e247c5956273fc1c1de",
     "grade": false,
     "grade_id": "cell-d77bc7ed64441ebc",
     "locked": false,
     "schema_version": 1,
     "solution": true
    }
   },
   "outputs": [
    {
     "name": "stdout",
     "output_type": "stream",
     "text": [
      "Overwriting A2Code/encoder.py\n"
     ]
    }
   ],
   "source": [
    "%%writefile A2Code/encoder.py\n",
    "\n",
    "# YOUR CODE HERE\n",
    "length = len(message)\n",
    "index = 0\n",
    "encoded = ''\n",
    "while index < length:\n",
    "    letter = ord(message[index])\n",
    "    encLetter = letter + key\n",
    "    newLetter = chr(encLetter)\n",
    "    encoded = encoded + newLetter\n",
    "    index = index + 1\n"
   ]
  },
  {
   "cell_type": "code",
   "execution_count": 140,
   "metadata": {
    "deletable": false,
    "editable": false,
    "nbgrader": {
     "checksum": "73fb5be09d11ac6b1f8c5183015c0d6e",
     "grade": true,
     "grade_id": "cell-8dbc526034a66ab8",
     "locked": true,
     "points": 1,
     "schema_version": 1,
     "solution": false
    }
   },
   "outputs": [
    {
     "name": "stdout",
     "output_type": "stream",
     "text": [
      "Original Message: \t hello\n",
      "Encoded Message: \t İĭĴĴķ\n"
     ]
    }
   ],
   "source": [
    "key = 200\n",
    "message = 'hello'\n",
    "\n",
    "%run -i ./A2Code/encoder.py  \n",
    "\n",
    "assert isinstance(encoded, str)\n",
    "assert encoded == 'İĭĴĴķ'\n",
    "\n",
    "print('Original Message: \\t', message)\n",
    "print('Encoded Message: \\t', encoded)"
   ]
  },
  {
   "cell_type": "markdown",
   "metadata": {
    "deletable": false,
    "editable": false,
    "nbgrader": {
     "checksum": "f61e8dde4a9c67f907e430299d24f5b8",
     "grade": false,
     "grade_id": "cell-be1de673d67eba1e",
     "locked": true,
     "schema_version": 1,
     "solution": false
    }
   },
   "source": [
    "## QN - Decoder\n",
    "\n",
    "Write a code block to decode strings from secret encodings back to readable messages.\n",
    "\n",
    "To do so:\n",
    "- Initialize a variable called `decoded` as an empty string\n",
    "- Use a for loop to loop across all characters of a presumed string variable called `encoded`\n",
    "    - Inside the loop, convert the character to another character:\n",
    "        - Get the unicode code point for the character (using `ord`)\n",
    "        - Subtract the value of `key` to that code point (which should be an int)\n",
    "            - This undoes the secret encoding of the character, getting back to the original value\n",
    "        - Convert this new int back to a character (using `chr`).\n",
    "    - Also inside the loop, add this converted char to the string `decoded`\n",
    "    \n",
    "Note that the code to answer this question should look very similar to how you answered the encoding question. \n",
    "\n",
    "In fact, you can even copy over the encoding code, and make some small changes to make it function as a decoder. "
   ]
  },
  {
   "cell_type": "code",
   "execution_count": 142,
   "metadata": {
    "deletable": false,
    "nbgrader": {
     "checksum": "4a534009f9be1387110f07410e185633",
     "grade": false,
     "grade_id": "cell-b629dac4beccd5f1",
     "locked": false,
     "schema_version": 1,
     "solution": true
    }
   },
   "outputs": [
    {
     "name": "stdout",
     "output_type": "stream",
     "text": [
      "Overwriting A2Code/decoder.py\n"
     ]
    }
   ],
   "source": [
    "%%writefile A2Code/decoder.py\n",
    "\n",
    "# YOUR CODE HERE\n",
    "decoded = ''\n",
    "length = len(encoded)\n",
    "index = 0\n",
    "while index < length:\n",
    "    letter = ord(encoded[index])\n",
    "    decLetter = letter - key\n",
    "    newLetter = chr(decLetter)\n",
    "    decoded = decoded + newLetter\n",
    "    index = index + 1\n"
   ]
  },
  {
   "cell_type": "code",
   "execution_count": 143,
   "metadata": {
    "deletable": false,
    "editable": false,
    "nbgrader": {
     "checksum": "5b1459c29eb132c7b21587f1ee1f6005",
     "grade": true,
     "grade_id": "cell-ddf1c25663771ad8",
     "locked": true,
     "points": 1,
     "schema_version": 1,
     "solution": false
    }
   },
   "outputs": [
    {
     "name": "stdout",
     "output_type": "stream",
     "text": [
      "Encoded Message: \t İĭĴĴķ\n",
      "Decoded Message: \t hello\n"
     ]
    }
   ],
   "source": [
    "key = 200\n",
    "encoded = 'İĭĴĴķ'\n",
    "\n",
    "%run -i ./A2Code/decoder.py  \n",
    "\n",
    "assert isinstance(decoded, str)\n",
    "assert decoded == 'hello'\n",
    "\n",
    "print('Encoded Message: \\t', encoded)\n",
    "print('Decoded Message: \\t', decoded)"
   ]
  },
  {
   "cell_type": "markdown",
   "metadata": {
    "deletable": false,
    "editable": false,
    "nbgrader": {
     "checksum": "7f0e99a6d08ee7749e432e306229720f",
     "grade": false,
     "grade_id": "cell-49c1def4bac243df",
     "locked": true,
     "schema_version": 1,
     "solution": false
    }
   },
   "source": [
    "### Using the encoder and decoder together\n",
    "\n",
    "The following are a couple examples of using the encoder and decoder together. "
   ]
  },
  {
   "cell_type": "code",
   "execution_count": 144,
   "metadata": {
    "deletable": false,
    "editable": false,
    "nbgrader": {
     "checksum": "b015cc80943ab9078230b58fa749b580",
     "grade": false,
     "grade_id": "cell-420d2e0fa1938e1c",
     "locked": true,
     "schema_version": 1,
     "solution": false
    }
   },
   "outputs": [
    {
     "name": "stdout",
     "output_type": "stream",
     "text": [
      "\n",
      "Original Message: \t This is a secret message\n",
      "\n",
      "Encoded Message: \t ɈɜɝɧȔɝɧȔɕȔɧəɗɦəɨȔɡəɧɧɕɛə\n",
      "\n",
      "Decoded Message: \t This is a secret message \n",
      "\n"
     ]
    }
   ],
   "source": [
    "# Using the encoder\n",
    "key = 500\n",
    "message = 'This is a secret message'\n",
    "\n",
    "%run -i ./A2Code/encoder.py  \n",
    "%run -i ./A2Code/decoder.py\n",
    "\n",
    "print('\\nOriginal Message: \\t', message)\n",
    "print('\\nEncoded Message: \\t', encoded)\n",
    "print('\\nDecoded Message: \\t', decoded, '\\n')\n",
    "\n",
    "assert message == decoded"
   ]
  },
  {
   "cell_type": "code",
   "execution_count": 145,
   "metadata": {
    "deletable": false,
    "editable": false,
    "nbgrader": {
     "checksum": "284e24bceddb374654c943f022940429",
     "grade": false,
     "grade_id": "cell-95d08670ebc7cb33",
     "locked": true,
     "schema_version": 1,
     "solution": false
    }
   },
   "outputs": [
    {
     "name": "stdout",
     "output_type": "stream",
     "text": [
      "\n",
      "Original Message: \t Python is pretty cool, eh?\n",
      "\n",
      "Encoded Message: \t иѡќѐїіЈёћЈјњэќќѡЈыїїєДЈэѐЧ\n",
      "\n",
      "Decoded Message: \t Python is pretty cool, eh? \n",
      "\n"
     ]
    }
   ],
   "source": [
    "# Using the encoder\n",
    "key = 1000\n",
    "message = 'Python is pretty cool, eh?'\n",
    "\n",
    "%run -i ./A2Code/encoder.py  \n",
    "%run -i ./A2Code/decoder.py\n",
    "\n",
    "print('\\nOriginal Message: \\t', message)\n",
    "print('\\nEncoded Message: \\t', encoded)\n",
    "print('\\nDecoded Message: \\t', decoded, '\\n')\n",
    "\n",
    "assert message == decoded"
   ]
  },
  {
   "cell_type": "markdown",
   "metadata": {
    "deletable": false,
    "editable": false,
    "nbgrader": {
     "checksum": "147a19c6de2caa464ae175b9ea3d2998",
     "grade": false,
     "grade_id": "cell-33767095feda58a6",
     "locked": true,
     "schema_version": 1,
     "solution": false
    }
   },
   "source": [
    "## Using a Custom Encoder\n",
    "\n",
    "The encoder & decoding we did above is built on conversions based on manipulating uncide code points.\n",
    "\n",
    "If a potential attacker wanted to decode our messages, and happened to know we were using this approach, there are some relatively simple ways that they could try to figure out our encoding key, and then, if successful decode our messages. \n",
    "\n",
    "Thought experiment: can you think of ways to decode messages that use this encoding?\n",
    "\n",
    "To thwart this potential attacker, let's now explore using a custom encoding. Instead of manipulating code points, we are going to use a custom mapping to switch out characters to encode our messages. "
   ]
  },
  {
   "cell_type": "code",
   "execution_count": 146,
   "metadata": {
    "collapsed": true,
    "deletable": false,
    "editable": false,
    "nbgrader": {
     "checksum": "4b59c29f2a8ba40c52670afc5b3a422a",
     "grade": false,
     "grade_id": "cell-20abeb97a9593a92",
     "locked": true,
     "schema_version": 1,
     "solution": false
    }
   },
   "outputs": [],
   "source": [
    "# Custom encoding dictionary provided - make sure you run this cell\n",
    "#   In thish encoding, each key will get switched out for the associated value\n",
    "#     So, for example, whenever we see an 'a', we want to switch it out for an 'r'. \n",
    "custom_encodings = {\n",
    "    'a' : 'r', \n",
    "    'e' : 'p', \n",
    "    'i' : 'm',\n",
    "    'o' : 'n',\n",
    "    'u' : 's'\n",
    "}"
   ]
  },
  {
   "cell_type": "markdown",
   "metadata": {
    "deletable": false,
    "editable": false,
    "nbgrader": {
     "checksum": "b4ea7ebf62bdfd38208761f704e7973c",
     "grade": false,
     "grade_id": "cell-b100f42a04e547a9",
     "locked": true,
     "schema_version": 1,
     "solution": false
    }
   },
   "source": [
    "## QN\n",
    "\n",
    "Write a code block to encode strings from original messages, using our custom encoding.\n",
    "\n",
    "To do so:\n",
    "- Initialize a variable called `custom_encoded` as an empty string\n",
    "- Use a for loop to loop across all characters of a presumed string variable called `custom_message`\n",
    "    - Inside the loop, check if the current character is in the `custom_encodings` dictionary\n",
    "        - If it is, use the current char to get the value from `custom_encodings`, and concatenate it to `custom_encoded`\n",
    "            - The line inside the if should look something like `out = out + dictionary[char]\n",
    "        - Otherwise, concatenate the current character to `custom_encoded`\n",
    "\n",
    "In fact, you can even copy over the encoding code, and make some small changes to make it function as a decoder. \n"
   ]
  },
  {
   "cell_type": "code",
   "execution_count": 150,
   "metadata": {
    "deletable": false,
    "nbgrader": {
     "checksum": "b8c56c6740113a374b46316180e0ead3",
     "grade": false,
     "grade_id": "cell-c71c52f6393468cd",
     "locked": false,
     "schema_version": 1,
     "solution": true
    }
   },
   "outputs": [
    {
     "name": "stdout",
     "output_type": "stream",
     "text": [
      "Overwriting A2Code/custom_encoder.py\n"
     ]
    }
   ],
   "source": [
    "%%writefile A2Code/custom_encoder.py\n",
    "\n",
    "# YOUR CODE HERE\n",
    "custom_encoded = ''\n",
    "for char in custom_message:\n",
    "    if char in custom_encodings:\n",
    "        custom_encoded = custom_encoded + (custom_encodings[char])\n",
    "    else:\n",
    "        custom_encoded = custom_encoded +char"
   ]
  },
  {
   "cell_type": "code",
   "execution_count": 151,
   "metadata": {
    "deletable": false,
    "editable": false,
    "nbgrader": {
     "checksum": "3f0c698b38b61e7f7740760c7f6adc1d",
     "grade": true,
     "grade_id": "cell-66b937622cc2a5f6",
     "locked": true,
     "points": 1,
     "schema_version": 1,
     "solution": false
    }
   },
   "outputs": [
    {
     "name": "stdout",
     "output_type": "stream",
     "text": [
      "\n",
      "Original Message: \t vowels aint great\n",
      "\n",
      "Encoded Message: \t vnwpls rmnt grprt \n",
      "\n"
     ]
    }
   ],
   "source": [
    "custom_message = 'vowels aint great'\n",
    "\n",
    "%run -i ./A2Code/custom_encoder.py\n",
    "\n",
    "assert isinstance(custom_encoded, str)\n",
    "assert custom_encoded == 'vnwpls rmnt grprt'\n",
    "\n",
    "print('\\nOriginal Message: \\t', custom_message)\n",
    "print('\\nEncoded Message: \\t', custom_encoded, '\\n')"
   ]
  },
  {
   "cell_type": "code",
   "execution_count": null,
   "metadata": {
    "collapsed": true,
    "deletable": false,
    "editable": false,
    "nbgrader": {
     "checksum": "476c67cb79ac66ecc63d6c0b7068bc68",
     "grade": false,
     "grade_id": "cell-ad2a410017a10fa3",
     "locked": true,
     "schema_version": 1,
     "solution": false
    }
   },
   "outputs": [],
   "source": [
    "## QN - Encodings with variable keys"
   ]
  },
  {
   "cell_type": "code",
   "execution_count": 1,
   "metadata": {
    "deletable": false,
    "nbgrader": {
     "checksum": "568ec1f58b74119cef46d843c9f8d918",
     "grade": false,
     "grade_id": "cell-06e54039038018ff",
     "locked": false,
     "schema_version": 1,
     "solution": true
    }
   },
   "outputs": [
    {
     "name": "stdout",
     "output_type": "stream",
     "text": [
      "Overwriting A2Code/variable_encoder.py\n"
     ]
    }
   ],
   "source": [
    "%%writefile A2Code/variable_encoder.py\n",
    "\n",
    "length = len(message)\n",
    "index = 0\n",
    "encoded = ''\n",
    "key=start_key\n",
    "while index < length:\n",
    "    letter = ord(message[index])\n",
    "    encLetter = letter + key\n",
    "    newLetter = chr(encLetter)\n",
    "    encoded = encoded + newLetter\n",
    "    index = index + 1\n",
    "    key = key + key_increment\n"
   ]
  },
  {
   "cell_type": "code",
   "execution_count": 2,
   "metadata": {
    "deletable": false,
    "editable": false,
    "nbgrader": {
     "checksum": "d354bc5506be2e9d7392af089120d421",
     "grade": true,
     "grade_id": "cell-929fe5d77dbe70be",
     "locked": true,
     "points": 1,
     "schema_version": 1,
     "solution": false
    }
   },
   "outputs": [
    {
     "name": "stdout",
     "output_type": "stream",
     "text": [
      "\n",
      "Original Message: \t By the way, what we're doing here basically the same as encryption\n",
      "\n",
      "Encoded Message: \t ØĒ¼ēĊĊÈĢďĪà×ıĥġķæŀıöńĺøĿōŊŒŎĊŕŕťśęŞŠŵŮūŬźŽƍķƎƅƅŃƙƊƙƔŒƖƫśƣƯƧƹǃƽǄƼǅǇ \n",
      "\n"
     ]
    }
   ],
   "source": [
    "message = \"By the way, what we're doing here basically the same as encryption\"\n",
    "\n",
    "start_key = 150\n",
    "key_increment = 3\n",
    "\n",
    "%run -i ./A2Code/variable_encoder.py\n",
    "\n",
    "assert isinstance(encoded, str)\n",
    "assert encoded == \"ØĒ¼ēĊĊÈĢďĪà×ıĥġķæŀıöńĺøĿōŊŒŎĊŕŕťśęŞŠŵŮūŬźŽƍķƎƅƅŃƙƊƙƔŒƖƫśƣƯƧƹǃƽǄƼǅǇ\"\n",
    "\n",
    "print('\\nOriginal Message: \\t', message)\n",
    "print('\\nEncoded Message: \\t', encoded, '\\n')"
   ]
  },
  {
   "cell_type": "markdown",
   "metadata": {
    "deletable": false,
    "editable": false,
    "nbgrader": {
     "checksum": "5f4d24faef28f2fd549eb8aa07903fce",
     "grade": false,
     "grade_id": "cell-853d707bf2388ec1",
     "locked": true,
     "schema_version": 1,
     "solution": false
    }
   },
   "source": [
    "## Breaking a Variable Encoder\n",
    "\n",
    "### Extra (optional) Information for the Curious - on Cryptography & Alan Turing\n",
    "\n",
    "This kind of 'variable encoder' in which the encoding transform updates every time it is applied is much harder for an outside attacker to break (if they do not know the initial key, and the way it changes every application). \n",
    "\n",
    "This is, broadly, the kind of encryption which was used by German forces in World War II to encode messages - the ENIGMA code. \n",
    "\n",
    "This approach is, however, still breakable - it just takes a lot of clever analysis and number crunching. During World War II, Alan Turing, having already at that point done fundamental work developing the very concept of a digital computer, developed machines and algorithms to try to break the German Enigma code, eventually managing to decode it with his team at Bletchley Park.\n",
    "\n",
    "Cracking this code was a huge development in the war - it is estimated this code breaking work, which allowed the Allies to decode messages and anticipate German actions, may have shortened the war by up 2 to 3 years, saving millions of lives in the process.\n",
    "\n",
    "By the early 1950s, though his codebreaking work was still stricly confidential and he was largely unknown by the general public, Alan Turing had gone on to make other huge contributions to the fields of computation and artificial intelligence, amongst others, that would go on to have massive impact on the modern world. \n",
    "\n",
    "The British government, who years before had employed him as a codebreaker, then prosecuted Alan Turing for homosexual activity, and forced him to undergo chemical castration. Alan Turing died of suicde in 1954, at the age of 41. \n",
    "\n",
    "For more information on Alan Turing, check out the article linked below, and/or look into the movie `The Imitation Game`, a dramatization of his work on code breaking during the war. \n",
    "\n",
    "Short Article on Alan Turing: https://www.bbc.com/news/technology-18419691"
   ]
  },
  {
   "cell_type": "markdown",
   "metadata": {
    "deletable": false,
    "editable": false,
    "nbgrader": {
     "checksum": "c02bf38d3c2aa8db261508225a4eef7d",
     "grade": false,
     "grade_id": "cell-f6c8677ae268ef0c",
     "locked": true,
     "schema_version": 1,
     "solution": false
    }
   },
   "source": [
    "## Variable Decoder\n",
    "\n",
    "The code below is provided for you, that performs decoding of a variable decoder. \n",
    "\n",
    "To do so, it needs to know the `start_key` and `key_increment` that were used."
   ]
  },
  {
   "cell_type": "code",
   "execution_count": 3,
   "metadata": {
    "deletable": false,
    "editable": false,
    "nbgrader": {
     "checksum": "d05c4c5390cf8558d862e13932019105",
     "grade": false,
     "grade_id": "cell-6c4c97678e235460",
     "locked": true,
     "schema_version": 1,
     "solution": false
    }
   },
   "outputs": [
    {
     "name": "stdout",
     "output_type": "stream",
     "text": [
      "Overwriting A2Code/variable_decoder.py\n"
     ]
    }
   ],
   "source": [
    "%%writefile A2Code/variable_decoder.py\n",
    "\n",
    "# Knowing the start key, and the length of the message, we can reconstruct the current key\n",
    "key = start_key + (len(encoded) * key_increment)\n",
    "\n",
    "decoded = ''\n",
    "\n",
    "# Note that this decodes the message backwards, stepping back along key values\n",
    "for char in encoded[::-1]:\n",
    "    \n",
    "    # Step the key back one step, and apply to current character\n",
    "    key = key - key_increment\n",
    "    decoded = decoded + chr(ord(char) - key)\n",
    "    \n",
    "# Having decoded backwords, flip the message back around\n",
    "decoded = decoded[::-1]"
   ]
  },
  {
   "cell_type": "markdown",
   "metadata": {
    "deletable": false,
    "editable": false,
    "nbgrader": {
     "checksum": "b7f3e820109e40b58f7d48c41492c813",
     "grade": false,
     "grade_id": "cell-416d486e4a812411",
     "locked": true,
     "schema_version": 1,
     "solution": false
    }
   },
   "source": [
    "## Decoding a provided message\n",
    "\n",
    "The cell below has an encoded message, using variable encoding, and the `start_key` and `key_increment` needed to decode. \n",
    "\n",
    "Run the following cell to execute the decoding code from above, and decode the message. "
   ]
  },
  {
   "cell_type": "code",
   "execution_count": 4,
   "metadata": {
    "deletable": false,
    "editable": false,
    "nbgrader": {
     "checksum": "599512f18546ae5c6dde7d13afddada3",
     "grade": false,
     "grade_id": "cell-a2860aa46a9d8762",
     "locked": true,
     "schema_version": 1,
     "solution": false
    }
   },
   "outputs": [
    {
     "name": "stdout",
     "output_type": "stream",
     "text": [
      "Hey y'all - I hope you are enjoying the assignment!\n",
      "\n",
      "Either way you are done now, so congrats on that!\n",
      "\n",
      "By the way, if you happen to really like this cipher stuff - following up on this stuff will be a project option.\n",
      "\n",
      "From, Tom\n"
     ]
    }
   ],
   "source": [
    "# Do decoding on message above\n",
    "encoded = \"\"\"Ãâø¡ü¬èõ÷­¼±ÜµÿĈċĂ¿ĚĒĚÇĊĝĒÏĖġğĦĲĤīĦáķĭĬéĬŀłĺĺŃńľŉőĀëíĪŐŝœŒšđŪŖŰęŴŬŴġŤŷŬĩůżŽŶĳƃƆƐŇĽƒƐŃƈƖ\\\n",
    "ƗƒƟƐƥƦŕƦƧśƱƧƢƷŦőœƍǆůǅƻƺŷǐƼǖƋƁǌǋƇǢǚǢƏǙǔǥǧǞǩƝǳǰƣǷǬǪǷǹȈƱǿǾȂǾƻȑȇȊȖǅȊȒțȕȔȣǓȨȫȮȡȣǟǮǣȫȶȵȷȼɆȺɁȼǷɎɋǽɎɏȃəɏɒ\\\n",
    "ɞȍɢɥɨɛɝșɲɦɫɭȣɧɬȩɬȭɿʃʂɿɼɼʏȽʎʑʗʎʖʗəȷȹɷʥʤʤɥɛʑʮʮ\"\"\"\n",
    "\n",
    "start_key = 123\n",
    "key_increment = 2\n",
    "\n",
    "%run -i ./A2Code/variable_decoder.py\n",
    "\n",
    "print(decoded)"
   ]
  },
  {
   "cell_type": "markdown",
   "metadata": {
    "deletable": false,
    "editable": false,
    "nbgrader": {
     "checksum": "c1fa3944cc1625068f6e6cd7e426721b",
     "grade": false,
     "grade_id": "cell-40d37bfa22765f04",
     "locked": true,
     "schema_version": 1,
     "solution": false
    }
   },
   "source": [
    "## The End!\n",
    "\n",
    "This is the end of the assignment!\n",
    "Have a look back over your answers, and also make sure to Restart & Run All from the kernel menu to double check that everything is working properly. \n",
    "\n",
    "When you are ready to submit your assignment, upload it to TritonED under Assignment-2."
   ]
  }
 ],
 "metadata": {
  "kernelspec": {
   "display_name": "Python 3",
   "language": "python",
   "name": "python3"
  },
  "language_info": {
   "codemirror_mode": {
    "name": "ipython",
    "version": 3
   },
   "file_extension": ".py",
   "mimetype": "text/x-python",
   "name": "python",
   "nbconvert_exporter": "python",
   "pygments_lexer": "ipython3",
   "version": "3.6.3"
  }
 },
 "nbformat": 4,
 "nbformat_minor": 2
}
