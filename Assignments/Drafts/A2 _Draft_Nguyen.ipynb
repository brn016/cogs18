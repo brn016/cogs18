{
 "cells": [
  {
   "cell_type": "markdown",
   "metadata": {},
   "source": [
    "## First part on data types probably\n",
    "\n",
    "Lists: exactly what they sound like, a list of values, each is assigned a numerical index starting at 0, you can remove/add values using the indicies <br />\n",
    "Tuples: kind of like lists but you can't change their values, index starts at 0 <br />\n",
    "Dictionaries: similar to list because you can access/add/delete, but dictionaries are essentially a list of paired objects. Each pair has a key and a value. Similar to a physical dictionary, you look up a word (key) to find its definition (value)"
   ]
  },
  {
   "cell_type": "markdown",
   "metadata": {},
   "source": [
    "I'm not sure how to approach creating problems around just initializing data types here. But noting that these data types can store different types of values would be cool."
   ]
  },
  {
   "cell_type": "code",
   "execution_count": 10,
   "metadata": {},
   "outputs": [],
   "source": [
    "# Example of how lists/tuples/dictionaries can hold multiple types\n",
    "\n",
    "new_list = [\"Cogs\", 18, \"is awesome =\", True]\n",
    "new_tuple = (\"Cogs\", 18, \"is awesome =\", True)\n",
    "new_dict = {\"COGS Course: \" : 18, \"Prof: \" : \"Tom\", \"Lecture Hall: \": \"WLH2005\", \"Awesomeness?\": True}"
   ]
  },
  {
   "cell_type": "code",
   "execution_count": 1,
   "metadata": {},
   "outputs": [],
   "source": [
    "# Problem with a list made up of lists\n",
    "\n",
    "# You can make lists ... filled with lists! List-ception. Create a list called \"nested_list\" that has 3 lists in it: a list called 'months' with all\n",
    "# the months of the year, a list called 'num_list' which has numbers 0-9, and a list called 'staff' with the first names of all \n",
    "# the COGS 18 staff\n",
    "\n",
    "months = [\"January\", \"February\", \"March\", \"April\", \"May\", \"June\", \"July\", \"August\", \"September\", \n",
    "          \"October\", \"November\", \"December\"]\n",
    "num_list = list(range(0, 10))\n",
    "staff = [\"Tom\", \"Rob\", \"Daril\", \"Paolo\", \"Peilin\", \"Luis\", \"Brandon\", \"Zehua\"]\n",
    "\n",
    "nested_list = [months, num_list, staff]"
   ]
  },
  {
   "cell_type": "code",
   "execution_count": 4,
   "metadata": {},
   "outputs": [],
   "source": [
    "# Tests for previous cell\n",
    "\n",
    "assert isinstance(nested_list, list)\n",
    "\n",
    "# Hidden tests\n",
    "assert len(months) == 12\n",
    "assert len(num_list) == 10\n",
    "assert len(staff) == 8"
   ]
  },
  {
   "cell_type": "markdown",
   "metadata": {},
   "source": [
    "## Part on Loops\n",
    "While loops will execute whatever code is in them as long as the condition for the while loop is true\n",
    "For loops will iterate over the items in a sequence "
   ]
  },
  {
   "cell_type": "code",
   "execution_count": 11,
   "metadata": {},
   "outputs": [],
   "source": [
    "# Problem on basic loops with lists\n",
    "\n",
    "# Using either a while loop or a for loop, create a list that houses values 0 to 19 inclusive.\n",
    "\n",
    "# Sample Answer with a for loop\n",
    "my_list = []\n",
    "for index in range(0,20):\n",
    "    my_list.append(index)\n",
    "\n",
    "# Sample Answer with a while loop\n",
    "count = 0\n",
    "my_list = []\n",
    "while(count < 20):\n",
    "    my_list.append(count)\n",
    "    count = count + 1"
   ]
  },
  {
   "cell_type": "code",
   "execution_count": 4,
   "metadata": {},
   "outputs": [],
   "source": [
    "# Tests to see if they created the list or not\n",
    "\n",
    "assert isinstance(my_list, list)\n",
    "\n",
    "#Hidden Tests?\n",
    "assert(len(my_list) == 20)\n",
    "for int in my_list:\n",
    "    assert(int == my_list[int])"
   ]
  },
  {
   "cell_type": "code",
   "execution_count": 5,
   "metadata": {},
   "outputs": [],
   "source": [
    "# Problem on a loop with a nested conditional\n",
    "# Using my_list, using a loop, create a list called div_3 of all the values that are perfectly divisble by 3 \n",
    "# (its okay if 0 is in this list as well)\n",
    "\n",
    "div_3 = []\n",
    "for int in my_list:\n",
    "    if(my_list[int]%3 == 0):\n",
    "        div_3.append(int)"
   ]
  },
  {
   "cell_type": "code",
   "execution_count": 9,
   "metadata": {},
   "outputs": [],
   "source": [
    "#Tests for the previous cell\n",
    "\n",
    "assert isinstance(div_3, list)\n",
    "\n",
    "#Hidden Tests?\n",
    "assert(len(div_3) == 7)\n",
    "div_3_ans = [0,3,6,9,12,15,18]\n",
    "i = 0\n",
    "for i in range(0, 6):\n",
    "    assert(div_3[i] == div_3_ans[i])"
   ]
  },
  {
   "cell_type": "code",
   "execution_count": 17,
   "metadata": {},
   "outputs": [
    {
     "name": "stdout",
     "output_type": "stream",
     "text": [
      "1 \n",
      "1 2 \n",
      "1 2 3 \n",
      "1 2 3 4 \n",
      "1 2 3 4 5 \n"
     ]
    }
   ],
   "source": [
    "# Problem using nested loops\n",
    "\n",
    "# Using nested loops, you will create a pattern that looks like this:\n",
    "# 1\n",
    "# 1 2\n",
    "# 1 2 3\n",
    "# 1 2 3 4\n",
    "# 1 2 3 4 5\n",
    "\n",
    "# Sample answer\n",
    "\n",
    "index_outer = 1\n",
    "while index_outer < 6:\n",
    "    index_inner = 1\n",
    "    while index_inner <= index_outer:\n",
    "        print(index_inner, end=\" \")\n",
    "        index_inner = index_inner + 1\n",
    "    print(\"\")\n",
    "    index_outer = index_outer + 1"
   ]
  }
 ],
 "metadata": {
  "kernelspec": {
   "display_name": "Python 3",
   "language": "python",
   "name": "python3"
  },
  "language_info": {
   "codemirror_mode": {
    "name": "ipython",
    "version": 3
   },
   "file_extension": ".py",
   "mimetype": "text/x-python",
   "name": "python",
   "nbconvert_exporter": "python",
   "pygments_lexer": "ipython3",
   "version": "3.6.3"
  }
 },
 "nbformat": 4,
 "nbformat_minor": 2
}
