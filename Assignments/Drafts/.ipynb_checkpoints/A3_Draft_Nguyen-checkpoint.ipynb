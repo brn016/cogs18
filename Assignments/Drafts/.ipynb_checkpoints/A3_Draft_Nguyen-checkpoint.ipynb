{
 "cells": [
  {
   "cell_type": "markdown",
   "metadata": {},
   "source": [
    "# Functions in python"
   ]
  },
  {
   "cell_type": "markdown",
   "metadata": {},
   "source": [
    "Let's start with the calculator functions that we did in a previous assignment just to refresh them, I feel like this could be a good introduction to use in a CL or the start of an assignment"
   ]
  },
  {
   "cell_type": "code",
   "execution_count": 2,
   "metadata": {
    "collapsed": true
   },
   "outputs": [],
   "source": [
    "def summation(num1, num2):\n",
    "    return num1 + num2\n",
    "def subtraction(num1, num2):\n",
    "    return num1 - num2\n",
    "def multiplication(num1, num2):\n",
    "    return num1 * num2\n",
    "def division(num1, num2):\n",
    "    return num1 / num2"
   ]
  },
  {
   "cell_type": "code",
   "execution_count": 12,
   "metadata": {},
   "outputs": [],
   "source": [
    "# ublic Tests\n",
    "assert summation\n",
    "assert subtraction\n",
    "assert multiplication\n",
    "assert division\n",
    "\n",
    "# Private Tests\n",
    "assert summation(10,5) == 15\n",
    "assert subtraction(16,7) == 9\n",
    "assert multiplication(18, 2) == 36\n",
    "assert division(24, 3) == 8"
   ]
  },
  {
   "cell_type": "markdown",
   "metadata": {},
   "source": [
    "Let's add some more functions to our calculator. \n",
    "   - Write a function called squared() that takes one parameter and returns the square. \n",
    "   - Write a function called square_root() that takes one parameter and returns the square root."
   ]
  },
  {
   "cell_type": "code",
   "execution_count": 16,
   "metadata": {
    "collapsed": true
   },
   "outputs": [],
   "source": [
    "def square(num):\n",
    "    return num**2\n",
    "def square_root(num):\n",
    "    return num**(1/2)"
   ]
  },
  {
   "cell_type": "code",
   "execution_count": 17,
   "metadata": {},
   "outputs": [],
   "source": [
    "assert square\n",
    "assert square_root\n",
    "\n",
    "assert square(5) == 25\n",
    "assert square_root(144) == 12"
   ]
  },
  {
   "cell_type": "markdown",
   "metadata": {},
   "source": [
    "Here's a challenge, how would you program a square root function without using the ** operator or the ^ operator?\n",
    "   - Write a function called square_root_challenge that takes one parameter and return the square root, if there is no perfect\n",
    "     square, then return the sting \"No perfect square for this number, sorry!\"\n",
    " \n",
    "(This could be a good exploration question)"
   ]
  },
  {
   "cell_type": "code",
   "execution_count": 28,
   "metadata": {},
   "outputs": [],
   "source": [
    "def square_root_challenge(num):\n",
    "    half = num/2\n",
    "    ind = 0\n",
    "    while ind <= half:\n",
    "        if ind * ind == num:\n",
    "            return ind\n",
    "        ind = ind + 1\n",
    "    return \"No perfect square for this number, sorry!\""
   ]
  },
  {
   "cell_type": "code",
   "execution_count": 31,
   "metadata": {},
   "outputs": [],
   "source": [
    "# Public test\n",
    "assert square_root_challenge\n",
    "# Private test\n",
    "assert square_root_challenge(10) == \"No perfect square for this number, sorry!\"\n",
    "assert square_root_challenge(225) == 15"
   ]
  },
  {
   "cell_type": "markdown",
   "metadata": {},
   "source": [
    "## Functions with data types"
   ]
  },
  {
   "cell_type": "markdown",
   "metadata": {},
   "source": [
    "Write a function called squared_all that takes a tuple of integers as a parameter, and returns a list of their squares called square_list"
   ]
  },
  {
   "cell_type": "code",
   "execution_count": 45,
   "metadata": {
    "collapsed": true
   },
   "outputs": [],
   "source": [
    "def squared_all(tup):\n",
    "    square_list = []\n",
    "    for ind in tup:\n",
    "        square_list.append(square(ind))\n",
    "    return square_list"
   ]
  },
  {
   "cell_type": "code",
   "execution_count": 47,
   "metadata": {},
   "outputs": [],
   "source": [
    "# Public test\n",
    "assert squared_all\n",
    "\n",
    "# Private Test\n",
    "my_tup = [1, 2, 3, 4, 5, 6, 7, 8, 9]\n",
    "my_tup_check = [1, 4, 9, 16, 25, 36, 49, 64, 81]\n",
    "assert  squared_all(my_tup) == my_tup_check"
   ]
  },
  {
   "cell_type": "markdown",
   "metadata": {},
   "source": []
  }
 ],
 "metadata": {
  "kernelspec": {
   "display_name": "Python 3",
   "language": "python",
   "name": "python3"
  },
  "language_info": {
   "codemirror_mode": {
    "name": "ipython",
    "version": 3
   },
   "file_extension": ".py",
   "mimetype": "text/x-python",
   "name": "python",
   "nbconvert_exporter": "python",
   "pygments_lexer": "ipython3",
   "version": "3.6.3"
  }
 },
 "nbformat": 4,
 "nbformat_minor": 2
}
