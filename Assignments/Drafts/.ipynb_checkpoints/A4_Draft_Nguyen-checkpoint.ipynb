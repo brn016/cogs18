{
 "cells": [
  {
   "cell_type": "markdown",
   "metadata": {},
   "source": [
    "We can start with simple classes and methods by making an addressbook. \n",
    "\n",
    "We're going to create a new class called 'Contact' that will have the following attributes: name (a string), phone_number (an int), and whether this is their cell_phone number or not (a boolean value). \n",
    "\n",
    "The class methods will be an initializer that takes two parameters and 'calling' which create a new string that will be: \"Calling NAME at NUMBER\" and then it will return the string"
   ]
  },
  {
   "cell_type": "code",
   "execution_count": 41,
   "metadata": {},
   "outputs": [],
   "source": [
    "# Answer\n",
    "class Contact():\n",
    "    def __init__(self, name, number):\n",
    "            self.name = name\n",
    "            self.number = number\n",
    "            \n",
    "    def calling(self):\n",
    "        print(\"Calling \" + self.name + \" at \" + str(self.number))"
   ]
  },
  {
   "cell_type": "code",
   "execution_count": 42,
   "metadata": {},
   "outputs": [],
   "source": [
    "# Test\n",
    "\n",
    "assert Contact\n",
    "assert isinstance(Contact, object)"
   ]
  },
  {
   "cell_type": "markdown",
   "metadata": {},
   "source": [
    "Here is a list of fake contact information you can use to create contacts. Please create a new contact object for each person and store all these contacts in a list called address_book.\n",
    "\n",
    "    Tom 2377576\n",
    "    Daril 1668472\n",
    "    Rob 9895366\n",
    "    Paolo 8041859\n",
    "    "
   ]
  },
  {
   "cell_type": "code",
   "execution_count": 43,
   "metadata": {
    "collapsed": true
   },
   "outputs": [],
   "source": [
    "# Answer\n",
    "\n",
    "cont1 = Contact('Tom', 2377576)\n",
    "cont2 = Contact('Daril', 1668472)\n",
    "cont3 = Contact('Rob', 9895366)\n",
    "cont4 = Contact('Paolo', 9895366)\n",
    "\n",
    "address_book = [cont1, cont2, cont3, cont4]"
   ]
  },
  {
   "cell_type": "code",
   "execution_count": 40,
   "metadata": {},
   "outputs": [],
   "source": [
    "# Test\n",
    "assert len(address_book) == 4\n",
    "assert isinstance(address_book[2], Contact)"
   ]
  },
  {
   "cell_type": "markdown",
   "metadata": {},
   "source": [
    "Now write a function named 'call_all' that will take in a list and will use the calling method on every contact object."
   ]
  },
  {
   "cell_type": "code",
   "execution_count": 44,
   "metadata": {
    "collapsed": true
   },
   "outputs": [],
   "source": [
    "def call_all(contact_list):\n",
    "    for person in contact_list:\n",
    "        person.calling()"
   ]
  },
  {
   "cell_type": "code",
   "execution_count": 46,
   "metadata": {},
   "outputs": [
    {
     "name": "stdout",
     "output_type": "stream",
     "text": [
      "Calling Tom at 2377576\n",
      "Calling Daril at 1668472\n",
      "Calling Rob at 9895366\n",
      "Calling Paolo at 9895366\n"
     ]
    }
   ],
   "source": [
    "# Test\n",
    "assert callable(call_all)\n",
    "call_all(address_book)"
   ]
  }
 ],
 "metadata": {
  "kernelspec": {
   "display_name": "Python 3",
   "language": "python",
   "name": "python3"
  },
  "language_info": {
   "codemirror_mode": {
    "name": "ipython",
    "version": 3
   },
   "file_extension": ".py",
   "mimetype": "text/x-python",
   "name": "python",
   "nbconvert_exporter": "python",
   "pygments_lexer": "ipython3",
   "version": "3.6.3"
  }
 },
 "nbformat": 4,
 "nbformat_minor": 2
}
