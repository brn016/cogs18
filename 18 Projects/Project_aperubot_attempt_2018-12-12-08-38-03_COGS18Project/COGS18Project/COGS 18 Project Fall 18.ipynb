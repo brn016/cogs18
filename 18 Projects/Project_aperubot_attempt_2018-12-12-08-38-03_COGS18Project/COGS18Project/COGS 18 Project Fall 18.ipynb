{
 "cells": [
  {
   "cell_type": "markdown",
   "metadata": {},
   "source": [
    "# Project Description\n",
    "\n",
    "My project analyzes a webpage and returns certain information regarding the webpage. The user has control over what webpage and what word(s) to analyze. Specifically, this project analyzes various Terms and Conditions and returns data based on the user's inputs. \n",
    "\n",
    "For the first input option: the user can choose from the options below. This input IS case-sensitive\n",
    "   \n",
    "For the second input option: the user inputs any word they want to search. This input is NOT case-sensitive\n",
    "   \n",
    "Note: Do not put space after either inputs \n",
    "\n",
    "   \n",
    "The outputs are the number of the times the search word appears in the webpage, the frequency of the word in comparison to the total number of words, and a separate tab where the webpage that was analyzed will open"
   ]
  },
  {
   "cell_type": "markdown",
   "metadata": {},
   "source": [
    "# Project Code "
   ]
  },
  {
   "cell_type": "code",
   "execution_count": null,
   "metadata": {},
   "outputs": [],
   "source": [
    "#Note: Do not put space after inputs\n",
    "from my_module.termsAndConditionsSearchFunction import termsAndConditionsSearch"
   ]
  },
  {
   "cell_type": "code",
   "execution_count": null,
   "metadata": {},
   "outputs": [],
   "source": [
    "termsAndConditionsSearch()"
   ]
  },
  {
   "cell_type": "code",
   "execution_count": null,
   "metadata": {},
   "outputs": [],
   "source": []
  }
 ],
 "metadata": {
  "kernelspec": {
   "display_name": "Python 3",
   "language": "python",
   "name": "python3"
  },
  "language_info": {
   "codemirror_mode": {
    "name": "ipython",
    "version": 3
   },
   "file_extension": ".py",
   "mimetype": "text/x-python",
   "name": "python",
   "nbconvert_exporter": "python",
   "pygments_lexer": "ipython3",
   "version": "3.7.0"
  }
 },
 "nbformat": 4,
 "nbformat_minor": 2
}
