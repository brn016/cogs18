{
 "cells": [
  {
   "cell_type": "markdown",
   "metadata": {},
   "source": [
    "# TarotBot\n",
    "### An interactive virtual fortune teller.\n",
    "\n",
    "My final project is called TarotBot, in an attempt to create a fortune-teller like atmosphere with a chatbot. It is centered around the major aracana cards, which are the main 22 cards in a tarot deck, each with its own significance and meaning. \n",
    "\n",
    "TarotBot is built off of the chatbot created in A3, with modifications that allow thechatbot to function a little more like an interactive fortune teller session. The bot prompts the user to either ask a question or offers to draw a card right away. The card is drawn using a randomized selector function and is then matched with a brief description of its meaning by \n",
    "means of an indexing function. The result is an interactive experience similar to getting your fortune told by a Tarot Card reader!"
   ]
  },
  {
   "cell_type": "code",
   "execution_count": 1,
   "metadata": {},
   "outputs": [],
   "source": [
    "import string\n",
    "import random\n",
    "import nltk"
   ]
  },
  {
   "cell_type": "code",
   "execution_count": 2,
   "metadata": {},
   "outputs": [],
   "source": [
    "CARDS = [' ~ The Fool ~ ', ' ~ The Magician ~ ', ' ~ The High Priestess ~ ',  ' ~ The Empress ~`',\\\n",
    "         ' ~ The Emperor ~ ', ' ~ The Heirophant ~ ','~ The Lovers ~', ' ~ The Chariot ~ ',\\\n",
    "         ' ~ Justice ~ ', ' ~ The Hermit ~ ', ' ~ Wheel of Fortune ~ ', ' ~ Strength ~ ', ' ~ The Hanged Man ~ ',\\\n",
    "         ' ~ Death ~ ', ' ~ Temperance ~ ', ' ~ The Devil ~ ', ' ~ The Tower ~ ', ' ~ The Star ~ ',\\\n",
    "         ' ~ The Moon ~ ', ' ~ The Sun ~ ', ' ~ Judgement ~ ', ' ~ The World ~ ']\n",
    " \n",
    "CARDS_DESC = ['I see spontaniety and innocence influencing the outcome.',\\\n",
    "              'I see great self-empowerment, try to be strong and take initiative in your situation.',\\\n",
    "              'Try to listen to the voice within you.', 'Look toward a maternal relationship, or try to reconnect with nature.',\\\n",
    "              'Look inside yourself, or look toward a paternal figure.',\\\n",
    "              'Look toward a mentor to guide you.', 'I see a strong relationship on the horizon.',\\\n",
    "              'Focus your mind and stand your ground, the answer is inside of you.',\\\n",
    "              'Keep Karma in mind, and know that all of your decisions affect your life.',\\\n",
    "              'Step back and focus on yourself and how you feel about the situation.',\\\n",
    "              'I sense a change of course coming your way.',\\\n",
    "              'All the strength you need is inside you. Be brave!',\\\n",
    "              'A difficult situatiton awaits you, and you may have to make a great sacrifice',\\\n",
    "              'Something in your life needs closure. After the storm, you will feel a positive transformation.',\\\n",
    "              'Focus on cooperation and compromise. Practice self restraint.',\\\n",
    "              'An unhealthy relationship with a person or substance is holding you back.',\\\n",
    "              'Brace yourself for a change, an unexpected upheaval is approaching.',\\\n",
    "              'An unknown force will bring light and positivity into your life.',\\\n",
    "              'Fear and anxiety may plague you... Do not doubt yourself in trying times.',\\\n",
    "              'Vitality and enlightenment await you in times to come. Be patient.',\\\n",
    "              'Seek forgiveness, not from others, but from yourself.',\\\n",
    "              'You are near completion in an important part of your life!  Rejoice!']\n",
    "    \n",
    "UNKNOWN = ['I am sorry, the cards do not know what you mean.', 'I am sorry, try again']"
   ]
  },
  {
   "cell_type": "code",
   "execution_count": 3,
   "metadata": {},
   "outputs": [],
   "source": [
    "def is_question(input_string):\n",
    "    \n",
    "    output = bool\n",
    "    \n",
    "    if '?' in input_string:\n",
    "        output = True\n",
    "    else:\n",
    "        output = False\n",
    "    return output\n",
    "\n",
    "def ask_question(input_string):\n",
    "    \n",
    "    output = bool\n",
    "    \n",
    "    if input_string in ['question', 'ask']:\n",
    "        output = True\n",
    "    else:\n",
    "        output = False\n",
    "    return output\n",
    "\n",
    "def is_msg_question(input_string):\n",
    "    list_1 = input_string.split()\n",
    "    if 'question' in list_1:\n",
    "        return True\n",
    "    elif 'ask' in list_1:\n",
    "        return True\n",
    "    else:\n",
    "        return False"
   ]
  },
  {
   "cell_type": "code",
   "execution_count": 4,
   "metadata": {},
   "outputs": [],
   "source": [
    "def introduction():\n",
    "    print('Greetings. Would you like to ask a question, or shall I just draw a card?')"
   ]
  },
  {
   "cell_type": "code",
   "execution_count": 5,
   "metadata": {},
   "outputs": [],
   "source": [
    "def remove_punctuation(input_string):\n",
    "    out_string = ''\n",
    "    for character in input_string:\n",
    "        if character not in string.punctuation:\n",
    "            out_string += character\n",
    "        else:\n",
    "            pass\n",
    "    return out_string"
   ]
  },
  {
   "cell_type": "code",
   "execution_count": 6,
   "metadata": {},
   "outputs": [],
   "source": [
    "def list_to_string(input_list, separator):\n",
    "    output = input_list[0]\n",
    "    \n",
    "    for item in input_list[1:]:\n",
    "        output = string_concatenator(output, item, separator)\n",
    "    \n",
    "    return output"
   ]
  },
  {
   "cell_type": "code",
   "execution_count": 7,
   "metadata": {},
   "outputs": [],
   "source": [
    "def prepare_text(input_string):\n",
    "    \n",
    "    input_string = input_string.lower()\n",
    "    \n",
    "    input_string = remove_punctuation(input_string)\n",
    "    \n",
    "    out_list = input_string.split()\n",
    "    \n",
    "    return out_list"
   ]
  },
  {
   "cell_type": "code",
   "execution_count": 8,
   "metadata": {},
   "outputs": [],
   "source": [
    "def selector(return_list):\n",
    "    output = None \n",
    "    output = random.choice(return_list)\n",
    "      \n",
    "    return output"
   ]
  },
  {
   "cell_type": "code",
   "execution_count": 9,
   "metadata": {},
   "outputs": [],
   "source": [
    "def end_chat(input_string):\n",
    "    input_string = input_string.lower()\n",
    "    \n",
    "    input_string = remove_punctuation(input_string)\n",
    "    \n",
    "    output_list = input_string.split()\n",
    "    \n",
    "    if 'quit' in output_list:\n",
    "        output = True\n",
    "    else:\n",
    "        output = False\n",
    "    return output"
   ]
  },
  {
   "cell_type": "code",
   "execution_count": 11,
   "metadata": {},
   "outputs": [],
   "source": [
    "#tests\n",
    "def test_is_question():\n",
    "    assert isinstance(is_question(input_string), bool)\n",
    "\n",
    "    assert is_question('what?') == True\n",
    "\n",
    "    assert is_question('huh') == False\n",
    "\n",
    "def test_msg_question():\n",
    "    assert  isinstance(is_msg_question(input_string), bool)\n",
    "\n",
    "    assert is_msg_question('ask a question') == True\n",
    "\n",
    "    assert is_msg_question('draw a card') == False\n",
    "\n",
    "def test_remv_punct():\n",
    "    assert isinstance(remove_punctuation(input_string), string)\n",
    "\n",
    "    assert remove_punctuation('h.e:ll~o~') == 'hello'\n",
    "\n",
    "    assert remove_punctuation('i. tried. my. best.') == 'i tried my best'\n",
    "\n",
    "\n",
    "def test_prepare_text():\n",
    "    assert isinstance(prepare_text(input_string), list)\n",
    "\n",
    "    assert prepare_text('HeL.lo') == 'hello'\n",
    "\n",
    "    assert prepare_text('Smelborp.is Problems backwards!') == ['smelborp', 'is', 'problems', 'backwards']\n",
    "    \n",
    "def test_selector():\n",
    "    assert isinstance(selector(return_list), string)\n",
    "\n",
    "    assert selector(['in', 'words'], ['words'], ['yes']) == 'yes'\n",
    "    \n",
    "    assert selector(['in', 'words'], ['out'], ['yes']) == None\n",
    "\n",
    "def test_end_chat():\n",
    "    assert isinstance(end_chat(['test1', 'test2']), bool)\n",
    "    \n",
    "    assert end_chat(['quit']) == True\n"
   ]
  },
  {
   "cell_type": "code",
   "execution_count": 12,
   "metadata": {},
   "outputs": [],
   "source": [
    "def TarotBot():\n",
    "    \n",
    "    chat = True\n",
    "    #allows the bot to prompt a certain response\n",
    "    introduction()\n",
    "    while chat:\n",
    "        \n",
    "        msg = input('INPUT :\\t')\n",
    "        out_msg = None\n",
    "    \n",
    "        # to end the chat\n",
    "        if end_chat(msg):\n",
    "            out_msg = 'Thank you, come again.'\n",
    "            print(out_msg)\n",
    "            chat = False\n",
    "            \n",
    "        if not out_msg:\n",
    "            outs = []\n",
    "            #now I want to make it so we have the proper response according to the answer of the question\n",
    "            question = is_msg_question(msg)\n",
    "            \n",
    "            if question == True:\n",
    "                print('Excellent. What would you like to know?')\n",
    "                response = input('INPUT :\\t')\n",
    "                selected_card = selector(CARDS)\n",
    "            else:\n",
    "                print('Alright, I shall draw a card for you.')\n",
    "                selected_card = selector(CARDS)\n",
    "            \n",
    "        \n",
    "            card_index = CARDS.index(selected_card)\n",
    "            \n",
    "            \n",
    "            print(selected_card)\n",
    "            print(CARDS_DESC[card_index])\n",
    "            \n",
    "            print('Would you like to ask another question, draw another card, or quit?')\n",
    "            \n",
    "        "
   ]
  },
  {
   "cell_type": "code",
   "execution_count": 13,
   "metadata": {
    "scrolled": true
   },
   "outputs": [
    {
     "name": "stdout",
     "output_type": "stream",
     "text": [
      "Greetings. Would you like to ask a question, or shall I just draw a card?\n",
      "INPUT :\task a question\n",
      "Excellent. What would you like to know?\n",
      "INPUT :\twhat will my grade look like\n",
      " ~ The High Priestess ~ \n",
      "Try to listen to the voice within you.\n",
      "Would you like to ask another question, draw another card, or quit?\n",
      "INPUT :\tdraw a card\n",
      "Alright, I shall draw a card for you.\n",
      " ~ Wheel of Fortune ~ \n",
      "I sense a change of course coming your way.\n",
      "Would you like to ask another question, draw another card, or quit?\n",
      "INPUT :\tdraw a card\n",
      "Alright, I shall draw a card for you.\n",
      " ~ The Hermit ~ \n",
      "Step back and focus on yourself and how you feel about the situation.\n",
      "Would you like to ask another question, draw another card, or quit?\n",
      "INPUT :\tquit\n",
      "Thank you, come again.\n"
     ]
    }
   ],
   "source": [
    "TarotBot()"
   ]
  }
 ],
 "metadata": {
  "kernelspec": {
   "display_name": "Python 3",
   "language": "python",
   "name": "python3"
  },
  "language_info": {
   "codemirror_mode": {
    "name": "ipython",
    "version": 3
   },
   "file_extension": ".py",
   "mimetype": "text/x-python",
   "name": "python",
   "nbconvert_exporter": "python",
   "pygments_lexer": "ipython3",
   "version": "3.7.0"
  }
 },
 "nbformat": 4,
 "nbformat_minor": 2
}
