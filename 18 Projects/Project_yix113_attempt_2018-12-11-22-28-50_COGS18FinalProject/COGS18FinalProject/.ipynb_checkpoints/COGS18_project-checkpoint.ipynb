{
 "cells": [
  {
   "cell_type": "markdown",
   "metadata": {},
   "source": [
    "Project Description\n",
    "\n",
    "This project is a little game where different types of bots would run on a grid. six types of bots are defined in this project: WanderBot, which moves randomly; ExploreBot, which generally moves towards the same direction but occasionally moves randomly; TeleportBot, which moves randomly most of the times but occasionally gets teleported to a random location on the grid; horizontalBot, which moves only from left to right on the grid; diagonalBot, which moves randomly on the diagonal line; BotEater, which eats the other bots that it runs into. \n",
    "\n",
    "Users can define the grid size, the number of Bots that they want for each type of bots."
   ]
  },
  {
   "cell_type": "code",
   "execution_count": 1,
   "metadata": {},
   "outputs": [],
   "source": [
    "def check_bounds (position, size):\n",
    "    \n",
    "    for ele in position:\n",
    "        if ele < 0 or ele >= size:\n",
    "            return False\n",
    "    return True"
   ]
  },
  {
   "cell_type": "code",
   "execution_count": 2,
   "metadata": {},
   "outputs": [],
   "source": [
    "import random\n",
    "import string\n",
    "\n",
    "from time import sleep\n",
    "from IPython.display import clear_output"
   ]
  },
  {
   "cell_type": "code",
   "execution_count": 3,
   "metadata": {},
   "outputs": [],
   "source": [
    "def add_lists (list1, list2):\n",
    "    \n",
    "    output = []\n",
    "    \n",
    "    for e1, e2 in zip (list1, list2):\n",
    "        output.append (e1 + e2)\n",
    "    return output"
   ]
  },
  {
   "cell_type": "code",
   "execution_count": 4,
   "metadata": {},
   "outputs": [],
   "source": [
    "class Bot():\n",
    "    \n",
    "    def __init__ (self, character = 8982):\n",
    "        \n",
    "        self.character = chr(character)\n",
    "        self.position = [0,0]\n",
    "        self.moves = [[-1, 0], [1, 0], [0, 1], [0, -1]]\n",
    "        self.grid_size = None"
   ]
  },
  {
   "cell_type": "code",
   "execution_count": 42,
   "metadata": {},
   "outputs": [],
   "source": [
    "def play_board(bots, n_iter=25, grid_size=5, sleep_time=0.3):\n",
    "    \"\"\"Run a bot across a board.\n",
    "    \n",
    "    Parameters\n",
    "    ----------\n",
    "    bots : Bot() type or list of Bot() type\n",
    "        One or more bots to be be played on the board\n",
    "    n_iter : int, optional\n",
    "        Number of turns to play on the board. default = 25\n",
    "    grid_size : int, optional\n",
    "        Board size. default = 5\n",
    "    sleep_time : float, optional\n",
    "        Amount of time to pause between turns. default = 0.3.\n",
    "    \"\"\"\n",
    "    \n",
    "    # If input is a single bot, put it in a list so that procedures work\n",
    "    if not isinstance(bots, list):\n",
    "        bots = [bots]\n",
    "    \n",
    "    # Update each bot to know about the grid_size they are on\n",
    "    for bot in bots:\n",
    "        bot.grid_size = grid_size\n",
    "\n",
    "    for it in range(n_iter):\n",
    "\n",
    "        # Create the grid\n",
    "        grid_list = [['.'] * grid_size for ncols in range(grid_size)]\n",
    "        \n",
    "        # Add bot(s) to the grid\n",
    "        for bot in bots:\n",
    "            grid_list[bot.position[0]][bot.position[1]] = bot.character    \n",
    "\n",
    "        # Clear the previous iteration, print the new grid (as a string), and wait\n",
    "        clear_output(True)\n",
    "        print('\\n'.join([' '.join(lst) for lst in grid_list]))\n",
    "        sleep(sleep_time)\n",
    "        \n",
    "        # Update bot position(s) for next turn\n",
    "        new_bots = bots.copy()\n",
    "        for bot in bots:\n",
    "            \n",
    "            if not bot.name == \"BotEater\":\n",
    "                bot.move(bots)\n",
    "            else:\n",
    "                new_bots = bot.move(bots)\n",
    "                bots = new_bots"
   ]
  },
  {
   "cell_type": "code",
   "execution_count": 6,
   "metadata": {},
   "outputs": [],
   "source": [
    "class WanderBot (Bot):\n",
    "    \"\"\"\n",
    "    A WanderBot moves randomly on the grid. \n",
    "    \"\"\"\n",
    "    def __init__ (self, character = 8982):\n",
    "        \n",
    "        super().__init__(character)\n",
    "        self.name = \"WanderBot\"\n",
    "        \n",
    "    def wander(self):\n",
    "        \n",
    "        has_new_pos = False\n",
    "        \n",
    "        while not has_new_pos:\n",
    "            move = random.choice (self.moves)\n",
    "            new_pos = add_lists(self.position, move)\n",
    "            has_new_pos = check_bounds (new_pos, self.grid_size)\n",
    "        return new_pos\n",
    "    \n",
    "    def move (self, bots):\n",
    "        self.position = self.wander()\n",
    "        return bots"
   ]
  },
  {
   "cell_type": "code",
   "execution_count": 7,
   "metadata": {},
   "outputs": [],
   "source": [
    "class ExploreBot(Bot):\n",
    "    \"\"\"a bot that generally move towards the same direction but occasionally move randomly. \n",
    "    \n",
    "    \n",
    "    \n",
    "    \"\"\"\n",
    "    def __init__ (self, character = 8982, move_prob = 0.75):\n",
    "        \n",
    "        super().__init__ (character)\n",
    "        self.move_prob = move_prob\n",
    "        self.last_move = None\n",
    "        self.name = \"ExploreBot\"\n",
    "        \n",
    "    def biased_choice (self):\n",
    "        \n",
    "        move = None\n",
    "        if self.last_move != None:\n",
    "            if random.random() < self.move_prob:\n",
    "                move = self.last_move\n",
    "            else:\n",
    "                move = None\n",
    "        if move == None:\n",
    "                move = random.choice (self.moves)\n",
    "        return move\n",
    "    \n",
    "    def explore(self):\n",
    "        \n",
    "        has_new_pos = False\n",
    "        while not has_new_pos:\n",
    "            move = self.biased_choice()\n",
    "            new_pos = add_lists(self.position, move)\n",
    "            has_new_pos = check_bounds (new_pos, self.grid_size)\n",
    "            self.last_move = move\n",
    "        return new_pos\n",
    "    \n",
    "    def move(self, bots):\n",
    "        self.position = self.explore()\n",
    "        return bots"
   ]
  },
  {
   "cell_type": "code",
   "execution_count": 8,
   "metadata": {},
   "outputs": [
    {
     "data": {
      "text/plain": [
       "'ExploreBot'"
      ]
     },
     "execution_count": 8,
     "metadata": {},
     "output_type": "execute_result"
    }
   ],
   "source": [
    "bot = ExploreBot()\n",
    "bot.name"
   ]
  },
  {
   "cell_type": "code",
   "execution_count": 9,
   "metadata": {},
   "outputs": [],
   "source": [
    "class TeleportBot(WanderBot):\n",
    "    \"\"\"\n",
    "    a bot that generally wander around randomly but occasionally teleport to a random position on the grid. \n",
    "    \"\"\"\n",
    "    \n",
    "    def __init__ (self, character = 8982, tele_prob = 0.2):\n",
    "        super().__init__(character)\n",
    "        self.tele_prob = tele_prob\n",
    "        self.name = \"TeleportBot\"\n",
    "        \n",
    "    def teleport(self):\n",
    "        \n",
    "        return [random.choice(range(self.grid_size)), random.choice(range(self.grid_size))]\n",
    "    \n",
    "    def move(self, bots):\n",
    "        \n",
    "        if random.random() < self.tele_prob:\n",
    "            self.position = self.teleport()\n",
    "        else:\n",
    "            self.position = self.wander()\n",
    "        return bots"
   ]
  },
  {
   "cell_type": "code",
   "execution_count": 10,
   "metadata": {},
   "outputs": [],
   "source": [
    "# def another type of bots that moves horizontally only. the vertical position is chosen randomly. HorizontalBot\n",
    "# if the bot reaches the far right side of the grid, the bot comes back to the far left side of the grid. \n",
    "class HorizontalBot (Bot):\n",
    "    \n",
    "    def __init__(self, character = 8982):\n",
    "        super().__init__(character)\n",
    "        self.name = \"HorizontalBot\"\n",
    "        \n",
    "    def move(self, bots):\n",
    "        horizontal_position = self.position[1]\n",
    "        \n",
    "        if horizontal_position + 1 < self.grid_size:\n",
    "            horizontal_position = horizontal_position + 1\n",
    "        else:\n",
    "            horizontal_position = 0\n",
    "            \n",
    "        self.position = [random.choice(range(self.grid_size)), horizontal_position]\n",
    "        \n",
    "        return bots"
   ]
  },
  {
   "cell_type": "code",
   "execution_count": 11,
   "metadata": {},
   "outputs": [
    {
     "name": "stdout",
     "output_type": "stream",
     "text": [
      ". . . . .\n",
      ". . . . .\n",
      ". . . . .\n",
      ". . . . .\n",
      ". . . . ⌖\n"
     ]
    }
   ],
   "source": [
    "# testing bloc for HorizontalBot\n",
    "assert HorizontalBot\n",
    "bot = HorizontalBot()\n",
    "bot.name\n",
    "assert bot\n",
    "play_board(bot)"
   ]
  },
  {
   "cell_type": "code",
   "execution_count": 12,
   "metadata": {},
   "outputs": [],
   "source": [
    "# def another type of bots that only move randomly on the diagnoal line. \n",
    "class DiagonalBot (Bot):\n",
    "    \n",
    "    def __init__ (self, character = 8982):\n",
    "        self.name = \"DiagonalBot\"\n",
    "        super().__init__(character)\n",
    "        \n",
    "    def move(self, bots):\n",
    "        \n",
    "        diagonal_list = []\n",
    "        \n",
    "        for num in range (self.grid_size):\n",
    "            diagonal_list.append ([num, num])\n",
    "            diagonal_list.append ([num, self.grid_size - num - 1])\n",
    "        self.position = random.choice(diagonal_list)\n",
    "        \n",
    "        return bots"
   ]
  },
  {
   "cell_type": "code",
   "execution_count": 13,
   "metadata": {},
   "outputs": [],
   "source": [
    "# test function for DiagonalBot\n",
    "assert DiagonalBot\n",
    "bot = DiagonalBot ()\n",
    "assert bot.name == 'DiagonalBot'"
   ]
  },
  {
   "cell_type": "code",
   "execution_count": 65,
   "metadata": {},
   "outputs": [],
   "source": [
    "# def a type of bots, BotEater, that eats other bots when it runs into them. \n",
    "# this new class would include a for loop which checks the position of each bots and remove the bots at the same \n",
    "# position from the list of bots\n",
    "class BotEater(WanderBot):\n",
    "    \"\"\"\n",
    "    this class of bots moves randomly on the grid, check the position of every bot that is on the grid and delete the \n",
    "    bot that runs into it. \n",
    "    \"\"\"\n",
    "    \n",
    "    def __init__(self, character = 8982):\n",
    "    \n",
    "        super().__init__ (character)\n",
    "        self.name = \"BotEater\"\n",
    "        \n",
    "        \n",
    "    def move(self, bots):\n",
    "        \n",
    "        \n",
    "        new_bots = []\n",
    "    \n",
    "        for bot in bots:\n",
    "            \n",
    "            #print(bot.name)\n",
    "            \n",
    "            if bot.name == \"BotEater\":\n",
    "                new_bots.append(bot)\n",
    "                \n",
    "            elif not (bot.position[0] == self.position[0] and bot.position[1] == self.position[1]):\n",
    "                new_bots.append(bot)\n",
    "                \n",
    "        self.position = self.wander()\n",
    "        \n",
    "        return new_bots"
   ]
  },
  {
   "cell_type": "code",
   "execution_count": 52,
   "metadata": {},
   "outputs": [
    {
     "name": "stdout",
     "output_type": "stream",
     "text": [
      "⌖ ѧ .\n",
      "⌖ . .\n",
      ". . .\n",
      "HorizontalBot\n",
      "ExploreBot\n",
      "HERE\n",
      "WanderBot\n",
      "HERE\n",
      "WanderBot\n",
      "HERE\n",
      "BotEater\n",
      "Name\n",
      "[<__main__.ExploreBot object at 0x10f937860>, <__main__.WanderBot object at 0x10f9376a0>, <__main__.WanderBot object at 0x10f937588>, <__main__.BotEater object at 0x10f937eb8>]\n"
     ]
    }
   ],
   "source": [
    "# test block for BotEater\n",
    "assert BotEater\n",
    "assert bot\n",
    "\n",
    "bot1 = BotEater(character = 1127)\n",
    "#bot2 = WanderBot()\n",
    "assert bot1.name == \"BotEater\"\n",
    "\n",
    "bots = [HorizontalBot(), ExploreBot(), WanderBot(), WanderBot(), BotEater(character = 1127)]\n",
    "play_board(bots, n_iter = 10, grid_size = 3, sleep_time=0.5)#"
   ]
  },
  {
   "cell_type": "code",
   "execution_count": 57,
   "metadata": {},
   "outputs": [
    {
     "name": "stdout",
     "output_type": "stream",
     "text": [
      "grid_size: 5\n",
      "number of WanderBots: 1\n",
      "number of ExploreBots: 1\n",
      "number of TeleportBots: 1\n",
      "number of HorizontalBots: 1\n",
      "number of DiagonalBots: 0\n",
      "number of BotEaters: 1\n"
     ]
    }
   ],
   "source": [
    "# a block that takes two inputs: grid_size, how many bots for each kind of bots. \n",
    "# create another new file and import this file. code the last part of the project/the user interface in that file. \n",
    "\n",
    "grid_size = int(input(\"grid_size: \"))\n",
    "n_wander = int(input(\"number of WanderBots: \"))\n",
    "n_explore = int(input(\"number of ExploreBots: \"))\n",
    "n_teleport = int(input(\"number of TeleportBots: \"))\n",
    "n_horizontal = int(input(\"number of HorizontalBots: \"))\n",
    "n_diagonal = int(input (\"number of DiagonalBots: \"))\n",
    "n_boteater = int(input (\"number of BotEaters: \"))"
   ]
  },
  {
   "cell_type": "code",
   "execution_count": 61,
   "metadata": {},
   "outputs": [],
   "source": [
    "# In the user interface file, create a block that runs a grid with bots running around according to the inputs. \n",
    "bots = []\n",
    "for wander in range(n_wander):\n",
    "    bots.append(WanderBot())\n",
    "    \n",
    "for explore in range(n_explore):\n",
    "    bots.append(ExploreBot())\n",
    "    \n",
    "for teleport in range(n_teleport):\n",
    "    bots.append(TeleportBot())\n",
    "    \n",
    "for horizontal in range(n_horizontal):\n",
    "    bots.append(HorizontalBot())\n",
    "    \n",
    "for diagonal in range(n_diagonal):\n",
    "    bots.append(DiagonalBot())\n",
    "    \n",
    "for eater in range(n_boteater):\n",
    "    bots.append(BotEater(character = 1127))"
   ]
  },
  {
   "cell_type": "code",
   "execution_count": 67,
   "metadata": {},
   "outputs": [
    {
     "name": "stdout",
     "output_type": "stream",
     "text": [
      ". ѧ . . .\n",
      ". . . . .\n",
      ". . . . .\n",
      "⌖ . ⌖ . .\n",
      ". . . . .\n",
      "WanderBot\n",
      "ExploreBot\n",
      "BotEater\n"
     ]
    }
   ],
   "source": [
    "play_board(bots, grid_size = grid_size)"
   ]
  },
  {
   "cell_type": "code",
   "execution_count": 2,
   "metadata": {},
   "outputs": [
    {
     "name": "stdout",
     "output_type": "stream",
     "text": [
      "/Users/yingjingxia/Documents/Fall_2018/COGS_18_Python/COGS18FinalProject\r\n"
     ]
    }
   ],
   "source": [
    "! pwd"
   ]
  },
  {
   "cell_type": "code",
   "execution_count": 3,
   "metadata": {},
   "outputs": [
    {
     "name": "stdout",
     "output_type": "stream",
     "text": [
      "\u001b[1m============================= test session starts ==============================\u001b[0m\r\n",
      "platform darwin -- Python 3.6.5, pytest-3.5.1, py-1.5.3, pluggy-0.6.0\r\n",
      "rootdir: /Users/yingjingxia/Documents/Fall_2018/COGS_18_Python/COGS18FinalProject, inifile:\r\n",
      "plugins: remotedata-0.2.1, openfiles-0.3.0, doctestplus-0.1.3, arraydiff-0.2\r\n",
      "\r\n",
      "\u001b[33m\u001b[1m========================= no tests ran in 0.00 seconds =========================\u001b[0m\r\n",
      "\u001b[31mERROR: file not found: Users/yingjingxia/Documents/Fall_2018/COGS_18_Python/COGS18FinalProject/functions/TestFile.py\r\n",
      "\u001b[0m\r\n"
     ]
    }
   ],
   "source": [
    "! py.test -- Users/yingjingxia/Documents/Fall_2018/COGS_18_Python/COGS18FinalProject/functions/TestFile.py"
   ]
  },
  {
   "cell_type": "code",
   "execution_count": null,
   "metadata": {},
   "outputs": [],
   "source": []
  }
 ],
 "metadata": {
  "kernelspec": {
   "display_name": "Python 3",
   "language": "python",
   "name": "python3"
  },
  "language_info": {
   "codemirror_mode": {
    "name": "ipython",
    "version": 3
   },
   "file_extension": ".py",
   "mimetype": "text/x-python",
   "name": "python",
   "nbconvert_exporter": "python",
   "pygments_lexer": "ipython3",
   "version": "3.6.5"
  }
 },
 "nbformat": 4,
 "nbformat_minor": 2
}
