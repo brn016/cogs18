{
 "cells": [
  {
   "cell_type": "markdown",
   "metadata": {},
   "source": [
    "# Project Description\n",
    "\n",
    "This project is a little game where different types of bots would run on a grid. Six types of bots are defined in this project: WanderBot, which moves randomly; ExploreBot, which generally moves towards the same direction but occasionally moves randomly; TeleportBot, which moves randomly most of the times but occasionally gets teleported to a random location on the grid; horizontalBot, which moves only from left to right on the grid; diagonalBot, which moves randomly on the diagonal line; BotEater, which eats the other bots that it runs into. \n",
    "\n",
    "Users are able to specify how many of each type of bots they want and how big th grid should be. "
   ]
  },
  {
   "cell_type": "code",
   "execution_count": 26,
   "metadata": {},
   "outputs": [],
   "source": [
    "import functions.RobotFunctions as rb"
   ]
  },
  {
   "cell_type": "code",
   "execution_count": 27,
   "metadata": {},
   "outputs": [
    {
     "name": "stdout",
     "output_type": "stream",
     "text": [
      "grid_size: 6\n",
      "number of WanderBots: 1\n",
      "number of ExploreBots: 1\n",
      "number of TeleportBots: 1\n",
      "number of HorizontalBots: 1\n",
      "number of DiagonalBots: 1\n",
      "number of BotEaters: 1\n"
     ]
    }
   ],
   "source": [
    "# an input block where users are asked to specify the size of the grid and the number of bots for each type. \n",
    "# when the input value is not appropriate, ask users to enter again with correct values.\n",
    "# when users require too many bots considering the grid size, show a message to ask them to enter smaller numbers. \n",
    "\n",
    "test = True\n",
    "\n",
    "while test: \n",
    "    \n",
    "    try:\n",
    "        grid_size = int(input(\"grid_size: \"))\n",
    "\n",
    "        n_wander = int(input(\"number of WanderBots: \"))\n",
    "\n",
    "        n_explore = int(input(\"number of ExploreBots: \"))\n",
    "\n",
    "        n_teleport = int(input(\"number of TeleportBots: \"))\n",
    "\n",
    "        n_horizontal = int(input(\"number of HorizontalBots: \"))\n",
    "\n",
    "        n_diagonal = int(input (\"number of DiagonalBots: \"))\n",
    "\n",
    "        n_boteater = int(input (\"number of BotEaters: \"))\n",
    "        \n",
    "        if n_wander + n_explore + n_teleport + n_horizontal + n_diagonal + n_boteater <= grid_size**2:\n",
    "            test = False\n",
    "            \n",
    "        else:\n",
    "            print(\"too crowded for bots~ try larger grid and less bots so they can move around ;)\")\n",
    "    \n",
    "    except(ValueError):\n",
    "        print (\"each number has to be one or larger than one. Please try again.\")"
   ]
  },
  {
   "cell_type": "code",
   "execution_count": 28,
   "metadata": {},
   "outputs": [],
   "source": [
    "# create a list that includes the input amount of bots specified above. \n",
    "bots = []\n",
    "\n",
    "for wander in range(n_wander):\n",
    "    bots.append(rb.WanderBot())\n",
    "    \n",
    "for explore in range(n_explore):\n",
    "    bots.append(rb.ExploreBot())\n",
    "    \n",
    "for teleport in range(n_teleport):\n",
    "    bots.append(rb.TeleportBot())\n",
    "    \n",
    "for horizontal in range(n_horizontal):\n",
    "    bots.append(rb.HorizontalBot())\n",
    "    \n",
    "for diagonal in range(n_diagonal):\n",
    "    bots.append(rb.DiagonalBot())\n",
    "    \n",
    "for eater in range(n_boteater):\n",
    "    bots.append(rb.BotEater(character = 1127))"
   ]
  },
  {
   "cell_type": "code",
   "execution_count": 29,
   "metadata": {},
   "outputs": [
    {
     "name": "stdout",
     "output_type": "stream",
     "text": [
      "⌖ . . . . .\n",
      ". . . . . .\n",
      "⌖ . ⌖ . . .\n",
      ". . . . . .\n",
      ". . ѧ . ⌖ .\n",
      ". . . . . ⌖\n"
     ]
    }
   ],
   "source": [
    "# run the list of bots on a grid. \n",
    "rb.play_board(bots, grid_size = grid_size)"
   ]
  }
 ],
 "metadata": {
  "kernelspec": {
   "display_name": "Python 3",
   "language": "python",
   "name": "python3"
  },
  "language_info": {
   "codemirror_mode": {
    "name": "ipython",
    "version": 3
   },
   "file_extension": ".py",
   "mimetype": "text/x-python",
   "name": "python",
   "nbconvert_exporter": "python",
   "pygments_lexer": "ipython3",
   "version": "3.6.5"
  }
 },
 "nbformat": 4,
 "nbformat_minor": 2
}
