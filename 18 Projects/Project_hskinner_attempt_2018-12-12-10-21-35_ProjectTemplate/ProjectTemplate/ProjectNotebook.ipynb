{
 "cells": [
  {
   "cell_type": "code",
   "execution_count": null,
   "metadata": {},
   "outputs": [],
   "source": [
    "#This project is available on github\n",
    "#Github account name: henrietel\n",
    "#repository link: https://github.com/henrietel/madlib-generator"
   ]
  },
  {
   "cell_type": "markdown",
   "metadata": {},
   "source": [
    "# Project Description"
   ]
  },
  {
   "cell_type": "markdown",
   "metadata": {},
   "source": [
    "This is a toolbox for a madlib generator. It takes in string inputs with words to be filled in and returns with randomly chosen words from a chosen dictionary of words. It consists of functions for word replacement, fixing capitalization, and storing and removing punctuations. These functions can be used seperately on strings or combined to act as a madlib generator. \n",
    " \n",
    "Grammar Tools: \n",
    "- remember_punc: Stores punctuations at end of a string.\n",
    "- remember_ends: Stores the last punctuation of a string.\n",
    "- remove_ends: Removes the last punctuation of the string.\n",
    "- cap_sentences: Fixes capitalization for characters following an indicated punctuation.\n",
    "- fix_all_caps: Fixes capitalization for strings containing the normal sentence endings \"!\", \"?\", and \".\".\n",
    "    \n",
    "Madlib Tools:\n",
    "- choose_num: Randomly chooses a number within given bounds. Returns integer as a string.\n",
    "- replace_words: Replaces indicated words with a randomly selected number word in a list from genre dictionary. \n",
    "- madlib: A function to fill in madlibs."
   ]
  },
  {
   "cell_type": "markdown",
   "metadata": {},
   "source": [
    "## Project Code"
   ]
  },
  {
   "cell_type": "code",
   "execution_count": null,
   "metadata": {},
   "outputs": [],
   "source": [
    "import random"
   ]
  },
  {
   "cell_type": "code",
   "execution_count": null,
   "metadata": {},
   "outputs": [],
   "source": [
    "#capitalization functions\n",
    "\n",
    "from my_module.functions import remember_punc, remember_ends, remove_ends, cap_sentences, fix_all_caps"
   ]
  },
  {
   "cell_type": "code",
   "execution_count": null,
   "metadata": {},
   "outputs": [],
   "source": [
    "#madlib functions\n",
    "\n",
    "from my_module.functions import choose_num, replace_words, madlib"
   ]
  },
  {
   "cell_type": "code",
   "execution_count": null,
   "metadata": {},
   "outputs": [],
   "source": [
    "from my_module.dictionaries import *"
   ]
  },
  {
   "cell_type": "markdown",
   "metadata": {},
   "source": [
    "## Grammar Tools\n",
    "This project consists of functions that serve a purpose outside of the madlib.\n",
    "    For example, our grammar tools can be used to edit strings."
   ]
  },
  {
   "cell_type": "markdown",
   "metadata": {},
   "source": [
    "### remember_punc"
   ]
  },
  {
   "cell_type": "code",
   "execution_count": null,
   "metadata": {},
   "outputs": [],
   "source": [
    "#stores the last punctuation in a string\n",
    "\n",
    "string1 = 'i am a string!'\n",
    "\n",
    "remember_punc(string1)"
   ]
  },
  {
   "cell_type": "code",
   "execution_count": null,
   "metadata": {},
   "outputs": [],
   "source": [
    "#if the string has no punctuation at the end\n",
    "\n",
    "string2 = 'i am a string'\n",
    "\n",
    "remember_punc(string2)"
   ]
  },
  {
   "cell_type": "markdown",
   "metadata": {},
   "source": [
    "### remember_ends"
   ]
  },
  {
   "cell_type": "code",
   "execution_count": null,
   "metadata": {},
   "outputs": [],
   "source": [
    "#a modified remember_punc, but only stores punctuation found the end of sentences\n",
    "\n",
    "string1 = 'i am a string!'\n",
    "\n",
    "remember_ends(string1)"
   ]
  },
  {
   "cell_type": "code",
   "execution_count": null,
   "metadata": {},
   "outputs": [],
   "source": [
    "#does not store other characters\n",
    "\n",
    "string2 = 'i am a string #'\n",
    "\n",
    "remember_ends(string2)"
   ]
  },
  {
   "cell_type": "markdown",
   "metadata": {},
   "source": [
    "### remove_ends"
   ]
  },
  {
   "cell_type": "code",
   "execution_count": null,
   "metadata": {},
   "outputs": [],
   "source": [
    "#removes last char of string if it is a sentence punctuation\n",
    "\n",
    "string1 = 'i am a string. use me for whatever!'\n",
    "\n",
    "remove_ends(string1)"
   ]
  },
  {
   "cell_type": "code",
   "execution_count": null,
   "metadata": {},
   "outputs": [],
   "source": [
    "#does not remove other characters\n",
    "\n",
    "string2 = 'i am a string. use me for whatever$'\n",
    "\n",
    "remove_ends(string2)"
   ]
  },
  {
   "cell_type": "markdown",
   "metadata": {},
   "source": [
    "### cap_sentences"
   ]
  },
  {
   "cell_type": "code",
   "execution_count": null,
   "metadata": {},
   "outputs": [],
   "source": [
    " #use to fix capitalization of first char and after sentences of a certain punctuation\n",
    "\n",
    "sent1 = 'hi! hello! how are you'\n",
    "\n",
    "cap_sentences('!', sent1)"
   ]
  },
  {
   "cell_type": "code",
   "execution_count": null,
   "metadata": {},
   "outputs": [],
   "source": [
    "# will not change capitalization following other punctuation\n",
    "\n",
    "sent2 = 'hi! how are you? swell. i am too'\n",
    "\n",
    "print (cap_sentences('!', sent2))\n",
    "\n",
    "print (cap_sentences('?', sent2))\n",
    "\n",
    "print (cap_sentences('.', sent2))"
   ]
  },
  {
   "cell_type": "code",
   "execution_count": null,
   "metadata": {},
   "outputs": [],
   "source": [
    "# different from .capitalize() because won't affect other chars\n",
    "\n",
    "sent3 = 'my first choice was UCSD'\n",
    "\n",
    "print (sent3.capitalize())\n",
    "\n",
    "print (cap_sentences('?', sent3))"
   ]
  },
  {
   "cell_type": "markdown",
   "metadata": {},
   "source": [
    "### fix_all_caps"
   ]
  },
  {
   "cell_type": "code",
   "execution_count": null,
   "metadata": {},
   "outputs": [],
   "source": [
    "#fixes capitalization of all sentence punctuation types\n",
    "\n",
    "sent1 = 'hi! how are you? swell. i am too.'\n",
    "\n",
    "fix_all_caps(sent1)"
   ]
  },
  {
   "cell_type": "code",
   "execution_count": null,
   "metadata": {},
   "outputs": [],
   "source": [
    "#does not affect other chars in string\n",
    "\n",
    "sent2 = 'hi! how ARE you? swell. i am too.'\n",
    "\n",
    "fix_all_caps(sent2)"
   ]
  },
  {
   "cell_type": "code",
   "execution_count": null,
   "metadata": {},
   "outputs": [],
   "source": [
    "#does not capitalize after other kinds of chars \n",
    "\n",
    "sent3 = 'did you know? i am 50% through this demo!'\n",
    "\n",
    "fix_all_caps(sent3)"
   ]
  },
  {
   "cell_type": "code",
   "execution_count": null,
   "metadata": {},
   "outputs": [],
   "source": [
    "#can take in strings with punctuation at the end\n",
    "\n",
    "sent4 = 'did you know? my first choice was UCSD!'\n",
    "\n",
    "fix_all_caps(sent4)"
   ]
  },
  {
   "cell_type": "markdown",
   "metadata": {},
   "source": [
    "## Madlib Tools\n",
    "   This project also consists functions that output a randomly chosen ite,"
   ]
  },
  {
   "cell_type": "markdown",
   "metadata": {},
   "source": [
    "### choose_num"
   ]
  },
  {
   "cell_type": "code",
   "execution_count": null,
   "metadata": {},
   "outputs": [],
   "source": [
    "#randomly chooses an integer within a given upper and lower bound\n",
    "\n",
    "choose_num(-100,100)"
   ]
  },
  {
   "cell_type": "markdown",
   "metadata": {},
   "source": [
    "### replace_words"
   ]
  },
  {
   "cell_type": "code",
   "execution_count": null,
   "metadata": {},
   "outputs": [],
   "source": [
    "#will fill in indicated /part_of_speech with randomly chosen word from a dictionary\n",
    "\n",
    "#from fantasy dictionary\n",
    "print ('Words from fantasy dictionary:')\n",
    "print ('------------------------------')\n",
    "\n",
    "print(replace_words ('/plural_noun', fantasy))\n",
    "print(replace_words ('/noun', fantasy))\n",
    "print(replace_words ('/adjective', fantasy))\n",
    "print(replace_words ('/past_verb', fantasy))\n",
    "print(replace_words ('/adverb', fantasy))\n",
    "print(replace_words ('/verb', fantasy))\n",
    "\n",
    "#from animal dictionary\n",
    "print('')\n",
    "print ('Words from UCSD dictionary:')\n",
    "print ('-----------------------------')\n",
    "\n",
    "print(replace_words ('/plural_noun', UCSD))\n",
    "print(replace_words ('/noun', UCSD))\n",
    "print(replace_words ('/adjective', UCSD))\n",
    "print(replace_words ('/past_verb', UCSD))\n",
    "print(replace_words ('/adverb', UCSD))\n",
    "print(replace_words ('/verb', UCSD))"
   ]
  },
  {
   "cell_type": "code",
   "execution_count": null,
   "metadata": {},
   "outputs": [],
   "source": [
    "#replaces /number with a number between -100 and 100\n",
    "\n",
    "replace_words('/number', fantasy)"
   ]
  },
  {
   "cell_type": "code",
   "execution_count": null,
   "metadata": {},
   "outputs": [],
   "source": [
    "#replaces /location\n",
    "\n",
    "replace_words('/location', UCSD)"
   ]
  },
  {
   "cell_type": "code",
   "execution_count": null,
   "metadata": {},
   "outputs": [],
   "source": [
    "#replaces /name\n",
    "\n",
    "replace_words('/name', fantasy)"
   ]
  },
  {
   "cell_type": "code",
   "execution_count": null,
   "metadata": {},
   "outputs": [],
   "source": [
    "#can be used in a string of words\n",
    "\n",
    "string1 = 'My name is /name'\n",
    "\n",
    "replace_words(string1, fantasy)"
   ]
  },
  {
   "cell_type": "code",
   "execution_count": null,
   "metadata": {},
   "outputs": [],
   "source": [
    "#replaces with different words for uniquely marked /parts_of_speech\n",
    "\n",
    "string2 = 'I have been to /location1 and /location2'\n",
    "\n",
    "replace_words(string2, UCSD)"
   ]
  },
  {
   "cell_type": "code",
   "execution_count": null,
   "metadata": {},
   "outputs": [],
   "source": [
    "#replaces with same word for identically marked /parts_of_speech in a sentence\n",
    "\n",
    "string3 = 'I love /plural_noun1 but hate when /plural_noun1 and /plural_noun2 are together.'\n",
    "\n",
    "replace_words(string3, animal)"
   ]
  },
  {
   "cell_type": "code",
   "execution_count": null,
   "metadata": {},
   "outputs": [],
   "source": [
    "#can be used as a writing prompt generator\n",
    "\n",
    "prompt = 'You are found at /location1 with only the /noun1. How do you /verb to the /location2?'\n",
    "\n",
    "replace_words(prompt, UCSD)"
   ]
  },
  {
   "cell_type": "code",
   "execution_count": null,
   "metadata": {},
   "outputs": [],
   "source": [
    "#can be used as a study guide\n",
    "\n",
    "question = 'where does the /noun live?'\n",
    "\n",
    "replace_words(question, animal)"
   ]
  },
  {
   "cell_type": "markdown",
   "metadata": {},
   "source": [
    "### madlib"
   ]
  },
  {
   "cell_type": "code",
   "execution_count": null,
   "metadata": {},
   "outputs": [],
   "source": [
    "#combines all aforementioned functions\n",
    "\n",
    "prompt1 = 'there were /number /plural_noun at the /location. did you tell /name about this?'\n",
    "\n",
    "madlib(prompt1, animal)"
   ]
  },
  {
   "cell_type": "code",
   "execution_count": null,
   "metadata": {},
   "outputs": [],
   "source": [
    "#some other examples \n",
    "prompt2 = 'my favorite baby names are /name1, /name2, and /name3. /name5, what do you think?'\n",
    "\n",
    "madlib(prompt2, animal)"
   ]
  },
  {
   "cell_type": "code",
   "execution_count": null,
   "metadata": {},
   "outputs": [],
   "source": [
    "prompt3 = '/name1 will /adverb1 /verb1 to /location1. /name1 will then /verb2 the /plural_noun1.'\n",
    "\n",
    "madlib(prompt3, UCSD)"
   ]
  },
  {
   "cell_type": "code",
   "execution_count": null,
   "metadata": {},
   "outputs": [],
   "source": [
    "prompt4 = 'I hope to get above a /number% on this project!'\n",
    "\n",
    "madlib(prompt4, animal)"
   ]
  },
  {
   "cell_type": "code",
   "execution_count": null,
   "metadata": {},
   "outputs": [],
   "source": []
  },
  {
   "cell_type": "code",
   "execution_count": null,
   "metadata": {},
   "outputs": [],
   "source": []
  }
 ],
 "metadata": {
  "kernelspec": {
   "display_name": "Python 3",
   "language": "python",
   "name": "python3"
  },
  "language_info": {
   "codemirror_mode": {
    "name": "ipython",
    "version": 3
   },
   "file_extension": ".py",
   "mimetype": "text/x-python",
   "name": "python",
   "nbconvert_exporter": "python",
   "pygments_lexer": "ipython3",
   "version": "3.7.0"
  }
 },
 "nbformat": 4,
 "nbformat_minor": 2
}
