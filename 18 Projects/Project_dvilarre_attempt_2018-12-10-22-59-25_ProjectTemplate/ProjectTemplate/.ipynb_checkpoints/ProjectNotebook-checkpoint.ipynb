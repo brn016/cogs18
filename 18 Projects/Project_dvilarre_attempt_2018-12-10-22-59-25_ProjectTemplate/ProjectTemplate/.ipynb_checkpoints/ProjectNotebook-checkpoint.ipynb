{
 "cells": [
  {
   "cell_type": "markdown",
   "metadata": {},
   "source": [
    "# Project Description"
   ]
  },
  {
   "cell_type": "markdown",
   "metadata": {},
   "source": [
    "The Goal of this project is to create a class that takes in custom recipes inputted by the user\n",
    "& stores this information for later use. This project is part of a long term goal of mine of making a CookBot\n",
    "that can take a random list of ingredients (say whatever you have in your pantry) given by the user and suggest possible recipes that you could to make. The recipes will be whichever ones you like to cook and input in your recipes list. I enjoy to cook plant based meals and tend to have alot of left over ingredients from my vegan cooking ventures and felt this would be a great way to utilize all of my ingredients to the fullest. "
   ]
  },
  {
   "cell_type": "markdown",
   "metadata": {},
   "source": [
    "## Project Code\n",
    "\n",
    "If it makes sense for your project, you can have code and outputs here in the notebook as well."
   ]
  },
  {
   "cell_type": "code",
   "execution_count": 1,
   "metadata": {},
   "outputs": [],
   "source": [
    "from my_module.recipes_class import Recipes"
   ]
  },
  {
   "cell_type": "code",
   "execution_count": 2,
   "metadata": {},
   "outputs": [],
   "source": [
    "Recipes = Recipes()\n",
    "Recipes.add_recipes('Almond Coco Milk',['Almond Milk','Cocao Powder'],[1,2],['Cup','tsps'],'Add milk with powder and shake')"
   ]
  },
  {
   "cell_type": "code",
   "execution_count": 3,
   "metadata": {},
   "outputs": [],
   "source": [
    "Recipes.add_recipes('Lemonade', ['Lemon','Sugar','Water'], [1,2,1], ['','Tbsp','Cup'],'Take all ingredients and them to a pitcher')\n"
   ]
  },
  {
   "cell_type": "code",
   "execution_count": 4,
   "metadata": {},
   "outputs": [
    {
     "data": {
      "text/plain": [
       "2"
      ]
     },
     "execution_count": 4,
     "metadata": {},
     "output_type": "execute_result"
    }
   ],
   "source": [
    "Recipes.n_recipes"
   ]
  },
  {
   "cell_type": "code",
   "execution_count": 10,
   "metadata": {},
   "outputs": [],
   "source": [
    "Recipes.save_to_file()"
   ]
  },
  {
   "cell_type": "code",
   "execution_count": 11,
   "metadata": {},
   "outputs": [],
   "source": [
    "load_file = open(\"recipes_list.txt\", \"r\")\n",
    "out = load_file.readlines()"
   ]
  },
  {
   "cell_type": "code",
   "execution_count": 12,
   "metadata": {},
   "outputs": [
    {
     "data": {
      "text/plain": [
       "[\"{'recipe': 'Almond Coco Milk', 'ingredients': ['Almond Milk', 'Cocao Powder'], 'quantity': [1, 2], 'units': ['Cup', 'tsps'], 'description': 'Add milk with powder and shake'}{'recipe': 'Lemonade', 'ingredients': ['Lemon', 'Sugar', 'Water'], 'quantity': [1, 2, 1], 'units': ['', 'Tbsp', 'Cup'], 'description': 'Take all ingredients and them to a pitcher'}{'recipe': 'C', 'ingredients': ['c', 'c', 'c'], 'quantity': ['c', 'c', 'c'], 'units': 'cccc', 'description': 'ccc'}\"]"
      ]
     },
     "execution_count": 12,
     "metadata": {},
     "output_type": "execute_result"
    }
   ],
   "source": [
    "out"
   ]
  },
  {
   "cell_type": "code",
   "execution_count": 9,
   "metadata": {},
   "outputs": [],
   "source": [
    "Recipes.add_recipes('C',['c','c','c'],['c','c','c'],'cccc','ccc')"
   ]
  },
  {
   "cell_type": "code",
   "execution_count": null,
   "metadata": {},
   "outputs": [],
   "source": []
  }
 ],
 "metadata": {
  "kernelspec": {
   "display_name": "Python 3",
   "language": "python",
   "name": "python3"
  },
  "language_info": {
   "codemirror_mode": {
    "name": "ipython",
    "version": 3
   },
   "file_extension": ".py",
   "mimetype": "text/x-python",
   "name": "python",
   "nbconvert_exporter": "python",
   "pygments_lexer": "ipython3",
   "version": "3.7.0"
  }
 },
 "nbformat": 4,
 "nbformat_minor": 2
}
