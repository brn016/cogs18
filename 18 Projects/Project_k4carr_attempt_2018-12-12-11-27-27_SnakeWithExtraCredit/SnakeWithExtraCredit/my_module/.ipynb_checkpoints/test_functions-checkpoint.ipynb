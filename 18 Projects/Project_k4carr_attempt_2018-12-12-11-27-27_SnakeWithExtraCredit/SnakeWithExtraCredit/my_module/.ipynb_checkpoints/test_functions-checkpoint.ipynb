{
 "cells": [
  {
   "cell_type": "code",
   "execution_count": 3,
   "metadata": {},
   "outputs": [],
   "source": [
    "import turtle\n",
    "from functions import food, snake, controls, playGame, snakeGame\n",
    "tess = turtle.Turtle()\n",
    "tess.hideturtle()\n",
    "snack = turtle.Turtle()\n",
    "snack.hideturtle()\n",
    "window = turtle.Screen()"
   ]
  },
  {
   "cell_type": "code",
   "execution_count": 4,
   "metadata": {},
   "outputs": [],
   "source": [
    "foodClass = food(snack, window)"
   ]
  },
  {
   "cell_type": "code",
   "execution_count": 5,
   "metadata": {},
   "outputs": [],
   "source": [
    "def test_foodClass():\n",
    "    assert isinstance(foodClass, food)\n",
    "    assert foodClass.foodChar == snack\n",
    "    assert foodClass.terminal == window\n",
    "\n",
    "    assert foodClass.foodShape()\n",
    "    assert callable (foodClass.foodShape)\n",
    "    assert isinstance(foodClass.foodShape(), str)\n",
    "\n",
    "    assert foodClass.foodColor()\n",
    "    assert callable (foodClass.foodColor)\n",
    "    assert isinstance(foodClass.foodColor(), str)\n",
    "\n",
    "    assert callable (foodClass.foodStamp)"
   ]
  },
  {
   "cell_type": "code",
   "execution_count": 7,
   "metadata": {},
   "outputs": [],
   "source": [
    "snakeClass = snake(snack, tess, window)"
   ]
  },
  {
   "cell_type": "code",
   "execution_count": 8,
   "metadata": {},
   "outputs": [],
   "source": [
    "def test_snakeClass():\n",
    "    assert isinstance(snakeClass, snake)\n",
    "\n",
    "    assert snakeClass.foodChar == snack\n",
    "    assert snakeClass.character == tess\n",
    "    assert snakeClass.terminal == window\n",
    "\n",
    "    assert callable (snakeClass.spawnSnake)"
   ]
  },
  {
   "cell_type": "code",
   "execution_count": 10,
   "metadata": {},
   "outputs": [],
   "source": [
    "controlsClass = controls(snack, tess, window)"
   ]
  },
  {
   "cell_type": "code",
   "execution_count": 11,
   "metadata": {},
   "outputs": [],
   "source": [
    "def test_controlsClass():\n",
    "    assert isinstance(controlsClass, controls)\n",
    "\n",
    "    assert isinstance(controlsClass.collisionCount, int)\n",
    "    assert controlsClass.collisionCount == 0\n",
    "\n",
    "    assert isinstance(controlsClass.lengthStep, int)\n",
    "    assert controlsClass.lengthStep == 3\n",
    "\n",
    "    assert isinstance(controlsClass.speedStep, int)\n",
    "    assert controlsClass.speedStep == 2\n",
    "\n",
    "    assert isinstance(controlsClass.speedBrake, int)\n",
    "    assert controlsClass.speedBrake == 32\n",
    "\n",
    "    assert callable (controlsClass.left)\n",
    "\n",
    "    assert callable (controlsClass.right)\n",
    "\n",
    "    assert callable (controlsClass.up)\n",
    "\n",
    "    assert callable (controlsClass.down)\n",
    "\n",
    "    assert callable (controlsClass.reset)\n",
    "\n",
    "    assert callable (controlsClass.quit)"
   ]
  },
  {
   "cell_type": "code",
   "execution_count": 13,
   "metadata": {},
   "outputs": [],
   "source": [
    "playGameClass = playGame(snack, tess, window)"
   ]
  },
  {
   "cell_type": "code",
   "execution_count": 14,
   "metadata": {},
   "outputs": [],
   "source": [
    "def test_playGameClass():\n",
    "    assert isinstance(playGameClass, playGame)\n",
    "    assert playGameClass.foodChar == snack\n",
    "    assert playGameClass.character == tess\n",
    "    assert playGameClass.terminal == window\n",
    "\n",
    "\n",
    "    assert isinstance (playGameClass.sList, list)\n",
    "    assert callable (playGameClass.insertFood)\n",
    "    assert callable (playGameClass.check_bounds)\n",
    "    assert callable (playGameClass.snakePos)\n",
    "    assert playGameClass.snakePos(tess) ==(0,0)\n",
    "    assert playGameClass.foodPos(snack) ==(0,0)\n",
    "    assert callable (playGameClass.foodPos)\n",
    "    assert callable (playGameClass.collisionDetect)\n",
    "    assert callable (playGameClass.collisionCounter)\n",
    "\n",
    "    assert callable (playGameClass.lengthStepper)\n",
    "\n",
    "    assert callable (playGameClass.speedStepper)\n",
    "    assert callable (playGameClass.gameOver)\n",
    "    assert callable (playGameClass.moveSnake)"
   ]
  },
  {
   "cell_type": "code",
   "execution_count": null,
   "metadata": {},
   "outputs": [],
   "source": []
  }
 ],
 "metadata": {
  "kernelspec": {
   "display_name": "Python 3",
   "language": "python",
   "name": "python3"
  },
  "language_info": {
   "codemirror_mode": {
    "name": "ipython",
    "version": 3
   },
   "file_extension": ".py",
   "mimetype": "text/x-python",
   "name": "python",
   "nbconvert_exporter": "python",
   "pygments_lexer": "ipython3",
   "version": "3.6.5"
  }
 },
 "nbformat": 4,
 "nbformat_minor": 2
}
