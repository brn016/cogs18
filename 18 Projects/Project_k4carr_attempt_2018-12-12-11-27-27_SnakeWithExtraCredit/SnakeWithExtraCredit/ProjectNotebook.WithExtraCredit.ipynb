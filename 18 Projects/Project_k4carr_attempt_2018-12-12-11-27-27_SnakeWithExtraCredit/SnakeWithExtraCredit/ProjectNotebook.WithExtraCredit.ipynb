{
 "cells": [
  {
   "cell_type": "markdown",
   "metadata": {},
   "source": [
    "# Project Description"
   ]
  },
  {
   "cell_type": "markdown",
   "metadata": {},
   "source": [
    "For my final project I wanted to create a game. I have named this game Hungry Python! as a play on words from\n",
    "the original game I based it off of, snake. I got the inspiration for this game after A4 was complete, it was the first time I thought something we did was cool. So considering the amount of time that went into this project \n",
    "I wanted to be proud of it. \n",
    " \n",
    "To start the game---> click Kernel ---> restart & run all.\n",
    "Within this game a moving snake will appear that can be controlled using the arrow buttons (up, down, left, right) on your keyboard.You can quit the Game anytime by pressing 'q' on the keyborad. Food icons will appear one at a time, in order to eat them run over them with the snake. Each piece of food that is collected results in the snake's body increasing length. The game is over when the snake runs into itself. One feature that is different from the original snake game is that the snake is able to run off the screen and teleport to the opposite side, back into view.\n",
    "\n",
    "I hope you enjoy my game! It took forever for me to figure out how to get all parts working correctly!\n",
    "Thank you to all the instructors that came in to help at office hours. The class needed you.\n",
    "\n",
    "\n",
    "GitHub extra credit:\n",
    "https://github.com/kricar14/Hungry-Python-/blob/master/README.md\n",
    "username: kricar14"
   ]
  },
  {
   "cell_type": "markdown",
   "metadata": {},
   "source": [
    "## Project Code\n",
    "\n",
    "If it makes sense for your project, you can have code and outputs here in the notebook as well."
   ]
  },
  {
   "cell_type": "code",
   "execution_count": 1,
   "metadata": {
    "scrolled": false
   },
   "outputs": [],
   "source": [
    "from my_module.functions import food, snake, controls, playGame, snakeGame\n",
    "\n",
    "from my_module.test_functions import test_foodClass, test_snakeClass, test_controlsClass, test_playGameClass\n"
   ]
  },
  {
   "cell_type": "code",
   "execution_count": 2,
   "metadata": {},
   "outputs": [],
   "source": [
    "import turtle\n",
    "\n",
    "tess = turtle.Turtle()\n",
    "\n",
    "tess.hideturtle()\n",
    "\n",
    "snack = turtle.Turtle()\n",
    "\n",
    "snack.hideturtle()\n",
    "\n",
    "window = turtle.Screen()"
   ]
  },
  {
   "cell_type": "code",
   "execution_count": 3,
   "metadata": {},
   "outputs": [],
   "source": [
    "foodClass = food(snack, window)\n",
    "\n",
    "snakeClass = snake(snack, tess, window)\n",
    "\n",
    "controlsClass = controls(snack, tess, window)\n",
    "\n",
    "playGameClass = playGame(snack, tess, window)\n"
   ]
  },
  {
   "cell_type": "code",
   "execution_count": 4,
   "metadata": {
    "scrolled": true
   },
   "outputs": [],
   "source": [
    "foodTest=test_foodClass()\n",
    "\n",
    "foodTest\n"
   ]
  },
  {
   "cell_type": "code",
   "execution_count": 5,
   "metadata": {},
   "outputs": [],
   "source": [
    "snakeTest = test_snakeClass()\n",
    "\n",
    "snakeTest"
   ]
  },
  {
   "cell_type": "code",
   "execution_count": 6,
   "metadata": {},
   "outputs": [],
   "source": [
    "controlsTest = test_controlsClass()\n",
    "\n",
    "controlsTest"
   ]
  },
  {
   "cell_type": "code",
   "execution_count": 7,
   "metadata": {},
   "outputs": [],
   "source": [
    "gamePlayTest = test_playGameClass()\n",
    "\n",
    "gamePlayTest"
   ]
  },
  {
   "cell_type": "code",
   "execution_count": null,
   "metadata": {},
   "outputs": [],
   "source": [
    "snakeGame()"
   ]
  },
  {
   "cell_type": "code",
   "execution_count": null,
   "metadata": {},
   "outputs": [],
   "source": []
  }
 ],
 "metadata": {
  "kernelspec": {
   "display_name": "Python 3",
   "language": "python",
   "name": "python3"
  },
  "language_info": {
   "codemirror_mode": {
    "name": "ipython",
    "version": 3
   },
   "file_extension": ".py",
   "mimetype": "text/x-python",
   "name": "python",
   "nbconvert_exporter": "python",
   "pygments_lexer": "ipython3",
   "version": "3.7.0"
  }
 },
 "nbformat": 4,
 "nbformat_minor": 2
}
