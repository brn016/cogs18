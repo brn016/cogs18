{
 "cells": [
  {
   "cell_type": "markdown",
   "metadata": {},
   "source": [
    "## Concept\n",
    "My project idea is to use Python to summarize an article, such as news.  \n",
    "\n",
    "## Description\n",
    "Since it is too difficult to make a computer write a whole sentence, I simplify the target. The goal is to select a few sentences from the article to best represent the meaning of the it and use it as the summary.\n",
    "\n",
    "## Approach\n",
    "Obviously, if a word keep appearing in an article, it is likely that it is closely relative to the main idea of the article. Thus, we can use the frequency of a word to measure the importance of a word. The sum of all the word frequencies inside a sentence is the score of a sentence. Then we can select the sentences with higher scores. Moreover, some words, like \"a\", \"the\", \"or\", and punctuation appear frequently but shows nothing about the main idea. Thus we need to remove them.\n",
    "\n",
    "Therefore, the whole algorithm to find n senteces as summary is:\n",
    "1. Divide the artiles into sentence list by using **nltk.tokenize.sent_tokenize**. Divide sentences into words by using **nltk.tokenize.word_tokenize**. \n",
    "2. Calculate the frequencies of words in the target article except stop words and punctuations.\n",
    "3. Sum up the frequencies of words in each sentence as their scores.\n",
    "4. Output the n sentences with highest score."
   ]
  },
  {
   "cell_type": "code",
   "execution_count": 3,
   "metadata": {},
   "outputs": [
    {
     "name": "stdout",
     "output_type": "stream",
     "text": [
      "File name: news/news1.txt\n",
      "Summary: \n",
      "Under the agreement, Pelosi would lead her caucus for no more than four years — two years now and another two years after that if she receives the support of two-thirds of the caucus, according to a source familiar with the deal.\n",
      "WASHINGTON — At least five Democrats who have pledged to oppose Nancy Pelosi in her bid to become speaker of the House are nearing a deal to support her as long as she limits her leadership to no more than four more years, according to multiple people familiar with the talks.\n",
      "Full details of emerging agreement were not immediately available, but the talks are designed to find Pelosi enough votes to comfortably win the speakership in a Jan. 3 vote on the floor of the House and for holdouts concerned about another open-ended speakership to extract concessions from her.\n"
     ]
    }
   ],
   "source": [
    "from my_module.functions import *\n",
    "file_name = input(\"File name: \") # ex: news/news1.txt\n",
    "with open(file_name, \"r\") as myfile:\n",
    "    text = myfile.read().replace('\\n','')\n",
    "ans = findSummary(3, text)\n",
    "print(\"Summary: \")\n",
    "for s in ans:\n",
    "    print(s)"
   ]
  },
  {
   "cell_type": "code",
   "execution_count": null,
   "metadata": {},
   "outputs": [],
   "source": []
  }
 ],
 "metadata": {
  "kernelspec": {
   "display_name": "Python 3",
   "language": "python",
   "name": "python3"
  },
  "language_info": {
   "codemirror_mode": {
    "name": "ipython",
    "version": 3
   },
   "file_extension": ".py",
   "mimetype": "text/x-python",
   "name": "python",
   "nbconvert_exporter": "python",
   "pygments_lexer": "ipython3",
   "version": "3.6.5"
  }
 },
 "nbformat": 4,
 "nbformat_minor": 2
}
