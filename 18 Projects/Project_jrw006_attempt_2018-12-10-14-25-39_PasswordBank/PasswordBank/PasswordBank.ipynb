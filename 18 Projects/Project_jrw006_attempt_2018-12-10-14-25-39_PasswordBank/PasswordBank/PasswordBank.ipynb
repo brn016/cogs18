{
 "cells": [
  {
   "cell_type": "markdown",
   "metadata": {},
   "source": [
    "# PasswordBank"
   ]
  },
  {
   "cell_type": "markdown",
   "metadata": {},
   "source": [
    "Password Bank is your center for all things password related! Use password bank to store passwords and usernames for an unlimited number of websites, retrieve them upon call, or have PasswordBank create SuperSecure(TM) passwords. "
   ]
  },
  {
   "cell_type": "markdown",
   "metadata": {},
   "source": [
    "The program itself is underneath the pw_scripts folder under the filename: \"PasswordBank.py\".\n",
    "\n",
    "PasswordBank is designed to be run as a program with the terminal as its interface. You could potentially run it in a cell here in the notebook, provided that the pathing is the same for the importing of modules, but the aesthetics will not work as intended."
   ]
  },
  {
   "cell_type": "markdown",
   "metadata": {},
   "source": [
    "Please note that due to the nature of how passwords entered into the program are stored, that the storage file has to be stored in the same directory as the program itself."
   ]
  }
 ],
 "metadata": {
  "kernelspec": {
   "display_name": "Python 3",
   "language": "python",
   "name": "python3"
  },
  "language_info": {
   "codemirror_mode": {
    "name": "ipython",
    "version": 3
   },
   "file_extension": ".py",
   "mimetype": "text/x-python",
   "name": "python",
   "nbconvert_exporter": "python",
   "pygments_lexer": "ipython3",
   "version": "3.6.5"
  }
 },
 "nbformat": 4,
 "nbformat_minor": 2
}
