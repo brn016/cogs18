{
 "cells": [
  {
   "cell_type": "markdown",
   "metadata": {},
   "source": [
    "# Password Bank"
   ]
  },
  {
   "cell_type": "markdown",
   "metadata": {},
   "source": [
    "Password Bank is your center for all things password related! Use password bank to store passwords and usernames for an unlimited number of websites, retrieve them upon call, or have password bank create secure passwords. Password Bank is password protected and can be used by multiple users."
   ]
  },
  {
   "cell_type": "code",
   "execution_count": 10,
   "metadata": {},
   "outputs": [],
   "source": [
    "def create_new_password():\n",
    "    \"\"\"Creates a new randomized password for the user and stores it in the password storage dictionary.\n",
    "    Passwords will have at least one uppercase letter, one lowercase letter, one symbol, and one number.\"\"\"\n",
    "    \n",
    "    # Has the user indicate how many characters the password should have\n",
    "    number_of_characters = input(\"\"\"How many characters would you like this password to have?\n",
    ">>> \"\"\")\n",
    "    \n",
    "    # Organized list of distinct characters the function will use to create the password\n",
    "    lowercase_letters = 'abcdefghijklmnopqrstuvwxyz'\n",
    "    uppercase_letters = 'ABCDEFGHIJKLMNOPQRSTUVWXYZ'\n",
    "    numbers = '1234567890'\n",
    "    symbols = '!@#$%^&*()_+'\n",
    "    character_bank = [lowercase_letters, uppercase_letters, numbers, symbols]\n",
    "    \n",
    "    # While the password is incomplete and does not have one character of each type, create a new password\n",
    "    one_of_each_type = False \n",
    "    while one_of_each_type == False:\n",
    "        \n",
    "        # Creates blank string for password to return\n",
    "        password = \"\"\n",
    "\n",
    "        # For loop to create a character for each character required in the password\n",
    "        for char in range(int(number_of_characters)):\n",
    "            \n",
    "            # Pick which type of character to concatenate\n",
    "            choice = character_bank[randint(0,3)]\n",
    "\n",
    "            # Checks which type of character is to be used and concatenates a random one to the password string\n",
    "            if choice == lowercase_letters:\n",
    "                password += lowercase_letters[randint(0,25)]\n",
    "            elif choice == uppercase_letters:\n",
    "                password += uppercase_letters[randint(0,25)]\n",
    "            elif choice == numbers:\n",
    "                password += numbers[randint(0,9)]\n",
    "            elif choice == symbols:\n",
    "                password += symbols[randint(0,11)]\n",
    "        \n",
    "        # Booleans to check if each character type is in the password string\n",
    "        check_lower = False\n",
    "        check_upper = False\n",
    "        check_numbers = False\n",
    "        check_symbols = False\n",
    "        \n",
    "        # For loop to run over what each type of character is and to change the booleans if a type is present\n",
    "        for char in password:\n",
    "            if char in lowercase_letters:\n",
    "                check_lower = True\n",
    "            elif char in uppercase_letters:\n",
    "                check_upper = True\n",
    "            elif char in numbers:\n",
    "                check_numbers = True\n",
    "            elif char in symbols:\n",
    "                check_symbols = True\n",
    "        \n",
    "        # Check if all booleans are true, if they are then there is one of each type in the password string\n",
    "        if check_lower and check_upper and check_numbers and check_symbols:\n",
    "            one_of_each_type = True\n",
    "        else:\n",
    "            continue\n",
    "    \n",
    "    return password"
   ]
  },
  {
   "cell_type": "code",
   "execution_count": 11,
   "metadata": {},
   "outputs": [],
   "source": [
    "def withdraw_password(site):\n",
    "    \n",
    "    site_name = getattr(storage, site).site\n",
    "    username = getattr(storage, site).username\n",
    "    password = getattr(storage, site).password\n",
    "    \n",
    "    print(f\"\"\"Website:    {site_name}\n",
    "Username:    {username}\n",
    "Password:    {password}\"\"\")"
   ]
  },
  {
   "cell_type": "code",
   "execution_count": 12,
   "metadata": {},
   "outputs": [],
   "source": [
    "def deposit_password(site, username, password):\n",
    "    \n",
    "    with open('storage.py', 'a') as file:\n",
    "        file.write(f\"\"\"\n",
    "{site} = Password(\"{site}\", \"{username}\", \"{password}\")\"\"\")\n",
    "    \n",
    "        file.close()"
   ]
  },
  {
   "cell_type": "code",
   "execution_count": 13,
   "metadata": {},
   "outputs": [],
   "source": [
    "from random import randint"
   ]
  },
  {
   "cell_type": "code",
   "execution_count": 5,
   "metadata": {},
   "outputs": [],
   "source": [
    "deposit_password(\"Reddit\", \"Choppedolives\", \"htmlmagyk35\")"
   ]
  },
  {
   "cell_type": "code",
   "execution_count": 9,
   "metadata": {},
   "outputs": [
    {
     "ename": "NameError",
     "evalue": "name 'storage' is not defined",
     "output_type": "error",
     "traceback": [
      "\u001b[1;31m---------------------------------------------------------------------------\u001b[0m",
      "\u001b[1;31mNameError\u001b[0m                                 Traceback (most recent call last)",
      "\u001b[1;32m<ipython-input-9-1bbea2e7bec9>\u001b[0m in \u001b[0;36m<module>\u001b[1;34m()\u001b[0m\n\u001b[1;32m----> 1\u001b[1;33m \u001b[0mwithdraw_password\u001b[0m\u001b[1;33m(\u001b[0m\u001b[1;34m\"Reddit\"\u001b[0m\u001b[1;33m)\u001b[0m\u001b[1;33m\u001b[0m\u001b[0m\n\u001b[0m",
      "\u001b[1;32m~\\Desktop\\MyProject\\my_modules\\functions.py\u001b[0m in \u001b[0;36mwithdraw_password\u001b[1;34m(site)\u001b[0m\n\u001b[0;32m     67\u001b[0m \u001b[1;32mdef\u001b[0m \u001b[0mwithdraw_password\u001b[0m\u001b[1;33m(\u001b[0m\u001b[0msite\u001b[0m\u001b[1;33m)\u001b[0m\u001b[1;33m:\u001b[0m\u001b[1;33m\u001b[0m\u001b[0m\n\u001b[0;32m     68\u001b[0m \u001b[1;33m\u001b[0m\u001b[0m\n\u001b[1;32m---> 69\u001b[1;33m     \u001b[0msite_name\u001b[0m \u001b[1;33m=\u001b[0m \u001b[0mgetattr\u001b[0m\u001b[1;33m(\u001b[0m\u001b[0mstorage\u001b[0m\u001b[1;33m,\u001b[0m \u001b[0msite\u001b[0m\u001b[1;33m)\u001b[0m\u001b[1;33m.\u001b[0m\u001b[0msite\u001b[0m\u001b[1;33m\u001b[0m\u001b[0m\n\u001b[0m\u001b[0;32m     70\u001b[0m     \u001b[0musername\u001b[0m \u001b[1;33m=\u001b[0m \u001b[0mgetattr\u001b[0m\u001b[1;33m(\u001b[0m\u001b[0mstorage\u001b[0m\u001b[1;33m,\u001b[0m \u001b[0msite\u001b[0m\u001b[1;33m)\u001b[0m\u001b[1;33m.\u001b[0m\u001b[0musername\u001b[0m\u001b[1;33m\u001b[0m\u001b[0m\n\u001b[0;32m     71\u001b[0m     \u001b[0mpassword\u001b[0m \u001b[1;33m=\u001b[0m \u001b[0mgetattr\u001b[0m\u001b[1;33m(\u001b[0m\u001b[0mstorage\u001b[0m\u001b[1;33m,\u001b[0m \u001b[0msite\u001b[0m\u001b[1;33m)\u001b[0m\u001b[1;33m.\u001b[0m\u001b[0mpassword\u001b[0m\u001b[1;33m\u001b[0m\u001b[0m\n",
      "\u001b[1;31mNameError\u001b[0m: name 'storage' is not defined"
     ]
    }
   ],
   "source": [
    "withdraw_password(\"Reddit\")"
   ]
  },
  {
   "cell_type": "code",
   "execution_count": null,
   "metadata": {},
   "outputs": [],
   "source": []
  }
 ],
 "metadata": {
  "kernelspec": {
   "display_name": "Python 3",
   "language": "python",
   "name": "python3"
  },
  "language_info": {
   "codemirror_mode": {
    "name": "ipython",
    "version": 3
   },
   "file_extension": ".py",
   "mimetype": "text/x-python",
   "name": "python",
   "nbconvert_exporter": "python",
   "pygments_lexer": "ipython3",
   "version": "3.6.5"
  }
 },
 "nbformat": 4,
 "nbformat_minor": 2
}
