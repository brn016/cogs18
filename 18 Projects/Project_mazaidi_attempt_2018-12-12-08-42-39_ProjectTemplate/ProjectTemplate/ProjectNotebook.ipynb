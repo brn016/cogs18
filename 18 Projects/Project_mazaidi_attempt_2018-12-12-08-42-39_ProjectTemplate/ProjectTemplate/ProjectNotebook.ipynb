{
 "cells": [
  {
   "cell_type": "markdown",
   "metadata": {},
   "source": [
    "# Project Description"
   ]
  },
  {
   "cell_type": "markdown",
   "metadata": {},
   "source": [
    "My project involves implementing the RSA algorithm, which is used to encrypt and decrypt messages. \n",
    "\n",
    "RSA algorithm steps from Wiki (https://simple.wikipedia.org/wiki/RSA_algorithm):\n",
    "\n",
    "1. Choose two different prime numbers p and q\n",
    "2. Calculate n = p*q\n",
    "3. Calculate totient phi = (p-1)(q-1)\n",
    "4. Choose an integer e which is coprime with phi\n",
    "    * e is now the public key\n",
    "5. Calculate d = (1 mod λ(n))/e\n",
    "    * d is now the private key"
   ]
  },
  {
   "cell_type": "markdown",
   "metadata": {},
   "source": [
    "## Project Code\n",
    "\n",
    "If it makes sense for your project, you can have code and outputs here in the notebook as well."
   ]
  },
  {
   "cell_type": "code",
   "execution_count": 23,
   "metadata": {},
   "outputs": [],
   "source": [
    "from my_module.functions import decryptor, encryptor, char_to_ASCII, ASCII_to_char"
   ]
  },
  {
   "cell_type": "code",
   "execution_count": 25,
   "metadata": {},
   "outputs": [],
   "source": [
    "my_array = char_to_ASCII(\"COGS 18 was a great course! Thank you Professor Tom and all the TAs & IAs!\\\n",
    " Happy Holidays!\")"
   ]
  },
  {
   "cell_type": "code",
   "execution_count": 26,
   "metadata": {},
   "outputs": [
    {
     "name": "stdout",
     "output_type": "stream",
     "text": [
      "Don't lose the private key or n. You will not be able decrypt your text otherwise!\n",
      "\n",
      "n:  2189\n",
      "private key:  1579 \n",
      "\n"
     ]
    }
   ],
   "source": [
    "enc_array = encryptor(my_array)"
   ]
  },
  {
   "cell_type": "code",
   "execution_count": 29,
   "metadata": {},
   "outputs": [],
   "source": [
    "# Make sure to change the n and private key for the decryptor function \n",
    "# decryptor(private_key,n)\n",
    "dec_array = decryptor(enc_array,4,2189)"
   ]
  },
  {
   "cell_type": "code",
   "execution_count": 30,
   "metadata": {},
   "outputs": [
    {
     "data": {
      "text/plain": [
       "'Ƃƫ۰\\u038b࠶Ɯց࠶ʇϧӫ࠶ϧ࠶̑يˉϧ\\u038b࠶ƭ\\x90ߋيӫˉÑ࠶ФĘϧސࠢ࠶Χ\\x90ߋ࠶٪ي\\x90ߊˉӫӫ\\x90ي࠶Ф\\x90̤࠶ϧސɴ࠶ϧ֟֟࠶\\u038bĘˉ࠶Фѣӫ࠶č࠶̆ѣӫÑ࠶͉ϧȯȯΧ࠶͉\\x90֟\\u0380ɴϧΧӫÑ'"
      ]
     },
     "execution_count": 30,
     "metadata": {},
     "output_type": "execute_result"
    }
   ],
   "source": [
    "ASCII_to_char(dec_array)"
   ]
  },
  {
   "cell_type": "code",
   "execution_count": null,
   "metadata": {},
   "outputs": [],
   "source": []
  }
 ],
 "metadata": {
  "kernelspec": {
   "display_name": "Python 3",
   "language": "python",
   "name": "python3"
  },
  "language_info": {
   "codemirror_mode": {
    "name": "ipython",
    "version": 3
   },
   "file_extension": ".py",
   "mimetype": "text/x-python",
   "name": "python",
   "nbconvert_exporter": "python",
   "pygments_lexer": "ipython3",
   "version": "3.6.5"
  }
 },
 "nbformat": 4,
 "nbformat_minor": 2
}
