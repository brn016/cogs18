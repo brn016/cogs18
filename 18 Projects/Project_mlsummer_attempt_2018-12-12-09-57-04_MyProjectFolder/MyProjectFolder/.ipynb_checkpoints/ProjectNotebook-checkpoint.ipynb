{
 "cells": [
  {
   "cell_type": "markdown",
   "metadata": {},
   "source": [
    "# Project Description"
   ]
  },
  {
   "cell_type": "markdown",
   "metadata": {},
   "source": [
    "For my project I worked on expanding upon A4 - Artificial Agents, which created a board for various types of bots to perform their specific type of movement upon. I created more bots to play on the board, such as one that only moves diagonally, one that bounces off the side of the board, and one that only moves in the shape of a square. I also changed the speed of the bots so that it was no longer constant throughout the run of play_board, but changed with each iteration."
   ]
  },
  {
   "cell_type": "markdown",
   "metadata": {},
   "source": [
    "## Project Code"
   ]
  },
  {
   "cell_type": "code",
   "execution_count": 6,
   "metadata": {},
   "outputs": [],
   "source": [
    "## Code for imports from Assignment 4\n",
    "import random\n",
    "import string\n",
    "\n",
    "from time import sleep\n",
    "from IPython.display import clear_output"
   ]
  },
  {
   "cell_type": "code",
   "execution_count": 2,
   "metadata": {},
   "outputs": [],
   "source": [
    "from my_module.functions import add_lists, check_bounds, play_board, change_speed, Bot, BounceBot, SquareBot, DiagBot"
   ]
  },
  {
   "cell_type": "code",
   "execution_count": 3,
   "metadata": {},
   "outputs": [
    {
     "name": "stdout",
     "output_type": "stream",
     "text": [
      ". . . . . . . . . .\n",
      ". . . . . . . . . .\n",
      ". . . . . . . . . .\n",
      ". . . . . . . . . .\n",
      ". . . . . . . . . .\n",
      ". . . . . . . . . .\n",
      ". . . . . . . . . .\n",
      ". . . . . ⌖ . . . .\n",
      ". . . . . . . . . .\n",
      ". . . . . . . . . .\n"
     ]
    }
   ],
   "source": [
    "bots = [DiagBot()]\n",
    "play_board(bots, grid_size=10, n_iter=100, sleep_time = 0.3, all_sleep_times = [])"
   ]
  },
  {
   "cell_type": "code",
   "execution_count": 4,
   "metadata": {},
   "outputs": [
    {
     "name": "stdout",
     "output_type": "stream",
     "text": [
      ". . . . . . . . . .\n",
      ". . . . . . . . . .\n",
      ". . . . . . . . . .\n",
      ". . . . . . ⌖ . . .\n",
      ". . . . . . . . . .\n",
      ". . . . . . . . . .\n",
      ". . . . . . . . . ⌖\n",
      ". . . . . . . . . .\n",
      ". . . . . . . . . .\n",
      ". . . . . . . . . .\n"
     ]
    }
   ],
   "source": [
    "bots = [BounceBot(), BounceBot(position = [0, 3])]\n",
    "play_board(bots, grid_size=10, n_iter=100, sleep_time = 0.3, all_sleep_times = [])"
   ]
  },
  {
   "cell_type": "code",
   "execution_count": 5,
   "metadata": {},
   "outputs": [
    {
     "name": "stdout",
     "output_type": "stream",
     "text": [
      ". . . . . . . . . .\n",
      ". . . . . . . . . .\n",
      ". . . . . . . . . .\n",
      "⌖ . . . . ⌖ . . . .\n",
      ". . . . . . . . . .\n",
      ". . . . . . . . . .\n",
      ". . . . . . . . . .\n",
      ". . . . . . . . . .\n",
      "⌖ . . . . ⌖ . . . .\n",
      ". . . . . . . . . .\n"
     ]
    }
   ],
   "source": [
    "bots = [SquareBot(position = [0, 0], move_var = 1), SquareBot(position = [5, 0], move_var = 1),\n",
    "        SquareBot(position = [5, 5], move_var = 1), SquareBot(position = [0, 5], move_var = 1)]\n",
    "play_board(bots, grid_size=10, n_iter=100, sleep_time = 0.3, all_sleep_times = [])"
   ]
  }
 ],
 "metadata": {
  "kernelspec": {
   "display_name": "Python 3",
   "language": "python",
   "name": "python3"
  },
  "language_info": {
   "codemirror_mode": {
    "name": "ipython",
    "version": 3
   },
   "file_extension": ".py",
   "mimetype": "text/x-python",
   "name": "python",
   "nbconvert_exporter": "python",
   "pygments_lexer": "ipython3",
   "version": "3.7.0"
  }
 },
 "nbformat": 4,
 "nbformat_minor": 2
}
