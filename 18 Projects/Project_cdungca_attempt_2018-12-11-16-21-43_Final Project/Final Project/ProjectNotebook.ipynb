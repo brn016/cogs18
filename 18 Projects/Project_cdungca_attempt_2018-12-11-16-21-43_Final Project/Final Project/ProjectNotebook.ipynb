{
 "cells": [
  {
   "cell_type": "markdown",
   "metadata": {},
   "source": [
    "# Final project: Simple maze-solving artificial agent"
   ]
  },
  {
   "cell_type": "markdown",
   "metadata": {},
   "source": [
    "# Acknowledgements"
   ]
  },
  {
   "cell_type": "markdown",
   "metadata": {},
   "source": [
    "The maze agent and functions used in this project rely on\n",
    "modified code from assignment 4. Most of the code is taken from\n",
    "my answers to the assignment, with the addition of some external\n",
    "functions.\n",
    "\n",
    "Link: https://cogs18.github.io/assignments/A4-ArtificialAgents/\n",
    "\n",
    "More information can be found in the docstrings of the project files. "
   ]
  },
  {
   "cell_type": "markdown",
   "metadata": {},
   "source": [
    "# Description"
   ]
  },
  {
   "cell_type": "markdown",
   "metadata": {},
   "source": [
    "### This project involved:\n",
    " - Generating random mazes of specified sizes\n",
    " - Allowing the maze to be iterated over and over as the agent moved\n",
    " - Programming the bot to avoid walls and advance in the correct direction\n",
    " - Checking completion conditions and displaying a victory message"
   ]
  },
  {
   "cell_type": "markdown",
   "metadata": {},
   "source": [
    "### How the agent solves the maze:\n"
   ]
  },
  {
   "cell_type": "markdown",
   "metadata": {},
   "source": [
    " - It continues in left or right direction until it hits a wall or space\n",
    " - If it hits a boundary wall, it will change direction\n",
    " - If it senses a space below, it will move down\n",
    " - If it reaches the bottom of the maze, it will stop moving"
   ]
  },
  {
   "cell_type": "markdown",
   "metadata": {},
   "source": [
    "# Imports (run this before executing project)"
   ]
  },
  {
   "cell_type": "code",
   "execution_count": null,
   "metadata": {},
   "outputs": [],
   "source": [
    "import my_module.agent\n",
    "\n",
    "from my_module.agent import add_lists, check_bounds, MazeBot, build_maze_walls, hole_list_generator, play_board_maze"
   ]
  },
  {
   "cell_type": "markdown",
   "metadata": {},
   "source": [
    "# Running the maze"
   ]
  },
  {
   "cell_type": "markdown",
   "metadata": {},
   "source": [
    " - Run the code below to execute the project"
   ]
  },
  {
   "cell_type": "code",
   "execution_count": null,
   "metadata": {},
   "outputs": [],
   "source": [
    "play_board_maze(MazeBot(), 15, 0.2)"
   ]
  },
  {
   "cell_type": "markdown",
   "metadata": {},
   "source": [
    "# How to modify the maze"
   ]
  },
  {
   "cell_type": "markdown",
   "metadata": {},
   "source": [
    " - To modify the maze, edit the second and third parameters of the function\n",
    " - The second parameter represents the n x n maze size\n",
    " - The third parameter is the time between each move (in seconds)"
   ]
  },
  {
   "cell_type": "markdown",
   "metadata": {},
   "source": [
    "For example:\n",
    "\n",
    "```python\n",
    "play_board_maze(MazeBot(), 9, 0.1)\n",
    "```\n",
    "\n",
    "will create a 9x9 maze for MazeBot to solve in 0.1 second steps."
   ]
  },
  {
   "cell_type": "markdown",
   "metadata": {},
   "source": [
    " - Every maze is unique! However, I don't recommend mazes bigger than 25x25 or it may take a while to solve"
   ]
  },
  {
   "cell_type": "markdown",
   "metadata": {},
   "source": [
    "# Try it yourself!"
   ]
  },
  {
   "cell_type": "code",
   "execution_count": null,
   "metadata": {},
   "outputs": [],
   "source": [
    "play_board_maze(MazeBot(), 9, 0.1)"
   ]
  }
 ],
 "metadata": {
  "kernelspec": {
   "display_name": "Python 3",
   "language": "python",
   "name": "python3"
  },
  "language_info": {
   "codemirror_mode": {
    "name": "ipython",
    "version": 3
   },
   "file_extension": ".py",
   "mimetype": "text/x-python",
   "name": "python",
   "nbconvert_exporter": "python",
   "pygments_lexer": "ipython3",
   "version": "3.7.0"
  }
 },
 "nbformat": 4,
 "nbformat_minor": 2
}
