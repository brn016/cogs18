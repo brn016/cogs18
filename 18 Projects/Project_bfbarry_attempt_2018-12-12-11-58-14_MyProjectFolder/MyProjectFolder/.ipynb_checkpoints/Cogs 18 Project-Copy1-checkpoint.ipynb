{
 "cells": [
  {
   "cell_type": "markdown",
   "metadata": {},
   "source": [
    "# Compression in Python – A Tutorial\n",
    "\n",
    "\n",
    "### What is Compression?\n",
    "\n",
    "Compression is a method used to shrink the size of files in order to save storage space on a device.  When downloading content from the internet, we often encounter files with the extension .zip or .rar.  These are instances of files that have been compressed.  Upon opening, they create the 'original', accessible file.\n",
    "\n",
    "   There are diverse and complex schools of thought on how to approach compression, ranging from information theory to statistics.  And as we experience the age of big data, research in this field is in an incessant pursuit for more efficient compression methdos.  In general, the algorithms that make compression possible rely on some rather intuitive mathematical rules.  Text compression essentially remove redundancy from a file by removing redundant repeating characters (or patterns of characters), and keeping track of these in a dictionary.  For image compression, the same idea applies except instead of characters it manipulates pixels and their colors.  \n",
    "\n",
    "### Data Compression Modules from the Python Standard Library (https://docs.python.org/3/library/archiving.html)\n",
    "\n",
    "   Python offers several algorithms for this topic.  This tutorial will focus on the most of these methods.  "
   ]
  },
  {
   "cell_type": "markdown",
   "metadata": {},
   "source": [
    "## — How to use zlib: Functions —\n",
    "\n",
    "This section will explain how to use zlib.  Zlib is a lossless algorithm that can compress as well as decompress files.  "
   ]
  },
  {
   "cell_type": "markdown",
   "metadata": {},
   "source": [
    "• We start by importing the zlib object\n",
    "• For the purpose of this project, we also import sys to indicate the size of files to show how sucessful the compression worked\n"
   ]
  },
  {
   "cell_type": "code",
   "execution_count": null,
   "metadata": {},
   "outputs": [],
   "source": [
    "import zlib"
   ]
  },
  {
   "cell_type": "markdown",
   "metadata": {},
   "source": [
    "Next we can compress a file of interest using the following.  Use level as a parameter."
   ]
  },
  {
   "cell_type": "code",
   "execution_count": null,
   "metadata": {},
   "outputs": [],
   "source": [
    "zlib.compress(data, level=-1)\n",
    "\n",
    "    #data is the data being compressed\n",
    "    #level is the amount of compression desired, from 0-9"
   ]
  },
  {
   "cell_type": "markdown",
   "metadata": {},
   "source": [
    "To decompress a file we use "
   ]
  },
  {
   "cell_type": "code",
   "execution_count": null,
   "metadata": {},
   "outputs": [],
   "source": [
    "zlib.decompress(data, wbits=MAX_WBITS, bufsize=DEF_BUF_SIZE)\n",
    "\n",
    "    #data is what is being decompressed\n",
    "    #\n",
    "\n"
   ]
  },
  {
   "cell_type": "markdown",
   "metadata": {},
   "source": [
    "`compressobj` creates a compressed object"
   ]
  },
  {
   "cell_type": "code",
   "execution_count": null,
   "metadata": {},
   "outputs": [],
   "source": [
    "zlib.compressobj(level=-1, method=DEFLATED, wbits=MAX_WBITS, memLevel=DEF_MEM_LEVEL, strategy=Z_DEFAULT_STRATEGY[, zdict])\n",
    "\n",
    "    #A level of 1 is fastest\n",
    "    #'DEFLATED' is the only compression method available\n",
    "    #wbits controls the window size (max 15)\n",
    "    #memLevel is the amount of memory used for compression (1-9)\n",
    "    #Strategy tunes the compression                              ??\n",
    "    #zdict is the compression dictionary"
   ]
  },
  {
   "cell_type": "markdown",
   "metadata": {},
   "source": [
    "`decompressobj` creates a decompresed object"
   ]
  },
  {
   "cell_type": "code",
   "execution_count": null,
   "metadata": {},
   "outputs": [],
   "source": [
    "zlib.decompressobj(wbits=MAX_WBITS[, zdict])\n"
   ]
  },
  {
   "cell_type": "markdown",
   "metadata": {},
   "source": [
    "## — How to use gzip: Functions —\n",
    "\n",
    "Gzip is a type of compression that builds off of the zlib library."
   ]
  },
  {
   "cell_type": "markdown",
   "metadata": {},
   "source": [
    "## — How to use zipfile: Functions —\n",
    "\n",
    "The .ZIP is one of the most common type of compression/archive file formats available.  There are many functions used for more advanced applications with data structures, so this with focus on a surface level implication that most users would do."
   ]
  },
  {
   "cell_type": "code",
   "execution_count": 1,
   "metadata": {},
   "outputs": [],
   "source": [
    "import zipfile"
   ]
  },
  {
   "cell_type": "code",
   "execution_count": null,
   "metadata": {},
   "outputs": [],
   "source": []
  },
  {
   "cell_type": "markdown",
   "metadata": {},
   "source": [
    "# Project Scripts\n",
    "\n"
   ]
  },
  {
   "cell_type": "markdown",
   "metadata": {},
   "source": [
    "# Exploration and Research Application: Fractal Compression\n",
    "\n",
    "Fractal compression is interesting because it looks for areas of self similarity in an image.  Because of this, it is ideal for natural images (such as landscapes) and combines well with machine learning.  Fractal compression is not ideal for real time applications, as encoding is computationally expensive.  The decoding however is not.  "
   ]
  },
  {
   "cell_type": "code",
   "execution_count": null,
   "metadata": {},
   "outputs": [],
   "source": [
    "dict1 = {'¡':'the','™':'be','£':'to',... }\n",
    "\n",
    "bigstring = input('Type a sentence or two here')"
   ]
  },
  {
   "cell_type": "code",
   "execution_count": null,
   "metadata": {},
   "outputs": [],
   "source": [
    "import numpy as np\n",
    "import matplotlib.pyplot as plt\n",
    "import matplotlib.cm as cm\n",
    "from PIL import Image\n",
    "import cv2\n",
    "from progressbar import ProgressBar\n",
    "import multiprocessing\n",
    "\n",
    "def lstsq(img_large, img_small):\n",
    "    x = np.reshape(img_small, N*N)\n",
    "    y = np.reshape(img_large, N*N)\n",
    "    A = np.array([x, np.ones(len(x))]).T\n",
    "    return np.linalg.lstsq(A,y)\n",
    "\n",
    "def calc(s, t):\n",
    "    residues = np.zeros((256-N,256-N))\n",
    "    for j in range(256-N):\n",
    "        for i in range(256-N):\n",
    "            residues[j][i] = lstsq(img1[t:t+N, s:s+N], img2[j:j+N, i:i+N])[1]\n",
    "\n",
    "    for j in range(256-N):\n",
    "        for i in range(256-N):\n",
    "            if residues[j][i] == np.amin(residues):\n",
    "                x, y = i, j\n",
    "                break;\n",
    "        if residues[j][i] == np.amin(residues):\n",
    "            break\n",
    "\n",
    "    m, c = lstsq(img1[t:t+N, s:s+N], img2[y:y+N, x:x+N])[0]\n",
    "    return np.r_[x, y, m, c]\n",
    "\n",
    "def main(num):\n",
    "    p = np.zeros((512/N/cpu, 512/N, 4))\n",
    "    if num == 0: pbar = ProgressBar((512/N/cpu)*(512/N))\n",
    "    for j in range(512/N/cpu):\n",
    "        for i in range(512/N):\n",
    "            p[j][i] = calc(i*N, (j+512/N/cpu*num)*N)\n",
    "            if num == 0: pbar.update((512/N)*j+i+1)\n",
    "    return p\n",
    "\n",
    "if __name__ == '__main__':\n",
    "    cpu = multiprocessing.cpu_count()\n",
    "    N = 32\n",
    "    img1 = np.array(Image.open('Lenna.jpg').convert(\"L\"))\n",
    "    img2 = cv2.resize(img1,(256,256))\n",
    "\n",
    "    pool = multiprocessing.Pool(cpu)\n",
    "    callback = pool.map(main, range(cpu))\n",
    "\n",
    "    print('process finished!')\n",
    "\n",
    "    d = np.zeros((512/N, 512/N, 4))\n",
    "    for i in range(cpu):\n",
    "        d[i*512/N/cpu:(i+1)*512/N/cpu] = callback[i]\n",
    "\n",
    "    img3 = np.zeros((256, 256))\n",
    "    dst = np.zeros((512, 512))\n",
    "\n",
    "    for k in range(10):\n",
    "        for j in range(512/N):\n",
    "            for i in range(512/N):\n",
    "                dst[j*N:j*N+N, i*N:i*N+N] = img3[d[j][i][1]:d[j][i][1]+N, d[j][i][0]:d[j][i][0]+N] * d[j][i][2] + d[j][i][3]\n",
    "        img3 = cv2.resize(dst,(256,256))\n",
    "        cv2.imwrite(str(N)+\"_\"+str(k+1)+\".jpg\", dst)\n"
   ]
  },
  {
   "cell_type": "markdown",
   "metadata": {},
   "source": [
    "## Works Cited \n",
    "\n",
    "\n",
    "\n"
   ]
  },
  {
   "cell_type": "code",
   "execution_count": null,
   "metadata": {},
   "outputs": [],
   "source": [
    "ask_for_num = True\n",
    "while ask_for_num:\n",
    "    try:\n",
    "        my_num = int(input(\"Please enter a number: \"))\n",
    "        ask_for_num = False\n",
    "    except ValueError:\n",
    "        print(\"Oops!  That was no valid number. Try again!\")\n",
    "\n",
    "        \n",
    "print('gay')"
   ]
  },
  {
   "cell_type": "code",
   "execution_count": null,
   "metadata": {},
   "outputs": [],
   "source": [
    "#and (my_num > 9 or my num < 1):"
   ]
  },
  {
   "cell_type": "code",
   "execution_count": null,
   "metadata": {},
   "outputs": [],
   "source": []
  }
 ],
 "metadata": {
  "kernelspec": {
   "display_name": "Python 3",
   "language": "python",
   "name": "python3"
  },
  "language_info": {
   "codemirror_mode": {
    "name": "ipython",
    "version": 3
   },
   "file_extension": ".py",
   "mimetype": "text/x-python",
   "name": "python",
   "nbconvert_exporter": "python",
   "pygments_lexer": "ipython3",
   "version": "3.7.0"
  }
 },
 "nbformat": 4,
 "nbformat_minor": 2
}
