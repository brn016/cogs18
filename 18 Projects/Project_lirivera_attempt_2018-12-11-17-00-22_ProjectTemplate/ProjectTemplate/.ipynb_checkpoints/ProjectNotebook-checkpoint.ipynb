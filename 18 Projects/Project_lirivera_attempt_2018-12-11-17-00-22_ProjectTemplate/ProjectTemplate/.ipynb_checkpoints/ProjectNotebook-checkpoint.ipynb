{
 "cells": [
  {
   "cell_type": "markdown",
   "metadata": {},
   "source": [
    "# Project Description"
   ]
  },
  {
   "cell_type": "markdown",
   "metadata": {},
   "source": [
    "Write a brief description of your project here. \n",
    "\n",
    "Note that projects should be self-sufficient, so make sure to provide enough information and context here for someone to understand what you are doing in your project, and why. "
   ]
  },
  {
   "cell_type": "markdown",
   "metadata": {},
   "source": [
    "## Project Code\n",
    "\n",
    "If it makes sense for your project, you can have code and outputs here in the notebook as well."
   ]
  },
  {
   "cell_type": "code",
   "execution_count": 1,
   "metadata": {},
   "outputs": [
    {
     "data": {
      "text/plain": [
       "' \\nI continued assignment 3, the chatbot. I added some new collection of \\ninputs including feelings both negative and positive which \\nsort of works like s therapist, but not exactly. \\n\\nAdded inputs that output some of my personal favorite emojis.\\n-> to get my fave emojis type these as inputs: \\n        rainbow, \\n        heart, \\n        beach, \\n        comet,          |||||funnn|||||\\n        winter, \\n        hot \\n        \\nI also updated outputs for unknown and question. And for the human input I changed it to \\n\"how are you instead of \\'input\\' to get a feeling of a more personal interaction with the chatbot. \\n\\nOverall I added someaspect that I tought would be fun to play around with.\\nI was happy when I figured how to use emojis in my chatbot. \\nI used \\'https://unicode.org/emoji/charts/full-emoji-list.html\\'\\nto get shortcut names for the emojis. I would\\'ve loved to added all the emojis in my \\ndictionary but that would be \\na veryyyy long dictionary so I stayed with some of my favorites. This project was fun, and personally \\nI learned a lot by tackling my own code additions of what I wanted to do. \\n\\n'"
      ]
     },
     "execution_count": 1,
     "metadata": {},
     "output_type": "execute_result"
    }
   ],
   "source": [
    "# a more chill therapy bot, a friend indeed \n",
    "''' \n",
    "I continued assignment 3, the chatbot. I added some new collection of \n",
    "inputs including feelings both negative and positive which \n",
    "sort of works like s therapist, but not exactly. \n",
    "\n",
    "Added inputs that output some of my personal favorite emojis.\n",
    "-> to get my fave emojis type these as inputs: \n",
    "        rainbow, \n",
    "        heart, \n",
    "        beach, \n",
    "        comet,          |||||funnn|||||\n",
    "        winter, \n",
    "        hot \n",
    "        \n",
    "I also updated outputs for unknown and question. And for the human input I changed it to \n",
    "\"how are you instead of 'input' to get a feeling of a more personal interaction with the chatbot. \n",
    "\n",
    "Overall I added someaspect that I tought would be fun to play around with.\n",
    "I was happy when I figured how to use emojis in my chatbot. \n",
    "I used 'https://unicode.org/emoji/charts/full-emoji-list.html'\n",
    "to get shortcut names for the emojis. I would've loved to added all the emojis in my \n",
    "dictionary but that would be \n",
    "a veryyyy long dictionary so I stayed with some of my favorites. This project was fun, and personally \n",
    "I learned a lot by tackling my own code additions of what I wanted to do. \n",
    "\n",
    "'''"
   ]
  },
  {
   "cell_type": "code",
   "execution_count": 2,
   "metadata": {},
   "outputs": [],
   "source": [
    "import string\n",
    "import random\n",
    "import nltk"
   ]
  },
  {
   "cell_type": "code",
   "execution_count": 3,
   "metadata": {},
   "outputs": [],
   "source": [
    "#checks if input is a question\n",
    "def is_question(input_string):\n",
    "    \n",
    "    if '?' in input_string:\n",
    "        output = True\n",
    "    else:\n",
    "        output = False\n",
    "    \n",
    "    return output"
   ]
  },
  {
   "cell_type": "code",
   "execution_count": 4,
   "metadata": {},
   "outputs": [],
   "source": [
    "#removes punctuation ones knows its a question\n",
    "def remove_punctuation(input_string):\n",
    "    \n",
    "    out_string = ''\n",
    "    for char in input_string:\n",
    "        if char not in string.punctuation:\n",
    "            out_string += char\n",
    "            \n",
    "    return out_string"
   ]
  },
  {
   "cell_type": "code",
   "execution_count": 5,
   "metadata": {},
   "outputs": [],
   "source": [
    "#prepares text inputs for processing\n",
    "def prepare_text(input_string):\n",
    "    \n",
    "    temp_string = input_string.lower()\n",
    "    temp_string = remove_punctuation(temp_string)\n",
    "    out_list = temp_string.split()\n",
    "    \n",
    "    return out_list"
   ]
  },
  {
   "cell_type": "code",
   "execution_count": 6,
   "metadata": {},
   "outputs": [],
   "source": [
    "#echos a response\n",
    "def respond_echo(input_string, number_of_echoes, spacer):\n",
    "    \n",
    "    if input_string is not None:\n",
    "        echo_output = (input_string+spacer)*(number_of_echoes)\n",
    "    else:\n",
    "        echo_output = None\n",
    "    \n",
    "    return echo_output "
   ]
  },
  {
   "cell_type": "code",
   "execution_count": 7,
   "metadata": {},
   "outputs": [
    {
     "data": {
      "text/plain": [
       "'second option'"
      ]
     },
     "execution_count": 7,
     "metadata": {},
     "output_type": "execute_result"
    }
   ],
   "source": [
    "#variation for chatbot using random.choice\n",
    "random.choice(['first option', 'second option', 'third option'])\n"
   ]
  },
  {
   "cell_type": "code",
   "execution_count": 8,
   "metadata": {},
   "outputs": [],
   "source": [
    "#function that helps select an output for the chatbot base on the inout recieves\n",
    "def selector(input_list, check_list, return_list):\n",
    "\n",
    "    output = None\n",
    "    for word in input_list:\n",
    "        if word in check_list:\n",
    "            output = random.choice(return_list)\n",
    "            break\n",
    "\n",
    "    return output"
   ]
  },
  {
   "cell_type": "code",
   "execution_count": 9,
   "metadata": {},
   "outputs": [],
   "source": [
    "#concatenates strings \n",
    "def string_concatenator(string1, string2, separator):\n",
    "    \n",
    "    result = string1 + separator + string2\n",
    "    \n",
    "    return result"
   ]
  },
  {
   "cell_type": "code",
   "execution_count": 10,
   "metadata": {},
   "outputs": [],
   "source": [
    "#turns list to string\n",
    "def list_to_string(input_list, separator):\n",
    "    \n",
    "    output = input_list[0]\n",
    "    for item in input_list[1:]:\n",
    "        output = string_concatenator(output, item, separator)\n",
    "        \n",
    "    return output"
   ]
  },
  {
   "cell_type": "code",
   "execution_count": 11,
   "metadata": {},
   "outputs": [],
   "source": [
    "#ends chat\n",
    "def end_chat(input_list):\n",
    "    \n",
    "    if 'quit' in input_list:\n",
    "        output = True\n",
    "    else:\n",
    "        output = False\n",
    "        \n",
    "    return output"
   ]
  },
  {
   "cell_type": "code",
   "execution_count": 12,
   "metadata": {},
   "outputs": [],
   "source": [
    "#more functions \n",
    "def is_in_list(list_one, list_two):\n",
    "    \"\"\"Check if any element of list_one is in list_two.\"\"\"\n",
    "    \n",
    "    for element in list_one:\n",
    "        if element in list_two:\n",
    "            return True\n",
    "    return False\n",
    "\n",
    "def find_in_list(list_one, list_two):\n",
    "    \"\"\"Find and return an element from list_one that is in list_two, or None otherwise.\"\"\"\n",
    "    \n",
    "    for element in list_one:\n",
    "        if element in list_two:\n",
    "            return element\n",
    "    return None\n"
   ]
  },
  {
   "cell_type": "code",
   "execution_count": 13,
   "metadata": {},
   "outputs": [],
   "source": [
    "#defines a collection of input and output our chatbot can say and respond to \n",
    "GREETINGS_IN = ['hello', 'hi', 'hey', 'hola', 'welcome', 'bonjour', 'greetings']\n",
    "GREETINGS_OUT = [\"Hello, it's nice to talk to you!\", 'Nice to meet you!',  \"Hey - Let's chat!\"]\n",
    "\n",
    "COMP_IN = ['python', 'code', 'computer', 'algorithm', ]\n",
    "COMP_OUT = [\"Python is what I'm made of.\", \\\n",
    "            \"Did you know I'm made of code!?\", \\\n",
    "            \"Computers are so magical\", \\\n",
    "            \"Do you think I'll pass the Turing test?\"]\n",
    "\n",
    "PEOPLE_IN = ['turing', 'hopper', 'neumann', 'lovelace']\n",
    "PEOPLE_OUT = ['was awesome!', 'did so many important things!', 'is someone you should look up :).']\n",
    "PEOPLE_NAMES = {'turing': 'Alan', 'hopper': 'Grace', 'neumann': 'John von', 'lovelace': 'Ada'}\n",
    "\n",
    "JOKES_IN = ['funny', 'hilarious', 'ha', 'haha', 'hahaha', 'lol']\n",
    "JOKES_OUT = ['ha', 'haha', 'lol'] \n",
    "\n",
    "NONO_IN = ['matlab', 'java', 'C++']\n",
    "NONO_OUT = [\"I'm sorry, I don't want to talk about\"]\n",
    "\n",
    "#updated unknow outputs***\n",
    "UNKNOWN = ['Good.', 'Okay', 'Huh?', 'Yeah!', 'Thanks!','im lost', 'cool?', 'goodluck with that','thats silly', 'wowser','lit']\n",
    "\n",
    "#updated output for question***\n",
    "QUESTION = \"I'm a robot so I can't answer that, srry!\"\n",
    "\n",
    "#negative feelings***\n",
    "REFLECTION_IN = ['sad', 'mad','lonely','tired', 'sleepy', 'hungry','help']\n",
    "REFLECTION_OUT = ['get well :c', 'tmr is a new day', 'you will get through this', 'it will get better',\n",
    "                  'take a deep breath','\\N{confused face}']\n",
    "#positive feelings****\n",
    "POS_IN= ['happy','smart','cool','amazing','good','great','nice']\n",
    "POS_OUT=['\\N{grinning face with smiling eyes}']\n",
    "\n",
    "#dictionary for my favorite emojis***\n",
    "EMOJI_IN= ['rainbow', 'heart', 'beach', 'comet', 'winter', 'hot']\n",
    "EMOJI_OUT=['one of my favorite emoji']\n",
    "EMOJI_NAME= {'rainbow': '\\N{rainbow}', 'heart': '\\N{green heart}', 'beach':'\\N{water wave}','comet':'\\N{comet}',\n",
    "             'winter':'\\N{snowflake}','hot':'\\N{fire}'}\n",
    "\n",
    "def have_a_chat():\n",
    "    \"\"\"Main function to run our chatbot.\"\"\"\n",
    "    \n",
    "    chat = True\n",
    "    while chat:\n",
    "\n",
    "        # Get a message from the user\n",
    "        msg = input('How are you? :\\t')\n",
    "        out_msg = None\n",
    "\n",
    "        # Check if the input is a question\n",
    "        question = is_question(msg)\n",
    "\n",
    "        # Prepare the input message\n",
    "        msg = prepare_text(msg)\n",
    "\n",
    "        # Check for an end msg \n",
    "        if end_chat(msg):\n",
    "            out_msg = 'Bye, Have a great New Years! c:'\n",
    "            chat = False\n",
    "\n",
    "        # Check for a selection of topics that we have defined to respond to\n",
    "        #   Here, we will check for a series of topics that we have designed to answer to\n",
    "        if not out_msg:\n",
    "\n",
    "            # Initialize to collect a list of possible outputs\n",
    "            outs = []\n",
    "\n",
    "            # Check if the input looks like a greeting, add a greeting output if so\n",
    "            outs.append(selector(msg, GREETINGS_IN, GREETINGS_OUT))\n",
    "\n",
    "            # Check if the input looks like a computer thing, add a computer output if so\n",
    "            outs.append(selector(msg, COMP_IN, COMP_OUT))\n",
    "            \n",
    "            #added mood***\n",
    "            outs.append(selector(msg, REFLECTION_IN, REFLECTION_OUT))\n",
    "            #added mood***\n",
    "            outs.append(selector(msg, POS_IN ,POS_OUT))\n",
    "            \n",
    "            # Check if the input mentions a person that is specified, add a person output if so\n",
    "            if is_in_list(msg, PEOPLE_IN):\n",
    "                name = find_in_list(msg, PEOPLE_IN)\n",
    "                outs.append(list_to_string([PEOPLE_NAMES[name], name.capitalize(),\n",
    "                                            selector(msg, PEOPLE_IN, PEOPLE_OUT)], ' '))\n",
    "\n",
    "            # Check if the input looks like a joke, add a repeat joke output if so\n",
    "            outs.append(respond_echo(selector(msg, JOKES_IN, JOKES_OUT), 3, ''))\n",
    "           \n",
    "            #pic emoji name correspondece/added ***\n",
    "            if is_in_list(msg, EMOJI_IN):\n",
    "                emoji = find_in_list(msg, EMOJI_IN)\n",
    "                outs.append(list_to_string([EMOJI_NAME[emoji], selector(msg, EMOJI_IN, EMOJI_OUT)], ' '))\n",
    "\n",
    "\n",
    "            # Check if the input has some words we don't want to talk about, say that, if so\n",
    "            if is_in_list(msg, NONO_IN):\n",
    "                outs.append(list_to_string([selector(msg, NONO_IN, NONO_OUT), find_in_list(msg, NONO_IN)], ' '))\n",
    "\n",
    "        \n",
    "            options = list(filter(None, outs))\n",
    "            if options:\n",
    "                out_msg = random.choice(options)\n",
    "\n",
    "        # If we don't have an output yet, but the input was a question, return msg related to it being a question\n",
    "        if not out_msg and question:\n",
    "            out_msg = QUESTION\n",
    "\n",
    "        # Catch-all to say something if msg not caught & processed so far\n",
    "        if not out_msg:\n",
    "            out_msg = random.choice(UNKNOWN)\n",
    "\n",
    "        print('OUTPUT:', out_msg)\n",
    "        "
   ]
  },
  {
   "cell_type": "code",
   "execution_count": null,
   "metadata": {},
   "outputs": [
    {
     "name": "stdout",
     "output_type": "stream",
     "text": [
      "How are you? :\tim happy\n",
      "OUTPUT: 😁\n",
      "How are you? :\thow are you?\n",
      "OUTPUT: I'm a robot so I can't answer that, srry!\n",
      "How are you? :\ti like rainbow\n",
      "OUTPUT: 🌈 one of my favorite emoji\n",
      "How are you? :\tcomet\n",
      "OUTPUT: ☄ one of my favorite emoji\n",
      "How are you? :\tbeach\n",
      "OUTPUT: 🌊 one of my favorite emoji\n",
      "How are you? :\tfire\n",
      "OUTPUT: Good.\n",
      "How are you? :\thot\n",
      "OUTPUT: 🔥 one of my favorite emoji\n",
      "How are you? :\twinter\n",
      "OUTPUT: ❄ one of my favorite emoji\n",
      "How are you? :\theart\n",
      "OUTPUT: 💚 one of my favorite emoji\n",
      "How are you? :\tim sad\n",
      "OUTPUT: it will get better\n",
      "How are you? :\tim tired\n",
      "OUTPUT: you will get through this\n",
      "How are you? :\thelp me\n",
      "OUTPUT: it will get better\n",
      "How are you? :\tlol\n",
      "OUTPUT: hahaha\n",
      "How are you? :\tyou're cool\n",
      "OUTPUT: 😁\n"
     ]
    }
   ],
   "source": [
    "#talk to our chatbot\n",
    "have_a_chat()\n"
   ]
  },
  {
   "cell_type": "code",
   "execution_count": null,
   "metadata": {},
   "outputs": [],
   "source": []
  },
  {
   "cell_type": "code",
   "execution_count": null,
   "metadata": {},
   "outputs": [],
   "source": [
    "\n"
   ]
  },
  {
   "cell_type": "code",
   "execution_count": null,
   "metadata": {},
   "outputs": [],
   "source": []
  },
  {
   "cell_type": "code",
   "execution_count": null,
   "metadata": {},
   "outputs": [],
   "source": []
  }
 ],
 "metadata": {
  "kernelspec": {
   "display_name": "Python 3",
   "language": "python",
   "name": "python3"
  },
  "language_info": {
   "codemirror_mode": {
    "name": "ipython",
    "version": 3
   },
   "file_extension": ".py",
   "mimetype": "text/x-python",
   "name": "python",
   "nbconvert_exporter": "python",
   "pygments_lexer": "ipython3",
   "version": "3.7.0"
  }
 },
 "nbformat": 4,
 "nbformat_minor": 2
}
