{
 "cells": [
  {
   "cell_type": "markdown",
   "metadata": {},
   "source": [
    "# Project Description"
   ]
  },
  {
   "cell_type": "markdown",
   "metadata": {},
   "source": [
    "This code is meant to run a western-themed 'choose your own adventure' prompt, taking in user input and printing different story scenarios and adding new items to a list depending on the inputs. The 'goal' of the adventure is to accumulate a certain amount of items in your list. With two items or more, the user 'wins' the game and recieves the printed statement \"Good job!\" or \"Better luck next time!\" \n",
    "\n",
    "I defined a few functions, direction_prompt, frontier_prompt, cowboy_prompt, and drink_prompt. I initiated an empty list called cowboy_goodies, and depending on the user inputs, different strings are appended to this list following the execution of conditional statements. "
   ]
  },
  {
   "cell_type": "markdown",
   "metadata": {},
   "source": [
    "# Project Script"
   ]
  },
  {
   "cell_type": "code",
   "execution_count": 1,
   "metadata": {},
   "outputs": [],
   "source": [
    "from my_module.functions import direction_prompt, frontier_prompt, cowboy_prompt, drink_prompt, cowboy_goodies, time"
   ]
  },
  {
   "cell_type": "code",
   "execution_count": 3,
   "metadata": {},
   "outputs": [
    {
     "name": "stdout",
     "output_type": "stream",
     "text": [
      "Welcome to Choose Your Own ~Western~ Adventure \n",
      "What is your name? kt\n",
      " \n",
      "Howdy, kt! The goal of this game is to collect as many treasures as you can!\n",
      "Time to make all the other cowboys jealous!\n",
      " \n",
      "*a virtual tumbleweed rolls across the screen*\n",
      " \n",
      "You are at a crossroads.\n",
      " \n",
      "Would you like to move towards town, or towards the frontier?\n",
      "Enter either 'saloon' or 'wilderness'\n",
      "Saloon or Wilderness? wilderness\n",
      "You Have: ['Shiny Badge', 'Boot', 'Spurs', 'Harmonica', 'Shiny Badge']\n",
      "Congrats, you have picked up a Badge!\n",
      " \n",
      "You stumble upon a wide expanse of desert. Would you like to proceed?\n",
      "Yes or No? yes\n",
      "Congrats, you found a single cowboy boot!\n",
      "You Have: ['Shiny Badge', 'Boot', 'Spurs', 'Harmonica', 'Shiny Badge', 'Boot']\n",
      " \n",
      "You proceed into the Frontier.\n",
      "A shadowy figure appears.\n",
      "Would you like to go up to this shadowy figure? Or run away?\n",
      "Enter 'go up to him' or 'run away' run away\n",
      " \n",
      "He saw you.\n",
      "He's pulling out his gun.\n",
      " \n",
      "oh my god you have skullcandy™ earbuds from Walmart in\n",
      "you can't hear him\n",
      " \n",
      "oh my god\n",
      " \n",
      "He shoots you and takes your single boot.\n",
      " \n",
      "'THERE'S ME OTHER SHOE!!!' he cackles whilst riding off into the sunset.\n",
      "You Have: ['Shiny Badge', 'Spurs', 'Harmonica', 'Shiny Badge', 'Boot']\n",
      " \n",
      "~~~~~~~~~~~~~~~\n",
      "Thanks for playing, folks!\n",
      "Total Cowboy Goodies: ['Shiny Badge', 'Spurs', 'Harmonica', 'Shiny Badge', 'Boot']\n",
      " \n",
      "Good Job Pardner! Yeehaw!\n"
     ]
    }
   ],
   "source": [
    "print(\"Welcome to Choose Your Own ~Western~ Adventure\" + \" \") #print a title to introduce game to player\n",
    "time.sleep(1) #play with time to stagger the statements\n",
    "name = input(\"What is your name?\" + \" \") #take in the player's name \n",
    "time.sleep(1) \n",
    "print(\" \") #add breaks in between statements\n",
    "print(\"Howdy, \" + name + \"!\" + \" \" + \"The goal of this game is to collect as many treasures as you can!\")\n",
    "print(\"Time to make all the other cowboys jealous!\") \n",
    "time.sleep(1)\n",
    "print(\" \")\n",
    "print(\"*a virtual tumbleweed rolls across the screen*\")\n",
    "time.sleep(3)\n",
    "print(\" \")\n",
    "print(\"You are at a crossroads.\")\n",
    "print(\" \")\n",
    "print(\"Would you like to move towards town, or towards the frontier?\")\n",
    "print(\"Enter either 'saloon' or 'wilderness'\")\n",
    "\n",
    "direction = input(\"Saloon or Wilderness?\" + \" \") #run a special function to decide which path to take\n",
    "direction = direction.lower() \n",
    "direction_prompt(direction)\n",
    "\n",
    "if direction == \"wilderness\": #execute series of special function if user input matched string: 'wilderness' \n",
    "    time.sleep(5)\n",
    "    print(\" \")\n",
    "    print(\"You stumble upon a wide expanse of desert. Would you like to proceed?\") \n",
    "    yes_or_no = input(\"Yes or No?\" + \" \")\n",
    "    yes_or_no = yes_or_no.lower()\n",
    "    frontier_prompt(yes_or_no, cowboy_goodies) #frontier_prompt function contains the cowboy_prompt function\n",
    "elif direction == \"saloon\": #execute another special function if user input matchded string: \"saloon\"\n",
    "    time.sleep(5)\n",
    "    print(\" \")\n",
    "    print(\"You make it to the Saloon in town.\")\n",
    "    print(\"Order a round of drinks and celebrate.\")\n",
    "    drink = input(\"What will you have?\" + \" \") \n",
    "    drink = drink.lower() \n",
    "    drink_prompt(drink, cowboy_goodies)\n",
    "else:\n",
    "    direction = input(\"Saloon or Wilderness?\") #if user input matched neither of two strings, get new input\n",
    "    direction_prompt(direction) #re-execute first special function \n",
    "    \n",
    "time.sleep(3)\n",
    "print(\" \")\n",
    "\n",
    "#after a pause, the user will recieve a message based on the outcome of the pathway they executed\n",
    "print(\"~~~~~~~~~~~~~~~\")\n",
    "print(\"Thanks for playing, folks!\")\n",
    "print(\"Total Cowboy Goodies:\", cowboy_goodies)\n",
    "print(\" \")\n",
    "if len(cowboy_goodies)>2: #if the number of items in the list was over two, a congratulatory statement is printed \n",
    "    print(\"Good Job Pardner! Yeehaw!\") #note: a long list of items can only be obtained through a few particular choices\n",
    "else:\n",
    "    print(\"Better luck next time.\") #if there are two items or less in list, another statement is printed\n",
    "    print(\"*sad yeehaw*\") #it is more likely to obtain two or less items than it is to have more than two"
   ]
  },
  {
   "cell_type": "code",
   "execution_count": null,
   "metadata": {},
   "outputs": [],
   "source": []
  }
 ],
 "metadata": {
  "kernelspec": {
   "display_name": "Python 3",
   "language": "python",
   "name": "python3"
  },
  "language_info": {
   "codemirror_mode": {
    "name": "ipython",
    "version": 3
   },
   "file_extension": ".py",
   "mimetype": "text/x-python",
   "name": "python",
   "nbconvert_exporter": "python",
   "pygments_lexer": "ipython3",
   "version": "3.7.0"
  }
 },
 "nbformat": 4,
 "nbformat_minor": 2
}
