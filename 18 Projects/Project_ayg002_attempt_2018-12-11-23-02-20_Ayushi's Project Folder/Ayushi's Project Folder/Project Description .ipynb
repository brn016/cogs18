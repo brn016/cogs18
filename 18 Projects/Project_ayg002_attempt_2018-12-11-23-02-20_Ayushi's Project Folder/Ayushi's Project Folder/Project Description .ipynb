{
 "cells": [
  {
   "cell_type": "markdown",
   "metadata": {},
   "source": [
    "### Cogs 18 Final Project By Ayushi Gupta\n",
    "\n",
    "***A Game of Cyphers!***\n",
    "\n",
    "My project is a two user Game of Cyphers. It starts with User 1 entering a simple message of 5 words or less.\n",
    "This message is then encoded by a function that randomly assigns cyphers between 1 to 5 to each word in the \n",
    "message. User 2 sees this encoded message, and is presented with n simple math problems. The solutions to these \n",
    "math problems are the randomized cyphers. The questions that are posed to User 2 are also randomized with respect \n",
    "to the cyphers. \n",
    "This is done to make the game harder! \n",
    "\n",
    "The next part of the game is deciphering the correct order of these cyphers.\n",
    "This is done by User 2, who gets who chances to arrange the solutions to the math problems in the correct order by \n",
    "matching each numerical solution (cypher) to the each word in the message. The idea is that User 2 will observe \n",
    "the encrypted message, and assign an appropriate cypher to each word. User 2 should do this by making sense of the \n",
    "words that will form when a number of letters are subtracted from the encrypted message, the number of letters are\n",
    "determined by the letters position in the English Alphabet. or example, if the message is “Hi” and the encoded \n",
    "message is “ij”, then the cypher is 1 because H + 1 = I and I + 1 = J. \n",
    "User 2 has two tries to get the order of cyphers right. \n",
    "\n",
    "If User 2 gets the order right after the first try, the game ends and the scores are tallied as:\n",
    "(User 1 = 0, User 2 =1) \n",
    "\n",
    "If User 2 does not get the order right even after two tries, the game ends and the scores are tallied as:\n",
    "(User 1 = 1, User 2 =0)"
   ]
  },
  {
   "cell_type": "code",
   "execution_count": 10,
   "metadata": {},
   "outputs": [],
   "source": [
    "from FinalCode import *"
   ]
  },
  {
   "cell_type": "code",
   "execution_count": null,
   "metadata": {},
   "outputs": [],
   "source": []
  }
 ],
 "metadata": {
  "kernelspec": {
   "display_name": "Python 3",
   "language": "python",
   "name": "python3"
  },
  "language_info": {
   "codemirror_mode": {
    "name": "ipython",
    "version": 3
   },
   "file_extension": ".py",
   "mimetype": "text/x-python",
   "name": "python",
   "nbconvert_exporter": "python",
   "pygments_lexer": "ipython3",
   "version": "3.7.0"
  }
 },
 "nbformat": 4,
 "nbformat_minor": 2
}
