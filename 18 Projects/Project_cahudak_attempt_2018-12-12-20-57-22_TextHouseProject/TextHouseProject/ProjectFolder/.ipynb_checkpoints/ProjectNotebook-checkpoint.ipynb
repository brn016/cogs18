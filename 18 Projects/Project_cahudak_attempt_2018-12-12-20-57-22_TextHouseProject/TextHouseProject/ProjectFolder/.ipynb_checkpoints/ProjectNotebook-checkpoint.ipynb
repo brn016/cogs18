{
 "cells": [
  {
   "cell_type": "markdown",
   "metadata": {},
   "source": [
    "# Project Description"
   ]
  },
  {
   "cell_type": "markdown",
   "metadata": {},
   "source": [
    "This is an exploratory text base game. The user is introduced to a room with objects described inside of it. The user can then interact with the objects by typing commands into the text box. The commands should specify which object to interact with as well as the type of interaction. For example: \"I jump on the bed\". \n",
    "\n",
    "If the object is not present in the room, the user will be notified. Likewise if the action is not available for that particular object the user will be notified. It is up to the user to discover which actions can be performed on which objects in the room.\n",
    "\n",
    "To exit the game type \"quit\" into the text box."
   ]
  },
  {
   "cell_type": "markdown",
   "metadata": {},
   "source": [
    "## Project Code\n",
    "\n",
    "If it makes sense for your project, you can have code and outputs here in the notebook as well."
   ]
  },
  {
   "cell_type": "code",
   "execution_count": null,
   "metadata": {},
   "outputs": [],
   "source": [
    "from my_module.functions import execute_action\n",
    "from my_module.functions import end_game\n",
    "from my_module.functions import prepare_text\n",
    "from my_module.objects import Lamp\n",
    "from my_module.objects import Chair\n",
    "from my_module.objects import Bed\n",
    "from my_module.objects import Book\n",
    "from my_module.objects import ThingsInventory"
   ]
  },
  {
   "cell_type": "code",
   "execution_count": null,
   "metadata": {},
   "outputs": [],
   "source": [
    "\n",
    "def connect_input_to_thing(room, input_string):\n",
    "    \"\"\" Function searches a instantiated room's inventory list for an object corresponding with the a word in the\n",
    "        string input by the user.\n",
    "        \n",
    "    Parameters\n",
    "    ----------\n",
    "    \n",
    "    room : object\n",
    "            the previously instantiated room\n",
    "    \n",
    "    input_string : string \n",
    "            input by the user into the text box\n",
    "    \n",
    "    \n",
    "    Returns\n",
    "    --------\n",
    "    \n",
    "    thing : object \n",
    "            in the room's inventory list that corresponds with the user's input\n",
    "    \n",
    "    \"\"\"\n",
    "\n",
    "    ## string_thing is the returned corresponding string after cross checking \n",
    "    ## the user's input_string with a room's list_of_things\n",
    "    \n",
    "    string_thing = (room.get_thing(input_string))  \n",
    "                                                    \n",
    "    if string_thing == \"chair\":                    \n",
    "        thing = Chair(\"brown\", \"wooden\")\n",
    "        return thing\n",
    "    \n",
    "    elif string_thing == \"lamp\":\n",
    "        thing = Lamp(\"dim\", \"antique\")\n",
    "        return thing\n",
    "        \n",
    "    elif string_thing == \"bed\":\n",
    "        thing = Bed(\"soft\", \"feather\")\n",
    "        return thing\n",
    "    \n",
    "    elif string_thing == \"book\":\n",
    "        thing = Book(\"I am a Strange Loop\", \"heavy\")\n",
    "        return thing\n",
    "    \n",
    "    elif string_thing == \"unknown\":\n",
    "        thing = \"unknown\"\n",
    "        print(\"\\nSorry I don't have that object!\")\n",
    "\n",
    "        \n",
    "def explore_room():\n",
    "    \"\"\" Main function to run game. \"\"\"\n",
    "    \n",
    "    ## Introduction - includes room description and description of objects in room\n",
    "    print(\"Hello and welcome to my room.\")\n",
    "    print(\"There is a chair in one corner, a bed up against the window with a book on it and a lamp next to the chair.\")\n",
    "    print(\"Please make yourself comfortable.\")\n",
    "    print(\"\\n\")\n",
    "    \n",
    "    ## creates object my_room and adds objects/things to the inventory list for that room\n",
    "    my_room = ThingsInventory()\n",
    "    my_room.add_thing(\"lamp\")\n",
    "    my_room.add_thing(\"chair\")\n",
    "    my_room.add_thing(\"bed\")\n",
    "    my_room.add_thing(\"book\")\n",
    "    \n",
    "    ## I used the structure and layout from Tom Donoghue's \n",
    "    ## A3 Chatbots assignment for these next lines  - https://cogs18.github.io/assignments/A3-Chatbots/\n",
    "    chat = True\n",
    "    while chat:\n",
    "\n",
    "        # Get a message from the user\n",
    "        input_string = input(\"What would you like to do? \\n\")\n",
    "        exit_string = None\n",
    "        \n",
    "        # Converts user input into all lowercase and removes punctuation\n",
    "        input_string = prepare_text(input_string)\n",
    "    \n",
    "        # Checks for an end game command \n",
    "        if end_game(input_string):\n",
    "            exit_string = (\"\\nLeaving already? Thanks for stopping by!\")\n",
    "            print(exit_string)\n",
    "            chat = False\n",
    "        \n",
    "        # finds correct object in room and performs commanded action if available\n",
    "        if not exit_string:\n",
    "            thing = connect_input_to_thing(my_room, input_string)\n",
    "            execute_action(thing, input_string)"
   ]
  },
  {
   "cell_type": "code",
   "execution_count": null,
   "metadata": {
    "scrolled": true
   },
   "outputs": [],
   "source": [
    "#starts game\n",
    "explore_room()"
   ]
  }
 ],
 "metadata": {
  "kernelspec": {
   "display_name": "Python 3",
   "language": "python",
   "name": "python3"
  },
  "language_info": {
   "codemirror_mode": {
    "name": "ipython",
    "version": 3
   },
   "file_extension": ".py",
   "mimetype": "text/x-python",
   "name": "python",
   "nbconvert_exporter": "python",
   "pygments_lexer": "ipython3",
   "version": "3.7.0"
  }
 },
 "nbformat": 4,
 "nbformat_minor": 2
}
