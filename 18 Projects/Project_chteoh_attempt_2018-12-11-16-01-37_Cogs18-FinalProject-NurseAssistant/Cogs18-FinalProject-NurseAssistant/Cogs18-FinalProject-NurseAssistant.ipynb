{
 "cells": [
  {
   "cell_type": "markdown",
   "metadata": {},
   "source": [
    "# NurseAssistant"
   ]
  },
  {
   "cell_type": "markdown",
   "metadata": {},
   "source": [
    "## Inspiration"
   ]
  },
  {
   "cell_type": "markdown",
   "metadata": {},
   "source": [
    "Wouldn't it be great to have easy, digital access to your patient's medical records?"
   ]
  },
  {
   "cell_type": "markdown",
   "metadata": {},
   "source": [
    "## What it does"
   ]
  },
  {
   "cell_type": "markdown",
   "metadata": {},
   "source": [
    "NurseAssistant is an app that allows you to enter the patient's name, age, height, weight, cholesterol level, and blood pressure, and displays the information in a table. NurseAssistant also interprets your patient's cholesterol level and blood pressure and presents the warning values (ie. high cholesterol) as colored values in the table. NurseAssistant will also let you know when you've entered an unexpected value."
   ]
  },
  {
   "cell_type": "markdown",
   "metadata": {},
   "source": [
    "## Project Code"
   ]
  },
  {
   "cell_type": "code",
   "execution_count": 1,
   "metadata": {},
   "outputs": [],
   "source": [
    "from my_module.classes import Patient"
   ]
  },
  {
   "cell_type": "code",
   "execution_count": 2,
   "metadata": {},
   "outputs": [],
   "source": [
    "from my_module.functions import get_alpha, get_num, chat_with_nurseassistant, color_cholesterol_level, color_blood_pressure, create_df"
   ]
  },
  {
   "cell_type": "code",
   "execution_count": 3,
   "metadata": {},
   "outputs": [],
   "source": [
    "from my_module.test_functions import test_correct_colors"
   ]
  },
  {
   "cell_type": "markdown",
   "metadata": {},
   "source": [
    "## Welcome to NurseAssistant!\n",
    "All you need to do is input your patients' information, and NurseAssistant will store the data in a table where you will be able to access your patients' data as well as easily identify the health markers that may pose a risk to your patients' health.\n"
   ]
  },
  {
   "cell_type": "markdown",
   "metadata": {},
   "source": [
    "## For grader's reference:\n",
    "\n",
    "### Cholesterol Level\n",
    "Average cholesterol level: value < 200\n",
    "<br>\n",
    "Borderline High cholestrol level: 200 <= value < 240\n",
    "<br>\n",
    "High cholesterol level: value >= 240\n",
    "<br>\n",
    "### Blood Pressure\n",
    "Normal blood pressure: value < 120\n",
    "<br>\n",
    "Elevated blood pressure: 120 <= value < 130\n",
    "<br>\n",
    "High blood pressure: value >= 130\n",
    "<br>"
   ]
  },
  {
   "cell_type": "code",
   "execution_count": 6,
   "metadata": {},
   "outputs": [
    {
     "name": "stdout",
     "output_type": "stream",
     "text": [
      "Patient name: Fleiica\n",
      "Patient age: 102\n",
      "Patient height (in cm): 120\n",
      "Patient weight (in kg): 120\n",
      "Cholesterol level(mg/dl): 180\n",
      "Systolic blood pressure(mm Hg): 200\n",
      "Do you want evaluate another patient(yes/no)? yes\n",
      "Patient name: daf\n",
      "Patient age: 10\n",
      "Patient height (in cm): 10\n",
      "Patient weight (in kg): 120\n",
      "Cholesterol level(mg/dl): 80\n",
      "Systolic blood pressure(mm Hg): 120\n",
      "Do you want evaluate another patient(yes/no)? yes\n",
      "Patient name: hello\n",
      "Patient age: 19\n",
      "Patient height (in cm): 109\n",
      "Patient weight (in kg): 10-\n",
      "Please type in a number.\n",
      "Patient weight (in kg): 10\n",
      "Cholesterol level(mg/dl): 230\n",
      "Systolic blood pressure(mm Hg): 190\n",
      "Do you want evaluate another patient(yes/no)? yes\n",
      "Patient name: fe\n",
      "Patient age: 10\n",
      "Patient height (in cm): 10\n",
      "Patient weight (in kg): 10\n",
      "Cholesterol level(mg/dl): 240\n",
      "Systolic blood pressure(mm Hg): 100\n",
      "Do you want evaluate another patient(yes/no)? no\n"
     ]
    }
   ],
   "source": [
    "all_patients = chat_with_nurseassistant()           "
   ]
  },
  {
   "cell_type": "markdown",
   "metadata": {},
   "source": [
    "### Legend for Patient Database Table:\n",
    "\n",
    "black = normal <br>\n",
    "orange = borderline high <br>\n",
    "red = high"
   ]
  },
  {
   "cell_type": "code",
   "execution_count": 8,
   "metadata": {},
   "outputs": [
    {
     "data": {
      "text/html": [
       "<style  type=\"text/css\" >\n",
       "    #T_1b82eaf4_fd9f_11e8_a3ab_acde48001122row0_col4 {\n",
       "            color:  black;\n",
       "        }    #T_1b82eaf4_fd9f_11e8_a3ab_acde48001122row0_col5 {\n",
       "            color:  red;\n",
       "        }    #T_1b82eaf4_fd9f_11e8_a3ab_acde48001122row1_col4 {\n",
       "            color:  black;\n",
       "        }    #T_1b82eaf4_fd9f_11e8_a3ab_acde48001122row1_col5 {\n",
       "            color:  orange;\n",
       "        }    #T_1b82eaf4_fd9f_11e8_a3ab_acde48001122row2_col4 {\n",
       "            color:  orange;\n",
       "        }    #T_1b82eaf4_fd9f_11e8_a3ab_acde48001122row2_col5 {\n",
       "            color:  red;\n",
       "        }    #T_1b82eaf4_fd9f_11e8_a3ab_acde48001122row3_col4 {\n",
       "            color:  red;\n",
       "        }    #T_1b82eaf4_fd9f_11e8_a3ab_acde48001122row3_col5 {\n",
       "            color:  black;\n",
       "        }</style>  \n",
       "<table id=\"T_1b82eaf4_fd9f_11e8_a3ab_acde48001122\" > \n",
       "<thead>    <tr> \n",
       "        <th class=\"blank level0\" ></th> \n",
       "        <th class=\"col_heading level0 col0\" >name</th> \n",
       "        <th class=\"col_heading level0 col1\" >age</th> \n",
       "        <th class=\"col_heading level0 col2\" >height</th> \n",
       "        <th class=\"col_heading level0 col3\" >weight</th> \n",
       "        <th class=\"col_heading level0 col4\" >cholesterol_level</th> \n",
       "        <th class=\"col_heading level0 col5\" >blood_pressure</th> \n",
       "    </tr></thead> \n",
       "<tbody>    <tr> \n",
       "        <th id=\"T_1b82eaf4_fd9f_11e8_a3ab_acde48001122level0_row0\" class=\"row_heading level0 row0\" >0</th> \n",
       "        <td id=\"T_1b82eaf4_fd9f_11e8_a3ab_acde48001122row0_col0\" class=\"data row0 col0\" >Fleiica</td> \n",
       "        <td id=\"T_1b82eaf4_fd9f_11e8_a3ab_acde48001122row0_col1\" class=\"data row0 col1\" >102</td> \n",
       "        <td id=\"T_1b82eaf4_fd9f_11e8_a3ab_acde48001122row0_col2\" class=\"data row0 col2\" >120</td> \n",
       "        <td id=\"T_1b82eaf4_fd9f_11e8_a3ab_acde48001122row0_col3\" class=\"data row0 col3\" >120</td> \n",
       "        <td id=\"T_1b82eaf4_fd9f_11e8_a3ab_acde48001122row0_col4\" class=\"data row0 col4\" >180</td> \n",
       "        <td id=\"T_1b82eaf4_fd9f_11e8_a3ab_acde48001122row0_col5\" class=\"data row0 col5\" >200</td> \n",
       "    </tr>    <tr> \n",
       "        <th id=\"T_1b82eaf4_fd9f_11e8_a3ab_acde48001122level0_row1\" class=\"row_heading level0 row1\" >1</th> \n",
       "        <td id=\"T_1b82eaf4_fd9f_11e8_a3ab_acde48001122row1_col0\" class=\"data row1 col0\" >daf</td> \n",
       "        <td id=\"T_1b82eaf4_fd9f_11e8_a3ab_acde48001122row1_col1\" class=\"data row1 col1\" >10</td> \n",
       "        <td id=\"T_1b82eaf4_fd9f_11e8_a3ab_acde48001122row1_col2\" class=\"data row1 col2\" >10</td> \n",
       "        <td id=\"T_1b82eaf4_fd9f_11e8_a3ab_acde48001122row1_col3\" class=\"data row1 col3\" >120</td> \n",
       "        <td id=\"T_1b82eaf4_fd9f_11e8_a3ab_acde48001122row1_col4\" class=\"data row1 col4\" >80</td> \n",
       "        <td id=\"T_1b82eaf4_fd9f_11e8_a3ab_acde48001122row1_col5\" class=\"data row1 col5\" >120</td> \n",
       "    </tr>    <tr> \n",
       "        <th id=\"T_1b82eaf4_fd9f_11e8_a3ab_acde48001122level0_row2\" class=\"row_heading level0 row2\" >2</th> \n",
       "        <td id=\"T_1b82eaf4_fd9f_11e8_a3ab_acde48001122row2_col0\" class=\"data row2 col0\" >hello</td> \n",
       "        <td id=\"T_1b82eaf4_fd9f_11e8_a3ab_acde48001122row2_col1\" class=\"data row2 col1\" >19</td> \n",
       "        <td id=\"T_1b82eaf4_fd9f_11e8_a3ab_acde48001122row2_col2\" class=\"data row2 col2\" >109</td> \n",
       "        <td id=\"T_1b82eaf4_fd9f_11e8_a3ab_acde48001122row2_col3\" class=\"data row2 col3\" >10</td> \n",
       "        <td id=\"T_1b82eaf4_fd9f_11e8_a3ab_acde48001122row2_col4\" class=\"data row2 col4\" >230</td> \n",
       "        <td id=\"T_1b82eaf4_fd9f_11e8_a3ab_acde48001122row2_col5\" class=\"data row2 col5\" >190</td> \n",
       "    </tr>    <tr> \n",
       "        <th id=\"T_1b82eaf4_fd9f_11e8_a3ab_acde48001122level0_row3\" class=\"row_heading level0 row3\" >3</th> \n",
       "        <td id=\"T_1b82eaf4_fd9f_11e8_a3ab_acde48001122row3_col0\" class=\"data row3 col0\" >fe</td> \n",
       "        <td id=\"T_1b82eaf4_fd9f_11e8_a3ab_acde48001122row3_col1\" class=\"data row3 col1\" >10</td> \n",
       "        <td id=\"T_1b82eaf4_fd9f_11e8_a3ab_acde48001122row3_col2\" class=\"data row3 col2\" >10</td> \n",
       "        <td id=\"T_1b82eaf4_fd9f_11e8_a3ab_acde48001122row3_col3\" class=\"data row3 col3\" >10</td> \n",
       "        <td id=\"T_1b82eaf4_fd9f_11e8_a3ab_acde48001122row3_col4\" class=\"data row3 col4\" >240</td> \n",
       "        <td id=\"T_1b82eaf4_fd9f_11e8_a3ab_acde48001122row3_col5\" class=\"data row3 col5\" >100</td> \n",
       "    </tr></tbody> \n",
       "</table> "
      ],
      "text/plain": [
       "<pandas.io.formats.style.Styler at 0x111723fd0>"
      ]
     },
     "execution_count": 8,
     "metadata": {},
     "output_type": "execute_result"
    }
   ],
   "source": [
    "create_df(all_patients)"
   ]
  },
  {
   "cell_type": "code",
   "execution_count": 10,
   "metadata": {},
   "outputs": [],
   "source": [
    "test_correct_colors()"
   ]
  },
  {
   "cell_type": "markdown",
   "metadata": {},
   "source": [
    "### My project is available on Github.\n",
    "### Github account name: felicia01px2017\n",
    "### Repository link: https://github.com/felicia01px2017/NurseAssistant"
   ]
  }
 ],
 "metadata": {
  "kernelspec": {
   "display_name": "Python 3",
   "language": "python",
   "name": "python3"
  },
  "language_info": {
   "codemirror_mode": {
    "name": "ipython",
    "version": 3
   },
   "file_extension": ".py",
   "mimetype": "text/x-python",
   "name": "python",
   "nbconvert_exporter": "python",
   "pygments_lexer": "ipython3",
   "version": "3.6.5"
  }
 },
 "nbformat": 4,
 "nbformat_minor": 2
}
