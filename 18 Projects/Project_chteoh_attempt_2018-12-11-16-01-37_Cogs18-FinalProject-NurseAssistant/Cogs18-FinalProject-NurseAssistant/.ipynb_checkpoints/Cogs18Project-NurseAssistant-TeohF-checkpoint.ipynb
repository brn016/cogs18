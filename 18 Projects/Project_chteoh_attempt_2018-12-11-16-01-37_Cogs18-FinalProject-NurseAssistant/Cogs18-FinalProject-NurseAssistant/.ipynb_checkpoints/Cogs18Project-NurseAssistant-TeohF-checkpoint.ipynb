{
 "cells": [
  {
   "cell_type": "markdown",
   "metadata": {},
   "source": [
    "# NurseAssistant"
   ]
  },
  {
   "cell_type": "markdown",
   "metadata": {},
   "source": [
    "## Inspiration"
   ]
  },
  {
   "cell_type": "markdown",
   "metadata": {},
   "source": [
    "Wouldn't it be great to have easy, digital access to your patient's medical records?"
   ]
  },
  {
   "cell_type": "markdown",
   "metadata": {},
   "source": [
    "## What it does"
   ]
  },
  {
   "cell_type": "markdown",
   "metadata": {},
   "source": [
    "NurseAssistant is an app that allows you to enter the patient's name, age, height, weight, cholesterol level, and blood pressure, and displays the information in a table. NurseAssistant also interprets your patient's cholesterol level and blood pressure and presents the warning values (ie. high cholesterol) as colored values in the table. NurseAssistant will also let you know when you've entered an unexpected value."
   ]
  },
  {
   "cell_type": "markdown",
   "metadata": {},
   "source": [
    "## Project Code"
   ]
  },
  {
   "cell_type": "code",
   "execution_count": 2,
   "metadata": {},
   "outputs": [
    {
     "name": "stdout",
     "output_type": "stream",
     "text": [
      "\n",
      "Welcome to NurseAssistant!\n",
      "All you need to do is input your patients' information, and NurseAssistant will store the data in a table where you will be able to access your patients' data as well as easily identify the health markers that may pose a risk to your patients' health.\n",
      "\n",
      "\n"
     ]
    }
   ],
   "source": [
    "print(\"\"\"\n",
    "Welcome to NurseAssistant!\n",
    "All you need to do is input your patients' information, and NurseAssistant will store the data in a table where you will be able to access your patients' data as well as easily identify the health markers that may pose a risk to your patients' health.\n",
    "\n",
    "\"\"\")"
   ]
  },
  {
   "cell_type": "code",
   "execution_count": 3,
   "metadata": {},
   "outputs": [],
   "source": [
    "from my_module.classes import Patient"
   ]
  },
  {
   "cell_type": "code",
   "execution_count": 4,
   "metadata": {},
   "outputs": [],
   "source": [
    "from my_module.functions import get_alpha, get_num, chat_with_nurseassistant, color_cholesterol_level, color_blood_pressure, create_df"
   ]
  },
  {
   "cell_type": "code",
   "execution_count": 5,
   "metadata": {},
   "outputs": [],
   "source": [
    "from my_module.test_functions import test_correct_colors"
   ]
  },
  {
   "cell_type": "code",
   "execution_count": 6,
   "metadata": {},
   "outputs": [
    {
     "name": "stdout",
     "output_type": "stream",
     "text": [
      "Patient name: Felicia\n",
      "Patient age: 19\n",
      "Patient height (in cm): 14-\n",
      "Please type in a number.\n",
      "Patient height (in cm): 140\n",
      "Patient weight (in kg): 180\n",
      "Cholesterol level(mg/dl): 200\n",
      "Systolic blood pressure(mm Hg): 120\n",
      "Do you want evaluate another patient(yes/no)? yes\n",
      "Patient name: diana\n",
      "Patient age: 18\n",
      "Patient height (in cm): 190\n",
      "Patient weight (in kg): 80\n",
      "Cholesterol level(mg/dl): 239\n",
      "Systolic blood pressure(mm Hg): 130\n",
      "Do you want evaluate another patient(yes/no)? yes\n",
      "Patient name: dal\n",
      "Patient age: 19\n",
      "Patient height (in cm): 120\n",
      "Patient weight (in kg): 90\n",
      "Cholesterol level(mg/dl): 240\n",
      "Systolic blood pressure(mm Hg): 140\n",
      "Do you want evaluate another patient(yes/no)? no\n"
     ]
    }
   ],
   "source": [
    "all_patients = chat_with_nurseassistant()           "
   ]
  },
  {
   "cell_type": "code",
   "execution_count": 8,
   "metadata": {},
   "outputs": [
    {
     "name": "stdout",
     "output_type": "stream",
     "text": [
      "\n",
      "Legend for Patient Database Table:\n",
      "\n",
      "black = normal\n",
      "orange = borderline high\n",
      "red = high\n",
      "\n"
     ]
    }
   ],
   "source": [
    "print(\"\"\"\n",
    "Legend for Patient Database Table:\n",
    "\n",
    "black = normal\n",
    "orange = borderline high\n",
    "red = high\n",
    "\"\"\")"
   ]
  },
  {
   "cell_type": "code",
   "execution_count": 9,
   "metadata": {},
   "outputs": [
    {
     "data": {
      "text/html": [
       "<style  type=\"text/css\" >\n",
       "    #T_1bc9147a_fa82_11e8_9df3_784f4398d6b4row0_col4 {\n",
       "            color:  orange;\n",
       "        }    #T_1bc9147a_fa82_11e8_9df3_784f4398d6b4row0_col5 {\n",
       "            color:  orange;\n",
       "        }    #T_1bc9147a_fa82_11e8_9df3_784f4398d6b4row1_col4 {\n",
       "            color:  orange;\n",
       "        }    #T_1bc9147a_fa82_11e8_9df3_784f4398d6b4row1_col5 {\n",
       "            color:  red;\n",
       "        }    #T_1bc9147a_fa82_11e8_9df3_784f4398d6b4row2_col4 {\n",
       "            color:  red;\n",
       "        }    #T_1bc9147a_fa82_11e8_9df3_784f4398d6b4row2_col5 {\n",
       "            color:  red;\n",
       "        }</style>  \n",
       "<table id=\"T_1bc9147a_fa82_11e8_9df3_784f4398d6b4\" > \n",
       "<thead>    <tr> \n",
       "        <th class=\"blank level0\" ></th> \n",
       "        <th class=\"col_heading level0 col0\" >name</th> \n",
       "        <th class=\"col_heading level0 col1\" >age</th> \n",
       "        <th class=\"col_heading level0 col2\" >height</th> \n",
       "        <th class=\"col_heading level0 col3\" >weight</th> \n",
       "        <th class=\"col_heading level0 col4\" >cholesterol_level</th> \n",
       "        <th class=\"col_heading level0 col5\" >blood_pressure</th> \n",
       "    </tr></thead> \n",
       "<tbody>    <tr> \n",
       "        <th id=\"T_1bc9147a_fa82_11e8_9df3_784f4398d6b4level0_row0\" class=\"row_heading level0 row0\" >0</th> \n",
       "        <td id=\"T_1bc9147a_fa82_11e8_9df3_784f4398d6b4row0_col0\" class=\"data row0 col0\" >Felicia</td> \n",
       "        <td id=\"T_1bc9147a_fa82_11e8_9df3_784f4398d6b4row0_col1\" class=\"data row0 col1\" >19</td> \n",
       "        <td id=\"T_1bc9147a_fa82_11e8_9df3_784f4398d6b4row0_col2\" class=\"data row0 col2\" >140</td> \n",
       "        <td id=\"T_1bc9147a_fa82_11e8_9df3_784f4398d6b4row0_col3\" class=\"data row0 col3\" >180</td> \n",
       "        <td id=\"T_1bc9147a_fa82_11e8_9df3_784f4398d6b4row0_col4\" class=\"data row0 col4\" >200</td> \n",
       "        <td id=\"T_1bc9147a_fa82_11e8_9df3_784f4398d6b4row0_col5\" class=\"data row0 col5\" >120</td> \n",
       "    </tr>    <tr> \n",
       "        <th id=\"T_1bc9147a_fa82_11e8_9df3_784f4398d6b4level0_row1\" class=\"row_heading level0 row1\" >1</th> \n",
       "        <td id=\"T_1bc9147a_fa82_11e8_9df3_784f4398d6b4row1_col0\" class=\"data row1 col0\" >diana</td> \n",
       "        <td id=\"T_1bc9147a_fa82_11e8_9df3_784f4398d6b4row1_col1\" class=\"data row1 col1\" >18</td> \n",
       "        <td id=\"T_1bc9147a_fa82_11e8_9df3_784f4398d6b4row1_col2\" class=\"data row1 col2\" >190</td> \n",
       "        <td id=\"T_1bc9147a_fa82_11e8_9df3_784f4398d6b4row1_col3\" class=\"data row1 col3\" >80</td> \n",
       "        <td id=\"T_1bc9147a_fa82_11e8_9df3_784f4398d6b4row1_col4\" class=\"data row1 col4\" >239</td> \n",
       "        <td id=\"T_1bc9147a_fa82_11e8_9df3_784f4398d6b4row1_col5\" class=\"data row1 col5\" >130</td> \n",
       "    </tr>    <tr> \n",
       "        <th id=\"T_1bc9147a_fa82_11e8_9df3_784f4398d6b4level0_row2\" class=\"row_heading level0 row2\" >2</th> \n",
       "        <td id=\"T_1bc9147a_fa82_11e8_9df3_784f4398d6b4row2_col0\" class=\"data row2 col0\" >dal</td> \n",
       "        <td id=\"T_1bc9147a_fa82_11e8_9df3_784f4398d6b4row2_col1\" class=\"data row2 col1\" >19</td> \n",
       "        <td id=\"T_1bc9147a_fa82_11e8_9df3_784f4398d6b4row2_col2\" class=\"data row2 col2\" >120</td> \n",
       "        <td id=\"T_1bc9147a_fa82_11e8_9df3_784f4398d6b4row2_col3\" class=\"data row2 col3\" >90</td> \n",
       "        <td id=\"T_1bc9147a_fa82_11e8_9df3_784f4398d6b4row2_col4\" class=\"data row2 col4\" >240</td> \n",
       "        <td id=\"T_1bc9147a_fa82_11e8_9df3_784f4398d6b4row2_col5\" class=\"data row2 col5\" >140</td> \n",
       "    </tr></tbody> \n",
       "</table> "
      ],
      "text/plain": [
       "<pandas.io.formats.style.Styler at 0x10f28f3c8>"
      ]
     },
     "execution_count": 9,
     "metadata": {},
     "output_type": "execute_result"
    }
   ],
   "source": [
    "create_df(all_patients)"
   ]
  },
  {
   "cell_type": "code",
   "execution_count": 11,
   "metadata": {},
   "outputs": [],
   "source": [
    "test_correct_colors()"
   ]
  }
 ],
 "metadata": {
  "kernelspec": {
   "display_name": "Python 3",
   "language": "python",
   "name": "python3"
  },
  "language_info": {
   "codemirror_mode": {
    "name": "ipython",
    "version": 3
   },
   "file_extension": ".py",
   "mimetype": "text/x-python",
   "name": "python",
   "nbconvert_exporter": "python",
   "pygments_lexer": "ipython3",
   "version": "3.6.5"
  }
 },
 "nbformat": 4,
 "nbformat_minor": 2
}
