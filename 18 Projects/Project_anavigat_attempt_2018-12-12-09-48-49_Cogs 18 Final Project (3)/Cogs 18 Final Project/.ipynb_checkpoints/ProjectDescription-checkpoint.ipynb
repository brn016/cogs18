{
 "cells": [
  {
   "cell_type": "code",
   "execution_count": null,
   "metadata": {},
   "outputs": [],
   "source": [
    "# For my Final Project, I wish to create an artificial store and have a chatbot talk with your corresponding purchases. \n",
    "#I will create a class that will contain all of my products and then I will created"
   ]
  },
  {
   "cell_type": "code",
   "execution_count": 9,
   "metadata": {},
   "outputs": [],
   "source": [
    "from module.functions import my_func"
   ]
  },
  {
   "cell_type": "code",
   "execution_count": 11,
   "metadata": {},
   "outputs": [],
   "source": [
    "class Product():\n",
    "# I am starting with a class of all of my products in my store. Ever product in my store has the amount left(quantity), \n",
    "#the name of the product, a description, and the price.\n",
    "\n",
    "    def __init__(self, quantity, name, description, price):\n",
    "        \"\"\"\n",
    "        Parameters\n",
    "        ----------\n",
    "        quantity : int\n",
    "                    How many are left\n",
    "        name : str\n",
    "                The name of the product\n",
    "        descritpiton : str\n",
    "                        Description of the product\n",
    "        price : int\n",
    "                How much the product costs\n",
    "        \n",
    "        \"\"\"\n",
    "        self.name=name\n",
    "        self.quantity = quantity\n",
    "        self.description=description\n",
    "        self.price=price\n",
    "    \n",
    "\n",
    "phone = Product(5, \"Iphone\", \"This new edition iPhone is great for connecting with loved ones as well as a new improved camera.\", 700)\n",
    "tv = Product(3, \"LG TV\", \"Our new TV is the best for watching your favorite movies in HD.\", 1000)\n",
    "computer = Product(200, \"Chromebook\", \"These ultra fast chromebooks are helpful with schoolwork and good for on the go\", 200)\n",
    "microwave = Product(0, \"LG Microwave\", \"This microwave is perfect for heating up old, cold food\", 100)\n",
    "refrigerator = Product(75, \"Kenmore Refrigerator\", \"This device is great for keeping old food cold\", 300)\n",
    "list_of_products = [phone, tv, computer, microwave, refrigerator]\n",
    "\n",
    "\n"
   ]
  },
  {
   "cell_type": "code",
   "execution_count": 12,
   "metadata": {},
   "outputs": [
    {
     "ename": "NameError",
     "evalue": "name 'calculate_total_cost' is not defined",
     "output_type": "error",
     "traceback": [
      "\u001b[1;31m---------------------------------------------------------------------------\u001b[0m",
      "\u001b[1;31mNameError\u001b[0m                                 Traceback (most recent call last)",
      "\u001b[1;32m<ipython-input-12-2e068599e7cf>\u001b[0m in \u001b[0;36m<module>\u001b[1;34m()\u001b[0m\n\u001b[1;32m----> 1\u001b[1;33m \u001b[0mcalculate_total_cost\u001b[0m\u001b[1;33m(\u001b[0m\u001b[1;33m[\u001b[0m\u001b[0mphone\u001b[0m\u001b[1;33m,\u001b[0m \u001b[0mtv\u001b[0m\u001b[1;33m,\u001b[0m \u001b[0mcomputer\u001b[0m\u001b[1;33m,\u001b[0m \u001b[0mmicrowave\u001b[0m\u001b[1;33m]\u001b[0m\u001b[1;33m)\u001b[0m\u001b[1;33m\u001b[0m\u001b[0m\n\u001b[0m",
      "\u001b[1;31mNameError\u001b[0m: name 'calculate_total_cost' is not defined"
     ]
    }
   ],
   "source": [
    "calculate_total_cost([phone, tv, computer, microwave])\n",
    "###Unfortunately, my code is not running my simple functions because there is a problem with importing into this notebook file\n",
    "##It was working at one point and now it is not."
   ]
  },
  {
   "cell_type": "code",
   "execution_count": null,
   "metadata": {},
   "outputs": [],
   "source": [
    "#Now to create some text for our store to utilize\n",
    "GREETINGS_IN = ['hello', 'hi', 'hey', 'hola', 'welcome', 'bonjour', 'greetings']\n",
    "GREETINGS_OUT = [\"Hello, it's nice to talk to you! Welcome to the Coding store \", 'Nice to meet you! How can I help you?', \n",
    "                 \"Welcome to the Coding store\"]\n",
    "\n",
    "PRODUCTS_IN = [\"Do you have a phone\", \"Do you have a tv\", \"Do you have a computer\", \"Do you have a refrigerator\"]\n",
    "PRODUCTS_OUT = [\"You're in luck! We have those\", \"They are in stock\", \"We have plenty\"]\n",
    "\n",
    "OUT_OF_STOCK_IN = [\"do you have a microwave\"]\n",
    "OUT_OF_STOCK_OUT = [\"Unfortunately we are out\"]\n",
    "\n",
    "ASKING_ABOUT_PRODUCT_IN = [\"what kind of phone is it\", \"what kind of tv is it\", \" what kind of computer is it\",\n",
    "                          \"what kind of microwave is it\", \"what kind of refrigerator is it\"]\n",
    "\n",
    "SAYINGS_IN = [\"i want\", \"give me\", \"i need\"]\n",
    "SAYINGS_OUT = [\"Your total is\"]\n",
    "\n",
    "QUESTION = \"WHAT???\"\n",
    "\n",
    "UNKOWN = \"NICE\""
   ]
  },
  {
   "cell_type": "code",
   "execution_count": 5,
   "metadata": {},
   "outputs": [],
   "source": [
    "have_a_chat()"
   ]
  },
  {
   "cell_type": "code",
   "execution_count": null,
   "metadata": {},
   "outputs": [],
   "source": [
    "##Unfortunately I have run out of time on this strenuous project. If I had more time, I would fix my small errors and at the very\n",
    "##least allow my simple chatbot to run. However, what I wanted to do was create an interactive store that would help tell you\n",
    "##the description of each product and then create a total for the products that you want. Also I would have like to subtract the\n",
    "##total quantity of the product from the store. I now realize I bit off more than I can chew. In addition, I wish I knew how to \n",
    "##loop through a class(if it is even possible). I hope that through my work that you can realize how much time I spent trying\n",
    "##to figure this out, and that I now have a basic understanding of python."
   ]
  }
 ],
 "metadata": {
  "kernelspec": {
   "display_name": "Python 3",
   "language": "python",
   "name": "python3"
  },
  "language_info": {
   "codemirror_mode": {
    "name": "ipython",
    "version": 3
   },
   "file_extension": ".py",
   "mimetype": "text/x-python",
   "name": "python",
   "nbconvert_exporter": "python",
   "pygments_lexer": "ipython3",
   "version": "3.7.0"
  }
 },
 "nbformat": 4,
 "nbformat_minor": 2
}
