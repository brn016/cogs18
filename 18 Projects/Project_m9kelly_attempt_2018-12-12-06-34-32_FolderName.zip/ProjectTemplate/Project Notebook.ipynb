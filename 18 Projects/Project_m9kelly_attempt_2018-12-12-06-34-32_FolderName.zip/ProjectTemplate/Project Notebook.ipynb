{
 "cells": [
  {
   "cell_type": "markdown",
   "metadata": {},
   "source": [
    "# Zodiac Sign Project"
   ]
  },
  {
   "cell_type": "markdown",
   "metadata": {},
   "source": [
    "The purpose of this project is to provide the user with information about their zodiac sign. First the user puts in their birth date, which allows the program to return the correct zodiac sign. Then the user can input their zodiac sign into a separate prompt, which will take them to a website that gives them more information about their sign. "
   ]
  },
  {
   "cell_type": "markdown",
   "metadata": {},
   "source": [
    "## Project Code\n",
    "\n",
    "If it makes sense for your project, you can have code and outputs here in the notebook as well."
   ]
  },
  {
   "cell_type": "code",
   "execution_count": null,
   "metadata": {},
   "outputs": [],
   "source": [
    "import my_module"
   ]
  },
  {
   "cell_type": "raw",
   "metadata": {},
   "source": [
    "# Takes the input of user's birth date (day and month) and returns the corresponding zodiac sign"
   ]
  },
  {
   "cell_type": "code",
   "execution_count": null,
   "metadata": {},
   "outputs": [],
   "source": [
    "day = int(input(\"Enter your date of birth:\\t\"))\n",
    "month = input(\"Enter your month of birth:\\t\")\n",
    "if month == 'january':\n",
    "    sign = 'capricorn' if (day <= 20) else 'aquarius'\n",
    "elif month == 'february':\n",
    "    sign = 'aquarius' if (day <= 19) else 'pisces'\n",
    "elif month == 'march':\n",
    "    sign = 'pisces' if (day <= 21) else 'aries'\n",
    "elif month == 'april':\n",
    "    sign = 'aries' if (day <= 20) else 'taurus'\n",
    "elif month == 'may':\n",
    "    sign = 'taurus' if (day <= 21) else 'gemini'\n",
    "elif month == 'june':\n",
    "    sign = 'gemini' if (day <= 21) else 'cancer'\n",
    "elif month == 'july':\n",
    "    sign = 'cancer' if (day <= 23) else 'leo'\n",
    "elif month == 'august':\n",
    "    sign = 'leo' if (day <= 23) else 'virgo'\n",
    "elif month == 'september':\n",
    "    sign = 'virgo' if (day <= 23) else 'libra'\n",
    "elif month == 'october':\n",
    "    sign = 'libra' if (day <= 23) else 'scorpio'\n",
    "elif month == 'november':\n",
    "    sign = 'scorpio' if (day <= 22) else 'sagittarius'\n",
    "elif month == 'december':\n",
    "    sign = 'sagittarius' if (day <= 22) else 'capricorn'\n",
    "print(\"Your Astrological sign is:\\t\"+ sign)\n",
    "  "
   ]
  },
  {
   "cell_type": "raw",
   "metadata": {},
   "source": [
    "# Import web browser allows function to bring user to the internet to provide more information on their horoscope"
   ]
  },
  {
   "cell_type": "code",
   "execution_count": null,
   "metadata": {},
   "outputs": [],
   "source": [
    "import webbrowser"
   ]
  },
  {
   "cell_type": "raw",
   "metadata": {},
   "source": [
    "# SIGNS list allows 'main' function to display sign options when requesting input"
   ]
  },
  {
   "cell_type": "code",
   "execution_count": null,
   "metadata": {},
   "outputs": [],
   "source": [
    "SIGNS = ['capricorn', 'aquarius', 'pisces', 'aries', 'taurus', 'gemini', 'cancer',\n",
    "     'leo', 'virgo', 'libra', 'scorpio', 'sagittarius']"
   ]
  },
  {
   "cell_type": "code",
   "execution_count": null,
   "metadata": {},
   "outputs": [],
   "source": [
    "main()"
   ]
  }
 ],
 "metadata": {
  "kernelspec": {
   "display_name": "Python 3",
   "language": "python",
   "name": "python3"
  },
  "language_info": {
   "codemirror_mode": {
    "name": "ipython",
    "version": 3
   },
   "file_extension": ".py",
   "mimetype": "text/x-python",
   "name": "python",
   "nbconvert_exporter": "python",
   "pygments_lexer": "ipython3",
   "version": "3.7.0"
  }
 },
 "nbformat": 4,
 "nbformat_minor": 2
}
