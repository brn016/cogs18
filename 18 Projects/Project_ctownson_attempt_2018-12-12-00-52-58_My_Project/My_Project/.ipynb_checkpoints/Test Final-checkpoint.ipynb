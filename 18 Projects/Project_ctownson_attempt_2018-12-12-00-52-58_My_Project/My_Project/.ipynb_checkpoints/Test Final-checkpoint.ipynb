{
 "cells": [
  {
   "cell_type": "code",
   "execution_count": 2,
   "metadata": {},
   "outputs": [],
   "source": [
    "from MyFunctions2 import remove_punctuation, selector, sunlight_question, water_question, soil_question, money_question, value_question, prepare_text, end_chat, string_concatenator, list_to_string,is_in_list,find_in_list,introduction,have_a_chat"
   ]
  },
  {
   "cell_type": "code",
   "execution_count": 3,
   "metadata": {},
   "outputs": [],
   "source": [
    "assert callable(sunlight_question)\n",
    "assert sunlight_question([\"how\",\"much\",\"sunlight\",\"does\",\"my\",\"cactus\",\"need\"])== \"Cactus plants need indirect, filtered sunlight.\"\n",
    "assert sunlight_question([\"sunlight\"])=="
   ]
  },
  {
   "cell_type": "code",
   "execution_count": null,
   "metadata": {},
   "outputs": [],
   "source": [
    "assert call"
   ]
  }
 ],
 "metadata": {
  "kernelspec": {
   "display_name": "Python 3",
   "language": "python",
   "name": "python3"
  },
  "language_info": {
   "codemirror_mode": {
    "name": "ipython",
    "version": 3
   },
   "file_extension": ".py",
   "mimetype": "text/x-python",
   "name": "python",
   "nbconvert_exporter": "python",
   "pygments_lexer": "ipython3",
   "version": "3.7.0"
  }
 },
 "nbformat": 4,
 "nbformat_minor": 2
}
