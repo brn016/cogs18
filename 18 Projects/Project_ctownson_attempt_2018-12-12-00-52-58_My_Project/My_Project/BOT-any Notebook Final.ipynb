{
 "cells": [
  {
   "cell_type": "code",
   "execution_count": null,
   "metadata": {},
   "outputs": [],
   "source": [
    "\"\"\"This bot answers questions about botany for a fixed dictionary of plants. BOT-any works at a garden supply\n",
    "and is your point of contact!!!!!! She operates like a search engine, \n",
    "where she is primarily looking for keywords and not really for parsing out the specifics of language. She will also \n",
    "give some fun facts, she's pretty simple but I like her. :)\"\"\""
   ]
  },
  {
   "cell_type": "code",
   "execution_count": null,
   "metadata": {},
   "outputs": [],
   "source": [
    "import string\n",
    "import random"
   ]
  },
  {
   "cell_type": "code",
   "execution_count": null,
   "metadata": {},
   "outputs": [],
   "source": [
    "from module.My_Functions import remove_punctuation, selector, sunlight_question, water_question, soil_question, value_question, prepare_text, end_chat, string_concatenator, list_to_string,is_in_list,find_in_list,introduction,have_a_chat,GREETINGS_IN, GREETINGS_OUT,CHEAP_TERMS,GOOD_TERMS,EASY_TERMS,WATER,SUNLIGHT,SOIL,THANKS_IN,THANKS_OUT,PLANTS_IN,UNKNOWN,RANDOM_IN,RANDOM_OUT"
   ]
  },
  {
   "cell_type": "code",
   "execution_count": null,
   "metadata": {},
   "outputs": [],
   "source": [
    "introduction()"
   ]
  },
  {
   "cell_type": "code",
   "execution_count": null,
   "metadata": {},
   "outputs": [],
   "source": [
    "have_a_chat()"
   ]
  }
 ],
 "metadata": {
  "kernelspec": {
   "display_name": "Python 3",
   "language": "python",
   "name": "python3"
  },
  "language_info": {
   "codemirror_mode": {
    "name": "ipython",
    "version": 3
   },
   "file_extension": ".py",
   "mimetype": "text/x-python",
   "name": "python",
   "nbconvert_exporter": "python",
   "pygments_lexer": "ipython3",
   "version": "3.7.0"
  }
 },
 "nbformat": 4,
 "nbformat_minor": 2
}
