{
 "cells": [
  {
   "cell_type": "markdown",
   "metadata": {},
   "source": [
    "# Final Project: An Introduction to Pandas by Analyzing Mortality Data across the U.S\n",
    "\n",
    "The purpose of this project is to be able to help you draw quick summaries and visualizations of fatality data within the U.S, while also getting a brief introduction to the highly efficient data processor, Pandas. The ability to work with big data is a powerful thing; however, it does not come without it's challenges and indexing even the smallest bit of data can be a challenge. But no fear, we can learn it together!\n",
    "\n",
    "The code here is run on the csv file “Leading Causes of Death in the United States,\" provided by the Center for Disease Control. Using Pandas, we should be able to sort through and wrangle the mass collection of mortality data from the years 1999 to 2016 and call on states' leading causes of death at a particular time. In addition, we should be able to extract overall population mortality rates and which causes of death affect the most people.\n"
   ]
  },
  {
   "cell_type": "code",
   "execution_count": 1,
   "metadata": {},
   "outputs": [],
   "source": [
    "#external modules to help with data analysis and visualizations\n",
    "import os\n",
    "import numpy as np \n",
    "import pandas as pd \n",
    "import matplotlib.pyplot as plt"
   ]
  },
  {
   "cell_type": "code",
   "execution_count": 2,
   "metadata": {},
   "outputs": [],
   "source": [
    "#primary dataset we will be focusing on\n",
    "lcd_data = pd.read_csv(\"NCHS_-_Leading_Causes_of_Death__United_States.csv\")"
   ]
  },
  {
   "cell_type": "markdown",
   "metadata": {},
   "source": [
    "# Part 1: Getting to Know our Dataset\n",
    "\n",
    "1) In order for us to get a better idea of what our data looks like on a smaller scale, we will call the first 5 rows using lcd_data.head\n",
    "\n",
    "2) After this we will be able to clearly see the listed columns and maybe even figure out which ones we don't want to look at. For example, for our purposes, 113 Cause Name is repetitive and we will not be needing it. Therefore, we will delete that column using \n",
    "data.drop()\n",
    "\n",
    "3) We can also rename some of our column labels in order to make them more accessible in the future using data.rename()\n",
    "\n",
    "4) We can show if we have any missing values and what types of data we have using data.info()\n",
    "\n",
    "5) We can get quick descriptions of our numerical values' statistics using data.describe()\n",
    "\n",
    "If we want to describe a specific column, we can simply call the describe method on that column name. For example, to get the stats of Deaths from the datat set: final_data.Deaths.describe()\n",
    "\n",
    "6) We can check which columns we have in the dataset using  \n",
    "data.columns\n",
    "\n",
    "7) Most interestingly, we can also locate specific rows and columns using \n",
    "data.loc[[],['']]\n",
    "\n",
    "For example, if we wanted to identify the first row's year, state, Cause, and Deaths, we would write: \n",
    "\n",
    "final_data.loc[ [1] , ['Year', 'State', 'Cause', 'Deaths']]\n",
    "\n",
    "Play around with these functions and see how the data presented changes for you "
   ]
  },
  {
   "cell_type": "code",
   "execution_count": 3,
   "metadata": {
    "scrolled": true
   },
   "outputs": [
    {
     "data": {
      "text/html": [
       "<div>\n",
       "<style scoped>\n",
       "    .dataframe tbody tr th:only-of-type {\n",
       "        vertical-align: middle;\n",
       "    }\n",
       "\n",
       "    .dataframe tbody tr th {\n",
       "        vertical-align: top;\n",
       "    }\n",
       "\n",
       "    .dataframe thead th {\n",
       "        text-align: right;\n",
       "    }\n",
       "</style>\n",
       "<table border=\"1\" class=\"dataframe\">\n",
       "  <thead>\n",
       "    <tr style=\"text-align: right;\">\n",
       "      <th></th>\n",
       "      <th>Year</th>\n",
       "      <th>113 Cause Name</th>\n",
       "      <th>Cause Name</th>\n",
       "      <th>State</th>\n",
       "      <th>Deaths</th>\n",
       "      <th>Age-adjusted Death Rate</th>\n",
       "    </tr>\n",
       "  </thead>\n",
       "  <tbody>\n",
       "    <tr>\n",
       "      <th>0</th>\n",
       "      <td>2016</td>\n",
       "      <td>Accidents (unintentional injuries) (V01-X59,Y8...</td>\n",
       "      <td>Unintentional injuries</td>\n",
       "      <td>Alabama</td>\n",
       "      <td>2755</td>\n",
       "      <td>55.5</td>\n",
       "    </tr>\n",
       "    <tr>\n",
       "      <th>1</th>\n",
       "      <td>2016</td>\n",
       "      <td>Accidents (unintentional injuries) (V01-X59,Y8...</td>\n",
       "      <td>Unintentional injuries</td>\n",
       "      <td>Alaska</td>\n",
       "      <td>439</td>\n",
       "      <td>63.1</td>\n",
       "    </tr>\n",
       "    <tr>\n",
       "      <th>2</th>\n",
       "      <td>2016</td>\n",
       "      <td>Accidents (unintentional injuries) (V01-X59,Y8...</td>\n",
       "      <td>Unintentional injuries</td>\n",
       "      <td>Arizona</td>\n",
       "      <td>4010</td>\n",
       "      <td>54.2</td>\n",
       "    </tr>\n",
       "    <tr>\n",
       "      <th>3</th>\n",
       "      <td>2016</td>\n",
       "      <td>Accidents (unintentional injuries) (V01-X59,Y8...</td>\n",
       "      <td>Unintentional injuries</td>\n",
       "      <td>Arkansas</td>\n",
       "      <td>1604</td>\n",
       "      <td>51.8</td>\n",
       "    </tr>\n",
       "    <tr>\n",
       "      <th>4</th>\n",
       "      <td>2016</td>\n",
       "      <td>Accidents (unintentional injuries) (V01-X59,Y8...</td>\n",
       "      <td>Unintentional injuries</td>\n",
       "      <td>California</td>\n",
       "      <td>13213</td>\n",
       "      <td>32.0</td>\n",
       "    </tr>\n",
       "  </tbody>\n",
       "</table>\n",
       "</div>"
      ],
      "text/plain": [
       "   Year                                     113 Cause Name  \\\n",
       "0  2016  Accidents (unintentional injuries) (V01-X59,Y8...   \n",
       "1  2016  Accidents (unintentional injuries) (V01-X59,Y8...   \n",
       "2  2016  Accidents (unintentional injuries) (V01-X59,Y8...   \n",
       "3  2016  Accidents (unintentional injuries) (V01-X59,Y8...   \n",
       "4  2016  Accidents (unintentional injuries) (V01-X59,Y8...   \n",
       "\n",
       "               Cause Name       State  Deaths  Age-adjusted Death Rate  \n",
       "0  Unintentional injuries     Alabama    2755                     55.5  \n",
       "1  Unintentional injuries      Alaska     439                     63.1  \n",
       "2  Unintentional injuries     Arizona    4010                     54.2  \n",
       "3  Unintentional injuries    Arkansas    1604                     51.8  \n",
       "4  Unintentional injuries  California   13213                     32.0  "
      ]
     },
     "execution_count": 3,
     "metadata": {},
     "output_type": "execute_result"
    }
   ],
   "source": [
    "#1 Peeking at our Data\n",
    "lcd_data.head()"
   ]
  },
  {
   "cell_type": "code",
   "execution_count": 4,
   "metadata": {},
   "outputs": [],
   "source": [
    "#2: Dropping columns\n",
    "data = lcd_data.drop(columns=['113 Cause Name'])"
   ]
  },
  {
   "cell_type": "code",
   "execution_count": 5,
   "metadata": {},
   "outputs": [],
   "source": [
    "#3: Renaming columns\n",
    "final_data=data.rename(index=int, columns={\"Cause Name\": \"Cause\", \"Age-adjusted Death Rate\": \"AADR\"})"
   ]
  },
  {
   "cell_type": "code",
   "execution_count": 6,
   "metadata": {},
   "outputs": [],
   "source": [
    "#Some tests to make sure the changes we made to 'data' were implemented into 'final_data'\n",
    "assert len(final_data.columns.values)==5\n",
    "assert (final_data.columns.values == (['Year', 'Cause', 'State', 'Deaths', 'AADR'])).all\n",
    "assert final_data.size==51480"
   ]
  },
  {
   "cell_type": "code",
   "execution_count": 7,
   "metadata": {},
   "outputs": [
    {
     "name": "stdout",
     "output_type": "stream",
     "text": [
      "<class 'pandas.core.frame.DataFrame'>\n",
      "Int64Index: 10296 entries, 0 to 10295\n",
      "Data columns (total 5 columns):\n",
      "Year      10296 non-null int64\n",
      "Cause     10296 non-null object\n",
      "State     10296 non-null object\n",
      "Deaths    10296 non-null int64\n",
      "AADR      10296 non-null float64\n",
      "dtypes: float64(1), int64(2), object(2)\n",
      "memory usage: 482.6+ KB\n"
     ]
    }
   ],
   "source": [
    "##4 Checking if anything is missing and types of data\n",
    "final_data.info()\n",
    "#note, we have a total of 5 columns by 10296 rows (WOW) and no missing values (YAY)"
   ]
  },
  {
   "cell_type": "code",
   "execution_count": 8,
   "metadata": {},
   "outputs": [
    {
     "data": {
      "text/html": [
       "<div>\n",
       "<style scoped>\n",
       "    .dataframe tbody tr th:only-of-type {\n",
       "        vertical-align: middle;\n",
       "    }\n",
       "\n",
       "    .dataframe tbody tr th {\n",
       "        vertical-align: top;\n",
       "    }\n",
       "\n",
       "    .dataframe thead th {\n",
       "        text-align: right;\n",
       "    }\n",
       "</style>\n",
       "<table border=\"1\" class=\"dataframe\">\n",
       "  <thead>\n",
       "    <tr style=\"text-align: right;\">\n",
       "      <th></th>\n",
       "      <th>Year</th>\n",
       "      <th>Deaths</th>\n",
       "      <th>AADR</th>\n",
       "    </tr>\n",
       "  </thead>\n",
       "  <tbody>\n",
       "    <tr>\n",
       "      <th>count</th>\n",
       "      <td>10296.000000</td>\n",
       "      <td>1.029600e+04</td>\n",
       "      <td>10296.000000</td>\n",
       "    </tr>\n",
       "    <tr>\n",
       "      <th>mean</th>\n",
       "      <td>2007.500000</td>\n",
       "      <td>1.532668e+04</td>\n",
       "      <td>128.026428</td>\n",
       "    </tr>\n",
       "    <tr>\n",
       "      <th>std</th>\n",
       "      <td>5.188379</td>\n",
       "      <td>1.112160e+05</td>\n",
       "      <td>224.355281</td>\n",
       "    </tr>\n",
       "    <tr>\n",
       "      <th>min</th>\n",
       "      <td>1999.000000</td>\n",
       "      <td>2.100000e+01</td>\n",
       "      <td>2.600000</td>\n",
       "    </tr>\n",
       "    <tr>\n",
       "      <th>25%</th>\n",
       "      <td>2003.000000</td>\n",
       "      <td>6.060000e+02</td>\n",
       "      <td>19.200000</td>\n",
       "    </tr>\n",
       "    <tr>\n",
       "      <th>50%</th>\n",
       "      <td>2007.500000</td>\n",
       "      <td>1.704500e+03</td>\n",
       "      <td>35.800000</td>\n",
       "    </tr>\n",
       "    <tr>\n",
       "      <th>75%</th>\n",
       "      <td>2012.000000</td>\n",
       "      <td>5.678000e+03</td>\n",
       "      <td>153.025000</td>\n",
       "    </tr>\n",
       "    <tr>\n",
       "      <th>max</th>\n",
       "      <td>2016.000000</td>\n",
       "      <td>2.712630e+06</td>\n",
       "      <td>1087.300000</td>\n",
       "    </tr>\n",
       "  </tbody>\n",
       "</table>\n",
       "</div>"
      ],
      "text/plain": [
       "               Year        Deaths          AADR\n",
       "count  10296.000000  1.029600e+04  10296.000000\n",
       "mean    2007.500000  1.532668e+04    128.026428\n",
       "std        5.188379  1.112160e+05    224.355281\n",
       "min     1999.000000  2.100000e+01      2.600000\n",
       "25%     2003.000000  6.060000e+02     19.200000\n",
       "50%     2007.500000  1.704500e+03     35.800000\n",
       "75%     2012.000000  5.678000e+03    153.025000\n",
       "max     2016.000000  2.712630e+06   1087.300000"
      ]
     },
     "execution_count": 8,
     "metadata": {},
     "output_type": "execute_result"
    }
   ],
   "source": [
    "#5 Stats\n",
    "final_data.describe()"
   ]
  },
  {
   "cell_type": "code",
   "execution_count": 9,
   "metadata": {},
   "outputs": [
    {
     "data": {
      "text/plain": [
       "count    1.029600e+04\n",
       "mean     1.532668e+04\n",
       "std      1.112160e+05\n",
       "min      2.100000e+01\n",
       "25%      6.060000e+02\n",
       "50%      1.704500e+03\n",
       "75%      5.678000e+03\n",
       "max      2.712630e+06\n",
       "Name: Deaths, dtype: float64"
      ]
     },
     "execution_count": 9,
     "metadata": {},
     "output_type": "execute_result"
    }
   ],
   "source": [
    "#5a Column specific Stats\n",
    "final_data.Deaths.describe()"
   ]
  },
  {
   "cell_type": "code",
   "execution_count": 10,
   "metadata": {},
   "outputs": [
    {
     "data": {
      "text/plain": [
       "Index(['Year', 'Cause', 'State', 'Deaths', 'AADR'], dtype='object')"
      ]
     },
     "execution_count": 10,
     "metadata": {},
     "output_type": "execute_result"
    }
   ],
   "source": [
    "#6: Columns\n",
    "final_data.columns"
   ]
  },
  {
   "cell_type": "code",
   "execution_count": 11,
   "metadata": {},
   "outputs": [
    {
     "data": {
      "text/plain": [
       "Int64Index([    0,     1,     2,     3,     4,     5,     6,     7,     8,\n",
       "                9,\n",
       "            ...\n",
       "            10286, 10287, 10288, 10289, 10290, 10291, 10292, 10293, 10294,\n",
       "            10295],\n",
       "           dtype='int64', length=10296)"
      ]
     },
     "execution_count": 11,
     "metadata": {},
     "output_type": "execute_result"
    }
   ],
   "source": [
    "#7: Indexing tells us more data about our data \n",
    "final_data.index "
   ]
  },
  {
   "cell_type": "code",
   "execution_count": 12,
   "metadata": {},
   "outputs": [
    {
     "data": {
      "text/html": [
       "<div>\n",
       "<style scoped>\n",
       "    .dataframe tbody tr th:only-of-type {\n",
       "        vertical-align: middle;\n",
       "    }\n",
       "\n",
       "    .dataframe tbody tr th {\n",
       "        vertical-align: top;\n",
       "    }\n",
       "\n",
       "    .dataframe thead th {\n",
       "        text-align: right;\n",
       "    }\n",
       "</style>\n",
       "<table border=\"1\" class=\"dataframe\">\n",
       "  <thead>\n",
       "    <tr style=\"text-align: right;\">\n",
       "      <th></th>\n",
       "      <th>Year</th>\n",
       "      <th>Cause</th>\n",
       "      <th>State</th>\n",
       "      <th>Deaths</th>\n",
       "      <th>AADR</th>\n",
       "    </tr>\n",
       "  </thead>\n",
       "  <tbody>\n",
       "    <tr>\n",
       "      <th>5</th>\n",
       "      <td>2016</td>\n",
       "      <td>Unintentional injuries</td>\n",
       "      <td>Colorado</td>\n",
       "      <td>2880</td>\n",
       "      <td>51.2</td>\n",
       "    </tr>\n",
       "    <tr>\n",
       "      <th>10</th>\n",
       "      <td>2016</td>\n",
       "      <td>Unintentional injuries</td>\n",
       "      <td>Georgia</td>\n",
       "      <td>4701</td>\n",
       "      <td>45.8</td>\n",
       "    </tr>\n",
       "    <tr>\n",
       "      <th>15</th>\n",
       "      <td>2016</td>\n",
       "      <td>Unintentional injuries</td>\n",
       "      <td>Iowa</td>\n",
       "      <td>1608</td>\n",
       "      <td>45.8</td>\n",
       "    </tr>\n",
       "  </tbody>\n",
       "</table>\n",
       "</div>"
      ],
      "text/plain": [
       "    Year                   Cause     State  Deaths  AADR\n",
       "5   2016  Unintentional injuries  Colorado    2880  51.2\n",
       "10  2016  Unintentional injuries   Georgia    4701  45.8\n",
       "15  2016  Unintentional injuries      Iowa    1608  45.8"
      ]
     },
     "execution_count": 12,
     "metadata": {},
     "output_type": "execute_result"
    }
   ],
   "source": [
    "#7a: Identifying specific rows we want to see from our data set, using integers\n",
    "final_data.loc[[5,10,15]]"
   ]
  },
  {
   "cell_type": "code",
   "execution_count": 13,
   "metadata": {},
   "outputs": [
    {
     "data": {
      "text/html": [
       "<div>\n",
       "<style scoped>\n",
       "    .dataframe tbody tr th:only-of-type {\n",
       "        vertical-align: middle;\n",
       "    }\n",
       "\n",
       "    .dataframe tbody tr th {\n",
       "        vertical-align: top;\n",
       "    }\n",
       "\n",
       "    .dataframe thead th {\n",
       "        text-align: right;\n",
       "    }\n",
       "</style>\n",
       "<table border=\"1\" class=\"dataframe\">\n",
       "  <thead>\n",
       "    <tr style=\"text-align: right;\">\n",
       "      <th></th>\n",
       "      <th>Year</th>\n",
       "      <th>State</th>\n",
       "      <th>Cause Name</th>\n",
       "      <th>Deaths</th>\n",
       "    </tr>\n",
       "  </thead>\n",
       "  <tbody>\n",
       "    <tr>\n",
       "      <th>1</th>\n",
       "      <td>2016</td>\n",
       "      <td>Alaska</td>\n",
       "      <td>Unintentional injuries</td>\n",
       "      <td>439</td>\n",
       "    </tr>\n",
       "    <tr>\n",
       "      <th>103</th>\n",
       "      <td>2000</td>\n",
       "      <td>Arizona</td>\n",
       "      <td>All causes</td>\n",
       "      <td>40500</td>\n",
       "    </tr>\n",
       "    <tr>\n",
       "      <th>278</th>\n",
       "      <td>2005</td>\n",
       "      <td>Idaho</td>\n",
       "      <td>All causes</td>\n",
       "      <td>10556</td>\n",
       "    </tr>\n",
       "    <tr>\n",
       "      <th>892</th>\n",
       "      <td>2003</td>\n",
       "      <td>Vermont</td>\n",
       "      <td>All causes</td>\n",
       "      <td>5120</td>\n",
       "    </tr>\n",
       "    <tr>\n",
       "      <th>10000</th>\n",
       "      <td>2004</td>\n",
       "      <td>North Dakota</td>\n",
       "      <td>Unintentional injuries</td>\n",
       "      <td>274</td>\n",
       "    </tr>\n",
       "  </tbody>\n",
       "</table>\n",
       "</div>"
      ],
      "text/plain": [
       "       Year         State              Cause Name  Deaths\n",
       "1      2016        Alaska  Unintentional injuries     439\n",
       "103    2000       Arizona              All causes   40500\n",
       "278    2005         Idaho              All causes   10556\n",
       "892    2003       Vermont              All causes    5120\n",
       "10000  2004  North Dakota  Unintentional injuries     274"
      ]
     },
     "execution_count": 13,
     "metadata": {},
     "output_type": "execute_result"
    }
   ],
   "source": [
    "#7b: Selecting rows and columns at the same time \n",
    "data.loc[[1, 103, 278, 892, 10000] , ['Year', 'State', 'Cause Name', 'Deaths']]"
   ]
  },
  {
   "cell_type": "markdown",
   "metadata": {},
   "source": [
    "# Part 2: Organizing and Indexing our Data\n",
    "\n",
    "Wow! So, we just learned some of the basic affordances Pandas allows you when working with big data sets. We even got to see how we can narrow down some of the data presented by indexing specific rows and columns. While this is interesting, however, calling on random rows to give us the specific attribute information (columns), is not a systematic or efficient way to analyze your data. Therefore, we need to start thinking about how we can sort information, so that we can answer specific questions when calling on an indexed piece of information. \n",
    "\n",
    "For example, how can I see what the leading causes of death were in 2010 in California? \n",
    "\n",
    "In this dataset, information is organized by Year, State, and Cause Name (cause of death), meaning that in order to call on a piece of information, say the number of deaths from the year 2016, then you will need to specify the Cause Name (in this case, All Causes), and the State (in this case, All states). In Pandas, you can index things similar to the way you would in a dictionary. For example, I can call final_data['Year'] and it will give me all the years listed in the dataset.\n",
    "\n",
    "Let's try indexing our values to easily call on a data point that includes the number of deaths from a specific Year, in a specific State, from a specific Cause "
   ]
  },
  {
   "cell_type": "code",
   "execution_count": 14,
   "metadata": {},
   "outputs": [],
   "source": [
    "#demo with state specific data using California as an example\n",
    "\n",
    "#this gives me all california mortality data\n",
    "cali_data = final_data[final_data['State'] == 'California']\n",
    "    \n",
    "#this gives me general death rate over all years\n",
    "cali_allyears=cali_data[cali_data['Cause']=='All causes']\n",
    "    \n",
    "#this gives me all california mortality data from 2010\n",
    "cali_2010 = cali_data[cali_data['Year'] == 2010]\n",
    "\n",
    "#this gives me the number of deaths in CA in 2010\n",
    "cali_all_2010 = cali_2010[cali_2010['Cause'] == 'All causes']\n"
   ]
  },
  {
   "cell_type": "code",
   "execution_count": 15,
   "metadata": {},
   "outputs": [
    {
     "data": {
      "text/html": [
       "<div>\n",
       "<style scoped>\n",
       "    .dataframe tbody tr th:only-of-type {\n",
       "        vertical-align: middle;\n",
       "    }\n",
       "\n",
       "    .dataframe tbody tr th {\n",
       "        vertical-align: top;\n",
       "    }\n",
       "\n",
       "    .dataframe thead th {\n",
       "        text-align: right;\n",
       "    }\n",
       "</style>\n",
       "<table border=\"1\" class=\"dataframe\">\n",
       "  <thead>\n",
       "    <tr style=\"text-align: right;\">\n",
       "      <th></th>\n",
       "      <th>Deaths</th>\n",
       "      <th>Cause</th>\n",
       "    </tr>\n",
       "  </thead>\n",
       "  <tbody>\n",
       "    <tr>\n",
       "      <th>129</th>\n",
       "      <td>234012</td>\n",
       "      <td>All causes</td>\n",
       "    </tr>\n",
       "    <tr>\n",
       "      <th>4809</th>\n",
       "      <td>58641</td>\n",
       "      <td>Heart disease</td>\n",
       "    </tr>\n",
       "    <tr>\n",
       "      <th>2001</th>\n",
       "      <td>56453</td>\n",
       "      <td>Cancer</td>\n",
       "    </tr>\n",
       "    <tr>\n",
       "      <th>7617</th>\n",
       "      <td>13662</td>\n",
       "      <td>Stroke</td>\n",
       "    </tr>\n",
       "    <tr>\n",
       "      <th>2937</th>\n",
       "      <td>12987</td>\n",
       "      <td>CLRD</td>\n",
       "    </tr>\n",
       "    <tr>\n",
       "      <th>1065</th>\n",
       "      <td>10856</td>\n",
       "      <td>Alzheimer's disease</td>\n",
       "    </tr>\n",
       "    <tr>\n",
       "      <th>9484</th>\n",
       "      <td>10435</td>\n",
       "      <td>Unintentional injuries</td>\n",
       "    </tr>\n",
       "    <tr>\n",
       "      <th>3873</th>\n",
       "      <td>7061</td>\n",
       "      <td>Diabetes</td>\n",
       "    </tr>\n",
       "    <tr>\n",
       "      <th>5745</th>\n",
       "      <td>5882</td>\n",
       "      <td>Influenza and pneumonia</td>\n",
       "    </tr>\n",
       "    <tr>\n",
       "      <th>8553</th>\n",
       "      <td>3913</td>\n",
       "      <td>Suicide</td>\n",
       "    </tr>\n",
       "    <tr>\n",
       "      <th>6681</th>\n",
       "      <td>3112</td>\n",
       "      <td>Kidney disease</td>\n",
       "    </tr>\n",
       "  </tbody>\n",
       "</table>\n",
       "</div>"
      ],
      "text/plain": [
       "      Deaths                    Cause\n",
       "129   234012               All causes\n",
       "4809   58641            Heart disease\n",
       "2001   56453                   Cancer\n",
       "7617   13662                   Stroke\n",
       "2937   12987                     CLRD\n",
       "1065   10856      Alzheimer's disease\n",
       "9484   10435   Unintentional injuries\n",
       "3873    7061                 Diabetes\n",
       "5745    5882  Influenza and pneumonia\n",
       "8553    3913                  Suicide\n",
       "6681    3112           Kidney disease"
      ]
     },
     "execution_count": 15,
     "metadata": {},
     "output_type": "execute_result"
    }
   ],
   "source": [
    "#Demo of CA continued \n",
    "#We can play with sorting what we've indexed so far\n",
    "#This sort function gives the ranks the Cause by number of deaths associated with that cause of death in 2010\n",
    "cali_2010_sorted = cali_2010.sort_values(['Deaths', 'Cause'], ascending=False)\n",
    "cali_2010_sorted[['Deaths', 'Cause']].head(11)"
   ]
  },
  {
   "cell_type": "code",
   "execution_count": 16,
   "metadata": {},
   "outputs": [],
   "source": [
    "assert (cali_all_2010.columns.values == ([2010, 'All causes', 'California', 234012, 646.7])).all"
   ]
  },
  {
   "cell_type": "code",
   "execution_count": 58,
   "metadata": {},
   "outputs": [],
   "source": [
    "def state_one_year(state, year):\n",
    "    \n",
    "    \"\"\"this function calls on a Cause for any state and year\"\"\"\n",
    "\n",
    "    state_data = final_data[final_data['State'] == state]    \n",
    "    state_year = state_data[state_data['Year'] == year]\n",
    "    list_of_causes_in_year = state_year['Cause']    \n",
    "    return (state_year, list_of_causes_in_year)\n",
    "\n",
    "def state_all_years(state):\n",
    "    \n",
    "    \"\"\"this function returns the single death rate of a state from all causes over all years\"\"\"\n",
    "    \n",
    "    state_data = final_data[final_data['State'] == state]    \n",
    "    state_all_years = state_data[state_data['Cause'] == 'All causes']    \n",
    "    return (state_all_years)\n",
    "\n",
    "def sort_state(state_year):\n",
    "    \n",
    "    \"\"\"this function sorts the causes of death by death rates in the given year \"\"\"\n",
    "    \n",
    "    state_year_sorted = state_year.sort_values(['Deaths', 'Cause'], ascending=False)\n",
    "    return state_year_sorted[['Deaths', 'Cause']].head(11)"
   ]
  },
  {
   "cell_type": "code",
   "execution_count": 59,
   "metadata": {},
   "outputs": [
    {
     "name": "stdout",
     "output_type": "stream",
     "text": [
      "129                  All causes\n",
      "1065        Alzheimer's disease\n",
      "2001                     Cancer\n",
      "2937                       CLRD\n",
      "3873                   Diabetes\n",
      "4809              Heart disease\n",
      "5745    Influenza and pneumonia\n",
      "6681             Kidney disease\n",
      "7617                     Stroke\n",
      "8553                    Suicide\n",
      "9484     Unintentional injuries\n",
      "Name: Cause, dtype: object\n"
     ]
    },
    {
     "data": {
      "text/html": [
       "<div>\n",
       "<style scoped>\n",
       "    .dataframe tbody tr th:only-of-type {\n",
       "        vertical-align: middle;\n",
       "    }\n",
       "\n",
       "    .dataframe tbody tr th {\n",
       "        vertical-align: top;\n",
       "    }\n",
       "\n",
       "    .dataframe thead th {\n",
       "        text-align: right;\n",
       "    }\n",
       "</style>\n",
       "<table border=\"1\" class=\"dataframe\">\n",
       "  <thead>\n",
       "    <tr style=\"text-align: right;\">\n",
       "      <th></th>\n",
       "      <th>Deaths</th>\n",
       "      <th>Cause</th>\n",
       "    </tr>\n",
       "  </thead>\n",
       "  <tbody>\n",
       "    <tr>\n",
       "      <th>129</th>\n",
       "      <td>234012</td>\n",
       "      <td>All causes</td>\n",
       "    </tr>\n",
       "    <tr>\n",
       "      <th>4809</th>\n",
       "      <td>58641</td>\n",
       "      <td>Heart disease</td>\n",
       "    </tr>\n",
       "    <tr>\n",
       "      <th>2001</th>\n",
       "      <td>56453</td>\n",
       "      <td>Cancer</td>\n",
       "    </tr>\n",
       "    <tr>\n",
       "      <th>7617</th>\n",
       "      <td>13662</td>\n",
       "      <td>Stroke</td>\n",
       "    </tr>\n",
       "    <tr>\n",
       "      <th>2937</th>\n",
       "      <td>12987</td>\n",
       "      <td>CLRD</td>\n",
       "    </tr>\n",
       "    <tr>\n",
       "      <th>1065</th>\n",
       "      <td>10856</td>\n",
       "      <td>Alzheimer's disease</td>\n",
       "    </tr>\n",
       "    <tr>\n",
       "      <th>9484</th>\n",
       "      <td>10435</td>\n",
       "      <td>Unintentional injuries</td>\n",
       "    </tr>\n",
       "    <tr>\n",
       "      <th>3873</th>\n",
       "      <td>7061</td>\n",
       "      <td>Diabetes</td>\n",
       "    </tr>\n",
       "    <tr>\n",
       "      <th>5745</th>\n",
       "      <td>5882</td>\n",
       "      <td>Influenza and pneumonia</td>\n",
       "    </tr>\n",
       "    <tr>\n",
       "      <th>8553</th>\n",
       "      <td>3913</td>\n",
       "      <td>Suicide</td>\n",
       "    </tr>\n",
       "    <tr>\n",
       "      <th>6681</th>\n",
       "      <td>3112</td>\n",
       "      <td>Kidney disease</td>\n",
       "    </tr>\n",
       "  </tbody>\n",
       "</table>\n",
       "</div>"
      ],
      "text/plain": [
       "      Deaths                    Cause\n",
       "129   234012               All causes\n",
       "4809   58641            Heart disease\n",
       "2001   56453                   Cancer\n",
       "7617   13662                   Stroke\n",
       "2937   12987                     CLRD\n",
       "1065   10856      Alzheimer's disease\n",
       "9484   10435   Unintentional injuries\n",
       "3873    7061                 Diabetes\n",
       "5745    5882  Influenza and pneumonia\n",
       "8553    3913                  Suicide\n",
       "6681    3112           Kidney disease"
      ]
     },
     "execution_count": 59,
     "metadata": {},
     "output_type": "execute_result"
    }
   ],
   "source": [
    "#We can check that this function has done what we want it to by passing through California and 2010, which should match our output from our demo\n",
    "#(c,y) states our inputs as a tuple \n",
    "#(x=state_year of California) and (y=list of causes of death in that year)\n",
    "(c,y)=state_one_year('California', 2010)\n",
    "print(y)\n",
    "sort_state(c)\n"
   ]
  },
  {
   "cell_type": "code",
   "execution_count": 60,
   "metadata": {},
   "outputs": [
    {
     "name": "stdout",
     "output_type": "stream",
     "text": [
      "0        Unintentional injuries\n",
      "52                   All causes\n",
      "987         Alzheimer's disease\n",
      "1923                     Cancer\n",
      "2859                       CLRD\n",
      "3795                   Diabetes\n",
      "4731              Heart disease\n",
      "5667    Influenza and pneumonia\n",
      "6603             Kidney disease\n",
      "7540                     Stroke\n",
      "8475                    Suicide\n",
      "Name: Cause, dtype: object\n"
     ]
    },
    {
     "data": {
      "text/html": [
       "<div>\n",
       "<style scoped>\n",
       "    .dataframe tbody tr th:only-of-type {\n",
       "        vertical-align: middle;\n",
       "    }\n",
       "\n",
       "    .dataframe tbody tr th {\n",
       "        vertical-align: top;\n",
       "    }\n",
       "\n",
       "    .dataframe thead th {\n",
       "        text-align: right;\n",
       "    }\n",
       "</style>\n",
       "<table border=\"1\" class=\"dataframe\">\n",
       "  <thead>\n",
       "    <tr style=\"text-align: right;\">\n",
       "      <th></th>\n",
       "      <th>Deaths</th>\n",
       "      <th>Cause</th>\n",
       "    </tr>\n",
       "  </thead>\n",
       "  <tbody>\n",
       "    <tr>\n",
       "      <th>52</th>\n",
       "      <td>52466</td>\n",
       "      <td>All causes</td>\n",
       "    </tr>\n",
       "    <tr>\n",
       "      <th>4731</th>\n",
       "      <td>12832</td>\n",
       "      <td>Heart disease</td>\n",
       "    </tr>\n",
       "    <tr>\n",
       "      <th>1923</th>\n",
       "      <td>10419</td>\n",
       "      <td>Cancer</td>\n",
       "    </tr>\n",
       "    <tr>\n",
       "      <th>2859</th>\n",
       "      <td>3326</td>\n",
       "      <td>CLRD</td>\n",
       "    </tr>\n",
       "    <tr>\n",
       "      <th>7540</th>\n",
       "      <td>2967</td>\n",
       "      <td>Stroke</td>\n",
       "    </tr>\n",
       "    <tr>\n",
       "      <th>0</th>\n",
       "      <td>2755</td>\n",
       "      <td>Unintentional injuries</td>\n",
       "    </tr>\n",
       "    <tr>\n",
       "      <th>987</th>\n",
       "      <td>2507</td>\n",
       "      <td>Alzheimer's disease</td>\n",
       "    </tr>\n",
       "    <tr>\n",
       "      <th>3795</th>\n",
       "      <td>1183</td>\n",
       "      <td>Diabetes</td>\n",
       "    </tr>\n",
       "    <tr>\n",
       "      <th>6603</th>\n",
       "      <td>1012</td>\n",
       "      <td>Kidney disease</td>\n",
       "    </tr>\n",
       "    <tr>\n",
       "      <th>5667</th>\n",
       "      <td>987</td>\n",
       "      <td>Influenza and pneumonia</td>\n",
       "    </tr>\n",
       "    <tr>\n",
       "      <th>8475</th>\n",
       "      <td>788</td>\n",
       "      <td>Suicide</td>\n",
       "    </tr>\n",
       "  </tbody>\n",
       "</table>\n",
       "</div>"
      ],
      "text/plain": [
       "      Deaths                    Cause\n",
       "52     52466               All causes\n",
       "4731   12832            Heart disease\n",
       "1923   10419                   Cancer\n",
       "2859    3326                     CLRD\n",
       "7540    2967                   Stroke\n",
       "0       2755   Unintentional injuries\n",
       "987     2507      Alzheimer's disease\n",
       "3795    1183                 Diabetes\n",
       "6603    1012           Kidney disease\n",
       "5667     987  Influenza and pneumonia\n",
       "8475     788                  Suicide"
      ]
     },
     "execution_count": 60,
     "metadata": {},
     "output_type": "execute_result"
    }
   ],
   "source": [
    "#let's see another example with Alabama's mortality rankings in 2016 \n",
    "\n",
    "(a, z)= state_one_year('Alabama', 2016)\n",
    "print(z)\n",
    "sort_state(a)"
   ]
  },
  {
   "cell_type": "markdown",
   "metadata": {},
   "source": [
    "# Part 3: Intro to Plotting and Visualizations\n",
    "\n",
    "To recap, we now have a more efficient way of wrangling our data and seeing subgroups of information pertaining to the State, Cause of Death, and Year. To take the data analysis even further, it is helpful to be able to visualize the numbers via graphs and other charts. Other forms such as excel typically tend to be very slow going with these processes, so Python and other coding platforms can be very useful for plotting large datasets. \n",
    "\n",
    "In the basics of plotting, you want to keep your variables in mind. With that being said, you want to remember which specific subgroup you want to be plotted. For example, if we want to plot the number of deaths in California from 1999 to 2016, then we would need to reference state_all_years (which takes  All Causes of death in California over the years) as opposed to state_year (which takes each cause of death separately in California in only a single year)"
   ]
  },
  {
   "cell_type": "code",
   "execution_count": 68,
   "metadata": {},
   "outputs": [
    {
     "data": {
      "text/plain": [
       "<matplotlib.axes._subplots.AxesSubplot at 0x119814be0>"
      ]
     },
     "execution_count": 68,
     "metadata": {},
     "output_type": "execute_result"
    },
    {
     "data": {
      "image/png": "[encoded data removed]",
      "text/plain": [
       "<Figure size 432x288 with 1 Axes>"
      ]
     },
     "metadata": {
      "needs_background": "light"
     },
     "output_type": "display_data"
    }
   ],
   "source": [
    "#Example plotting the general death rate in California from 1999 to 2016\n",
    "state_all_years('California').plot(x='Year', y='Deaths', style='o')"
   ]
  },
  {
   "cell_type": "code",
   "execution_count": 69,
   "metadata": {},
   "outputs": [
    {
     "data": {
      "text/plain": [
       "<matplotlib.axes._subplots.AxesSubplot at 0x1196c1cf8>"
      ]
     },
     "execution_count": 69,
     "metadata": {},
     "output_type": "execute_result"
    },
    {
     "data": {
      "image/png": "[encoded data removed]",
      "text/plain": [
       "<Figure size 432x288 with 1 Axes>"
      ]
     },
     "metadata": {
      "needs_background": "light"
     },
     "output_type": "display_data"
    }
   ],
   "source": [
    "#In this graph, we can see the prevalences of each cause of death in the California 2010 data \n",
    "cali_2010[\"Deaths\"].plot('bar')"
   ]
  },
  {
   "cell_type": "code",
   "execution_count": 70,
   "metadata": {},
   "outputs": [
    {
     "data": {
      "text/plain": [
       "<BarContainer object of 11 artists>"
      ]
     },
     "execution_count": 70,
     "metadata": {},
     "output_type": "execute_result"
    },
    {
     "data": {
      "image/png": "[encoded data removed]",
      "text/plain": [
       "<Figure size 432x288 with 1 Axes>"
      ]
     },
     "metadata": {
      "needs_background": "light"
     },
     "output_type": "display_data"
    }
   ],
   "source": [
    "#Here is another visualization that gives the relative number of deaths from each cause in California 2016\n",
    "plt.bar(x='Cause', height='Deaths', width=0.8, bottom=None, align='center', data=cali_2010)"
   ]
  },
  {
   "cell_type": "markdown",
   "metadata": {},
   "source": [
    "# The End! \n",
    "\n",
    "Congratulations! We just went through a huge data set and dipped our toes into Pandas \n",
    "\n",
    "For the future, keep in mind that Pandas and Python each hold endless possibilities, so the more you can get creative with your data, the more you can do!"
   ]
  },
  {
   "cell_type": "code",
   "execution_count": null,
   "metadata": {},
   "outputs": [],
   "source": []
  }
 ],
 "metadata": {
  "kernelspec": {
   "display_name": "Python 3",
   "language": "python",
   "name": "python3"
  },
  "language_info": {
   "codemirror_mode": {
    "name": "ipython",
    "version": 3
   },
   "file_extension": ".py",
   "mimetype": "text/x-python",
   "name": "python",
   "nbconvert_exporter": "python",
   "pygments_lexer": "ipython3",
   "version": "3.7.0"
  }
 },
 "nbformat": 4,
 "nbformat_minor": 2
}
