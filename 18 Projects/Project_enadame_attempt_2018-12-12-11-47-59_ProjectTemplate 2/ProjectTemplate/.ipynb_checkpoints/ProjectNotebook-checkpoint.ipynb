{
 "cells": [
  {
   "cell_type": "markdown",
   "metadata": {},
   "source": [
    "# Project Description"
   ]
  },
  {
   "cell_type": "markdown",
   "metadata": {},
   "source": [
    "This project allows the user to create a database of student's records. It prompts the user to choose from a menu of options and executes accordingly. I decided to use our class COGS18 as the name of the class. When the user is done inputting the details of the student, it then saves it to a external file saved under our project file. An external Student File has been created where we store the records of students being added. \n"
   ]
  },
  {
   "cell_type": "markdown",
   "metadata": {},
   "source": [
    "## Project Code\n",
    "\n",
    "If it makes sense for your project, you can have code and outputs here in the notebook as well."
   ]
  },
  {
   "cell_type": "code",
   "execution_count": 6,
   "metadata": {},
   "outputs": [],
   "source": [
    "from my_module.functions import add_new_student, student_details, calculate_grades\n",
    "import sys\n",
    "\n",
    "def student_records():\n",
    "    menu()\n",
    "\n",
    "def menu():\n",
    "    \"\"\"Creates a menu so the user can choose \n",
    "    an option. \n",
    "      \n",
    "    Conditionals\n",
    "    ------------\n",
    "    \n",
    "    If-and-else statement: sets up the different\n",
    "    option in a conditional statement. \n",
    "    \n",
    "    Returns\n",
    "    -------\n",
    "    \n",
    "    addNewsStudent : function\n",
    "        Allows user to add the new details of a student\n",
    "    studentDetails : function\n",
    "        Displays the details of the students\n",
    "    calculate_grades : function\n",
    "        Returns the sum of the assignment scores\n",
    "    \"\"\"\n",
    "    # Displays a menu header with options to choose from\n",
    "    print(\"*****COGS18 Student Record*****\")\n",
    "    \n",
    "    choice = input(\n",
    "    \"\"\" \n",
    "    1: Add New Student\n",
    "    2: View Student details\n",
    "    3: Calculate Assigment Grades\n",
    "    4: Quit/Log Out\n",
    "\n",
    "    Please enter your choice: \"\"\")\n",
    "\n",
    "    # If choice is 1, calls function addNewStudent()\n",
    "    if choice == \"1\":\n",
    "        return add_new_student()\n",
    "    # If choice is 2, calls function studentDetails()\n",
    "    elif choice == \"2\":\n",
    "        return student_details()\n",
    "    # If choice is 1, calls function calculate_grades()\n",
    "    elif choice == \"3\":\n",
    "        return calculate_grades()\n",
    "    elif choice == \"4\":\n",
    "        print(\"Goodbye!\")\n",
    "        sys.exit\n",
    "    else:\n",
    "        print(\"You must only select either 1, 2, 3, 4 or 5\")\n",
    "        print(\"Please try again!\")\n",
    "        menu()\n",
    "        "
   ]
  },
  {
   "cell_type": "code",
   "execution_count": null,
   "metadata": {
    "scrolled": true
   },
   "outputs": [],
   "source": [
    "# Run this to start program\n",
    "student_records()"
   ]
  },
  {
   "cell_type": "code",
   "execution_count": null,
   "metadata": {},
   "outputs": [],
   "source": []
  },
  {
   "cell_type": "code",
   "execution_count": null,
   "metadata": {},
   "outputs": [],
   "source": []
  }
 ],
 "metadata": {
  "kernelspec": {
   "display_name": "Python 3",
   "language": "python",
   "name": "python3"
  },
  "language_info": {
   "codemirror_mode": {
    "name": "ipython",
    "version": 3
   },
   "file_extension": ".py",
   "mimetype": "text/x-python",
   "name": "python",
   "nbconvert_exporter": "python",
   "pygments_lexer": "ipython3",
   "version": "3.7.0"
  }
 },
 "nbformat": 4,
 "nbformat_minor": 2
}
