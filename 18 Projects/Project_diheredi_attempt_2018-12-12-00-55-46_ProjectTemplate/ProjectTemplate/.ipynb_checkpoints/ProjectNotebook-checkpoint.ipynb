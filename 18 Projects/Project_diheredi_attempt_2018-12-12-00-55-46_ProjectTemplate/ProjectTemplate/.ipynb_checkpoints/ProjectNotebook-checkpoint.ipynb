{
 "cells": [
  {
   "cell_type": "markdown",
   "metadata": {},
   "source": [
    "# Project Description"
   ]
  },
  {
   "cell_type": "markdown",
   "metadata": {},
   "source": [
    "My project intends to generate different madlibs for a user, either randomly or based on the holiday they are interested in. \n",
    "\n",
    "This project consists of 3 holiday madlibs: Christmas, Halloween, and Thanksgiving. Each madlib consists of strings concatenated with different variables. Each variable is provides the user with what to input into the free space of the madlib. It tells wether to insert an adjective, noun, or verb. \n",
    "\n",
    "There are two functions, one that generates a random madlib, and another that generates a madlib based on the keyword that they enter. If the person does not know which keyword to enter, and they input something that is not a keyword, the function will ouput a string that provides the keywords they could enter. "
   ]
  },
  {
   "cell_type": "markdown",
   "metadata": {},
   "source": [
    "## Project Code\n",
    "\n",
    "If it makes sense for your project, you can have code and outputs here in the notebook as well."
   ]
  },
  {
   "cell_type": "code",
   "execution_count": 1,
   "metadata": {},
   "outputs": [],
   "source": [
    "import random "
   ]
  },
  {
   "cell_type": "code",
   "execution_count": 2,
   "metadata": {},
   "outputs": [],
   "source": [
    "from my_module.functions import generate_madlib, choose_madlib"
   ]
  },
  {
   "cell_type": "code",
   "execution_count": 3,
   "metadata": {},
   "outputs": [],
   "source": [
    "# variables that describe what should be input into the madlibs\n",
    "\n",
    "adj1 = (\"insert adjective here\")\n",
    "color1 = (\"insert color here\")\n",
    "color2 = (\"insert color here\")\n",
    "adj2 = (\"insert adjective or action here\")\n",
    "verb1 = (\"insert verb here\")\n",
    "noun1 = (\"insert noun here\")\n",
    "month1 = (\"insert month here\")\n",
    "food1 = (\"insert food here\")"
   ]
  },
  {
   "cell_type": "code",
   "execution_count": 4,
   "metadata": {},
   "outputs": [
    {
     "name": "stdout",
     "output_type": "stream",
     "text": [
      "The Grinch is a insert adjective here insert color here creature with insert color here eyes who does not like Christmas cheer when he sees people celebrating Christmas it makes him insert adjective or action here.\n"
     ]
    }
   ],
   "source": [
    "# Christmas mad libs from https://www.woojr.com/christmas-mad-libs/grinch-mad-libs/\n",
    "# concatenates strings with the variables to set up the outline for the Christmas madlib\n",
    "\n",
    "christmas_madlib = \"The Grinch is a \" + adj1 + \" \" + color1 + \" creature with \" + color2 + \" \" + \\\n",
    "    \"eyes who does not like \" + \"Christmas cheer\" + \" when he sees people celebrating Christmas it makes him\" + \\\n",
    "    \" \"+ adj2 + \".\"\n",
    "print(christmas_madlib)"
   ]
  },
  {
   "cell_type": "code",
   "execution_count": 5,
   "metadata": {},
   "outputs": [
    {
     "name": "stdout",
     "output_type": "stream",
     "text": [
      "Tonight is the night when all of the insert adjective here monsters come out to insert verb here. insert color here  witches with big insert noun here and insert color here shoes make potions and very spooky brews.\n"
     ]
    }
   ],
   "source": [
    "# Halloween mad libs from https://www.pinterest.com/pin/142074563222734524/\n",
    "# concatenates strings with the variables to set up the outline for the Halloween madlib\n",
    "\n",
    "halloween_madlib = \"Tonight is the night when all of the \" + adj1 + \" monsters come out to \" + verb1 + \".\"+ \\\n",
    "    \" \" + color1 + \"  witches with big \" + noun1 + \" and \" + color2 + \" shoes make potions and very spooky brews.\"\n",
    "print(halloween_madlib)"
   ]
  },
  {
   "cell_type": "code",
   "execution_count": 6,
   "metadata": {},
   "outputs": [
    {
     "name": "stdout",
     "output_type": "stream",
     "text": [
      "Every insert month here my family celebrates Thanksgiving. First, my parents buy a insert adjective here insert food here to insert verb here in the oven all day.\n"
     ]
    }
   ],
   "source": [
    "# Thanksgiving mad libs from https://www.woojr.com/thanksgiving-mad-libs/mad-libs-kids-thanksgiving/\n",
    "# concatenates strings with the variables to set up the outline for the Thanksgiving madlib\n",
    "\n",
    "thanksgiving_madlib = \"Every \" + month1 + \" my family celebrates Thanksgiving. First, my parents buy a \" + adj1 + \\\n",
    "    \" \" + food1 + \" to \" + verb1 + \" in the oven all day.\"\n",
    "print(thanksgiving_madlib)"
   ]
  },
  {
   "cell_type": "code",
   "execution_count": 7,
   "metadata": {},
   "outputs": [],
   "source": [
    "#all the holiday madlibs are put into one list \n",
    "madlibs_list = [christmas_madlib, halloween_madlib, thanksgiving_madlib]\n",
    "\n",
    "#first function!! provides a random madlib \n",
    "def generate_madlib(madlibs_list):\n",
    "    \n",
    "    \"\"\"\n",
    "    Parameters\n",
    "    -----------\n",
    "    madlibs_list: list\n",
    "        List so that there is only one input for the function instead of 3 concatenated strings\n",
    "    \n",
    "    Returns\n",
    "    --------\n",
    "    random_madlib: str\n",
    "        String contains either the Christmas, Halloween, or Thanksgiving madlib\n",
    "    \"\"\"\n",
    "    \n",
    "    #the following loop will help generate a random madlib \n",
    "    for random_madlib in madlibs_list:\n",
    "        random_madlib = random.choice(madlibs_list)\n",
    "    return random_madlib\n",
    "    "
   ]
  },
  {
   "cell_type": "code",
   "execution_count": 8,
   "metadata": {},
   "outputs": [],
   "source": [
    "#list of all the keywords that can be used to provide an output for the next function \n",
    "madlib_holiday = [\"christmas\", \"halloween\", \"thanksgiving\", \"random\"]\n",
    "    \n",
    "#this function provides the madlib that corresponds to each keyword \n",
    "def choose_madlib(madlib_holiday):\n",
    "    \n",
    "    \"\"\"\n",
    "    Parameters\n",
    "    ----------\n",
    "    madlib_holiday: list of strings\n",
    "        key words used to get a certain madlib\n",
    "        \n",
    "    Returns\n",
    "    --------\n",
    "    output: string\n",
    "        Depending on the keyword inputed, the output will be the outline for one of the holiday madlibs\n",
    "    \"\"\"\n",
    "    \n",
    "    #the following conditional will determine which madlib will be used\n",
    "    if madlib_holiday == \"christmas\":\n",
    "        output = christmas_madlib\n",
    "    elif madlib_holiday == \"halloween\":\n",
    "        output = halloween_madlib\n",
    "    elif madlib_holiday == \"thanksgiving\":\n",
    "        output = thanksgiving_madlib\n",
    "    elif madlib_holiday == \"random\":\n",
    "        output = generate_madlib(madlibs_list)\n",
    "    else:\n",
    "        output = \"pick christmas, halloween, thanksgiving, or random\"\n",
    "    return output\n",
    "        "
   ]
  },
  {
   "cell_type": "code",
   "execution_count": 9,
   "metadata": {},
   "outputs": [
    {
     "data": {
      "text/plain": [
       "'The Grinch is a insert adjective here insert color here creature with insert color here eyes who does not like Christmas cheer when he sees people celebrating Christmas it makes him insert adjective or action here.'"
      ]
     },
     "execution_count": 9,
     "metadata": {},
     "output_type": "execute_result"
    }
   ],
   "source": [
    "madlib_holiday = \"christmas\"\n",
    "choose_madlib(madlib_holiday)"
   ]
  },
  {
   "cell_type": "code",
   "execution_count": null,
   "metadata": {},
   "outputs": [],
   "source": []
  }
 ],
 "metadata": {
  "kernelspec": {
   "display_name": "Python 3",
   "language": "python",
   "name": "python3"
  },
  "language_info": {
   "codemirror_mode": {
    "name": "ipython",
    "version": 3
   },
   "file_extension": ".py",
   "mimetype": "text/x-python",
   "name": "python",
   "nbconvert_exporter": "python",
   "pygments_lexer": "ipython3",
   "version": "3.6.5"
  }
 },
 "nbformat": 4,
 "nbformat_minor": 2
}
