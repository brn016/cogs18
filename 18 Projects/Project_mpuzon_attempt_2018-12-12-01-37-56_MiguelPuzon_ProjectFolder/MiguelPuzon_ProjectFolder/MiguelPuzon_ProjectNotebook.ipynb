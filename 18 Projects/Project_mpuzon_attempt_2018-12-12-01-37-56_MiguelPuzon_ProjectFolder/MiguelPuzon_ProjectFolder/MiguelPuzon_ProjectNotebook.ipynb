{
 "cells": [
  {
   "cell_type": "markdown",
   "metadata": {},
   "source": [
    "## Project Description\n",
    "\n",
    "- Organize() is a file management function that can be used to organize folders that contain many files of different file types. \n",
    "- This works by:\n",
    "    1. Specifying a target folder/path\n",
    "    2. Creating a list of all files in the target folder\n",
    "    3. Creating new folders to sort files into (based on manual input)\n",
    "    4. Looping through the list of files and sending each file to its respective folder\n",
    "- Other functions are contained within the organize() function\n",
    "- Organize() is particularly useful for sorting an excess of homework files on a computer/laptop\n",
    "    1. Common homework formats (doc, pages, pdf, ipynb) can be sorted into their own folders/ categories"
   ]
  },
  {
   "cell_type": "markdown",
   "metadata": {},
   "source": [
    "## Project Code"
   ]
  },
  {
   "cell_type": "code",
   "execution_count": 40,
   "metadata": {
    "collapsed": true
   },
   "outputs": [],
   "source": [
    "import os\n",
    "import shutil\n",
    "\n",
    "# string below should contain the path of the folder you want to organize, and be sure to include \"/\" at the beginning and end of the string, ie: \"/Users/regina/Desktop/COGS18PROJECT/\"\n",
    "path = \"\"\n",
    "\n",
    "def organize(path): # execute this function on a specified path to organize files into folders created based on specifications manually inputted into above funtions\n",
    "    list_files(path)\n",
    "    create_new_folders(path)\n",
    "    sort_files(path)\n",
    "\n",
    "def list_files(path): # creates a list of all files in the target folder\n",
    "    file_list = os.listdir(path)\n",
    "    print(file_list)\n",
    "    \n",
    "def create_new_folders(path): # creates new folders to organize files from target folder\n",
    "    folder_name = ['pdf', 'pages', 'ipynb'] # note file types in target folder and manually create new folders for each\n",
    "    for x in range(0,3): # loop through above list\n",
    "        if not os.path.exists(path+folder_name[x]): # if the folder name does not already exist...\n",
    "            os.makedirs(path+folder_name[x]) # ... a new folder is made with that name\n",
    "            \n",
    "def sort_files(path): # sends files in target folder to their respective new folders\n",
    "    file_list = os.listdir(path) # creates a list of all files in the target folder\n",
    "    for files in file_list: # loop through files in file_list\n",
    "        if \".pdf\" in files and not os.path.exists(path+'pdf//'+files): # if file is a .pdf file and does not already exist in destination folder...\n",
    "            shutil.move(path+files, path+'pdf//'+files) # ... file is moved to destination folder\n",
    "        if \".pages\" in files and not os.path.exists(path+'pages//'+files): # if file is a .pages file and does not already exist in destination folder...\n",
    "            shutil.move(path+files, path+'pages//'+files) # ... file is moved to destination folder\n",
    "        if \".ipynb\" in files and not os.path.exists(path+'ipynb//'+files): # if file is a .ipynb file and does not already exist in destination folder...\n",
    "            shutil.move(path+files, path+'ipynb//'+files) # ... file is moved to destination folder"
   ]
  },
  {
   "cell_type": "code",
   "execution_count": null,
   "metadata": {},
   "outputs": [],
   "source": []
  }
 ],
 "metadata": {
  "kernelspec": {
   "display_name": "Python 3",
   "language": "python",
   "name": "python3"
  },
  "language_info": {
   "codemirror_mode": {
    "name": "ipython",
    "version": 3
   },
   "file_extension": ".py",
   "mimetype": "text/x-python",
   "name": "python",
   "nbconvert_exporter": "python",
   "pygments_lexer": "ipython3",
   "version": "3.7.0"
  }
 },
 "nbformat": 4,
 "nbformat_minor": 2
}
