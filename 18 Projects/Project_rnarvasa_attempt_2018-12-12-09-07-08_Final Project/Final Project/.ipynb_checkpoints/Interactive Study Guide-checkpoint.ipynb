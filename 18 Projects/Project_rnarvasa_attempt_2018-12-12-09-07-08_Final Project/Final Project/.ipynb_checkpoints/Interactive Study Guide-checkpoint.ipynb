{
 "cells": [
  {
   "cell_type": "markdown",
   "metadata": {},
   "source": [
    "# VIS 20 Fall 2018 Final Study Guide\n",
    "\n",
    "VIS 20 is a class at UC San Diego that teaches the history of ancient art. The final requires the identification and analysis of many art pieces. I was scared that I was going to spend too much time on this project and not study for that class, but then I thought about combining work for both classes. This project is aimed to help students identify artworks, their creators, and the period they were created in."
   ]
  },
  {
   "cell_type": "code",
   "execution_count": 10,
   "metadata": {},
   "outputs": [],
   "source": [
    "# This cell imports necessary modules to select items randomly and display images.\n",
    "from PIL import Image\n",
    "import random\n",
    "import string"
   ]
  },
  {
   "cell_type": "code",
   "execution_count": 11,
   "metadata": {},
   "outputs": [],
   "source": [
    "# Let's the user know the directions.\n",
    "greeting = \"Welcome to VIS 20 Interactive Study Guide! \"\n",
    "directions = \"Answer the prompts given. If you get stuck, enter 'study'. Enter 'gtg' to exit. \"\n",
    "\n",
    "# Three main questions on the final - each one will be randomly selected.\n",
    "practice_questions = ['What is the title of this piece?',\n",
    "                     'Who is the creator of this piece?',\n",
    "                     'What period is this piece from?']\n",
    "\n",
    "# If 'gtg' is entered in the chat, the output will be rendered true and the chatbot will end.\n",
    "def exit_chat(input_list):\n",
    "    \n",
    "    if 'gtg' in input_list:\n",
    "        output = True\n",
    "    else:\n",
    "        output = False\n",
    "        \n",
    "    return output"
   ]
  },
  {
   "cell_type": "code",
   "execution_count": 12,
   "metadata": {},
   "outputs": [],
   "source": [
    "assert isinstance(greeting, str)\n",
    "assert isinstance(directions, str)\n",
    "assert isinstance(practice_questions, list)\n",
    "assert callable(exit_chat)"
   ]
  },
  {
   "cell_type": "code",
   "execution_count": 13,
   "metadata": {},
   "outputs": [],
   "source": [
    "# Art_Pieces is a class that helps organizes art with their title, artist, period, and the file name listed.\n",
    "class Art_Pieces():\n",
    "    \n",
    "    # Assigns instance attributes to the corresponding arguments. \n",
    "    def __init__(self, title, artist, period, image):\n",
    "        self.title = title\n",
    "        self.artist = artist\n",
    "        self.period = period\n",
    "        self.image = image\n",
    "        \n",
    "    # Shows image and information about it.\n",
    "    def study_now(self):\n",
    "        appear = Image.open(self.image)\n",
    "        appear.show()\n",
    "        information = 'This piece is called %s. It was created by %s during the %s period.'%(self.title, self.artist, self.period)\n",
    "        print(information)\n",
    "\n",
    "# Putting art in Art_Pieces and writing their instance specific attributes.\n",
    "art1 = Art_Pieces('The Merode Altarpiece', 'Robert Campin', 'Early Renaissance', 'The Merode Altarpiece.jpg')\n",
    "art2 = Art_Pieces('Oath of Horatii', 'David', 'Neoclassicism', 'Oath of Horatii.jpeg')\n",
    "\n",
    "# Creates a list for those in Art_Pieces.\n",
    "disp1 = art1.image\n",
    "disp2 = art2.image\n",
    "study = [disp1, disp2]"
   ]
  },
  {
   "cell_type": "code",
   "execution_count": 14,
   "metadata": {},
   "outputs": [],
   "source": [
    "# Tests the Art_Pieces objects.\n",
    "assert isinstance(art1, Art_Pieces)\n",
    "assert isinstance(art2, Art_Pieces)"
   ]
  },
  {
   "cell_type": "markdown",
   "metadata": {},
   "source": [
    "## Before you get into the test, you can study up! \n",
    "Use the next cell by uncommenting them and memorize well."
   ]
  },
  {
   "cell_type": "code",
   "execution_count": 15,
   "metadata": {},
   "outputs": [],
   "source": [
    "#art1.study_now()\n",
    "#art2.study_now()"
   ]
  },
  {
   "cell_type": "code",
   "execution_count": 16,
   "metadata": {},
   "outputs": [],
   "source": [
    "# This is the main part of the project that asks users about the art and takes in their answers.\n",
    "def practice_test():\n",
    "    \n",
    "    # Randomly selects a piece of art and a question to present to user.\n",
    "    print(greeting, directions)\n",
    "    print()\n",
    "    print('Examine this art.')\n",
    "    question = random.choice(practice_questions)\n",
    "    print(question)\n",
    "    display_art = random.choice(study)\n",
    "    presented = Image.open(display_art)\n",
    "    presented.show()\n",
    "    \n",
    "    \n",
    "    chat = True\n",
    "    while chat:\n",
    "        \n",
    "        response_in = input('Response: ')\n",
    "        out_text = None\n",
    "        \n",
    "        # If The Merode Altarpiece is displayed, it may ask about the title, artist or period.\n",
    "        if display_art == disp1:\n",
    "            if question == practice_questions[0] and response_in == art1.title:\n",
    "                out_text = 'Good job!'\n",
    "                print('Result:', out_text)\n",
    "                print()\n",
    "                print('Examine this art.')\n",
    "                question = random.choice(practice_questions)\n",
    "                print(question)\n",
    "                display_art = random.choice(study)\n",
    "                presented = Image.open(display_art)\n",
    "                presented.show()\n",
    "\n",
    "            elif question == practice_questions[1] and response_in == art1.artist:\n",
    "                out_text = 'Nice!'\n",
    "                print('Result:', out_text)\n",
    "                print()\n",
    "                print('Examine this art.')\n",
    "                question = random.choice(practice_questions)\n",
    "                print(question)\n",
    "                display_art = random.choice(study)\n",
    "                presented = Image.open(display_art)\n",
    "                presented.show()\n",
    "                \n",
    "            elif question == practice_questions[2] and response_in == art1.period:\n",
    "                out_text = 'Correct!'\n",
    "                print('Result:', out_text)\n",
    "                print()\n",
    "                print('Examine this art.')\n",
    "                question = random.choice(practice_questions)\n",
    "                print(question)\n",
    "                display_art = random.choice(study)\n",
    "                presented = Image.open(display_art)\n",
    "                presented.show()\n",
    "                \n",
    "            # Gives students an opportunity to learn from their mistakes.\n",
    "            elif response_in == 'study':\n",
    "                art1.study_now()\n",
    "                print('Now enter in the correct answer.')\n",
    "\n",
    "            # Tells students to make another attempt if they were wrong.\n",
    "            else:\n",
    "                out_text = 'Try again.'\n",
    "        \n",
    "        # If Oath of Horatii is displayed, it may ask about the title, artist or period.\n",
    "        elif display_art == disp2:\n",
    "            if question == practice_questions[0] and response_in == art2.title:\n",
    "                out_text = 'You got this!'\n",
    "                print('Result:', out_text)\n",
    "                print()\n",
    "                print('Examine this art.')\n",
    "                question = random.choice(practice_questions)\n",
    "                print(question)\n",
    "                display_art = random.choice(study)\n",
    "                presented = Image.open(display_art)\n",
    "                presented.show()\n",
    "\n",
    "            elif question == practice_questions[1] and response_in == art2.artist:\n",
    "                out_text = 'You are doing just fine.'\n",
    "                print('Result:', out_text)\n",
    "                print()\n",
    "                print('Examine this art.')\n",
    "                question = random.choice(practice_questions)\n",
    "                print(question)\n",
    "                display_art = random.choice(study)\n",
    "                presented = Image.open(display_art)\n",
    "                presented.show()\n",
    "\n",
    "            elif question == practice_questions[2] and response_in == art2.period:\n",
    "                out_text = 'You will ace this.'\n",
    "                print('Result:', out_text)\n",
    "                print()\n",
    "                print('Examine this art.')\n",
    "                question = random.choice(practice_questions)\n",
    "                print(question)\n",
    "                display_art = random.choice(study)\n",
    "                presented = Image.open(display_art)\n",
    "                presented.show()\n",
    "           \n",
    "            # Gives students an opportunity to learn from their mistakes.  \n",
    "            elif response_in == 'study':\n",
    "                art2.study_now()\n",
    "                print('Now enter in the correct answer.')\n",
    "            \n",
    "            # Tells students to make another attempt if they were wrong.\n",
    "            else:\n",
    "                out_text = 'Try again.'\n",
    "        \n",
    "        # Allows user to escape the while loop and gives encouragement.\n",
    "        if exit_chat(response_in):\n",
    "            out_text = 'Good luck on your final!'\n",
    "            print(out_text)\n",
    "            chat = False\n",
    "            break"
   ]
  },
  {
   "cell_type": "code",
   "execution_count": 17,
   "metadata": {},
   "outputs": [],
   "source": [
    "# Tests if practice_test can be called.\n",
    "assert callable(practice_test)"
   ]
  },
  {
   "cell_type": "markdown",
   "metadata": {},
   "source": [
    "# Use 'practice_test()' to test yourself.\n",
    "\n",
    "This test will generate a question and a work of art. Answer the given question. If you get it wrong, it will prompt you to try again. If you need to, you can type 'study' and get the answer. Use 'gtg' to exit."
   ]
  },
  {
   "cell_type": "code",
   "execution_count": 18,
   "metadata": {
    "scrolled": true
   },
   "outputs": [
    {
     "name": "stdout",
     "output_type": "stream",
     "text": [
      "Welcome to VIS 20 Interactive Study Guide!  Answer the prompts given. If you get stuck, enter 'study'. Enter 'gtg' to exit. \n",
      "\n",
      "Examine this art.\n",
      "What is the title of this piece?\n",
      "Response: gtg\n",
      "Good luck on your final!\n"
     ]
    }
   ],
   "source": [
    "practice_test()"
   ]
  },
  {
   "cell_type": "markdown",
   "metadata": {},
   "source": [
    "### And That's All Folks!\n",
    "I wish that you all will have a great winter break. Thanks for teaching a very useful class. Sorry I put everything in this notebook. Everything I tried to do with importing kept resulting in an error.\n",
    "\n",
    "Happy Holidays,\n",
    "RJ"
   ]
  }
 ],
 "metadata": {
  "kernelspec": {
   "display_name": "Python 3",
   "language": "python",
   "name": "python3"
  },
  "language_info": {
   "codemirror_mode": {
    "name": "ipython",
    "version": 3
   },
   "file_extension": ".py",
   "mimetype": "text/x-python",
   "name": "python",
   "nbconvert_exporter": "python",
   "pygments_lexer": "ipython3",
   "version": "3.7.0"
  }
 },
 "nbformat": 4,
 "nbformat_minor": 2
}
