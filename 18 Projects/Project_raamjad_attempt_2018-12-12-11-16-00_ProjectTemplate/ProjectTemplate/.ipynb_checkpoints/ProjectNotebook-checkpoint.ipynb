{
 "cells": [
  {
   "cell_type": "markdown",
   "metadata": {},
   "source": [
    "# Project Description"
   ]
  },
  {
   "cell_type": "markdown",
   "metadata": {},
   "source": [
    "Animal Crossing is a real life simulation software developed by Nintendo for the Nintendo 3DS. People can design users, create and manage their town, and interact with fellow villagers. This project is a quick demo of the full game itself. Users enter the Animal Crossing World, meet Rover, pick their town name, their name, and then meet Isabelle. Isabelle is the town's liason and assistant to the mayor, which is you. In this scenario, you will be chatting with Isabelle to learn more about the town and about your role as a mayor. Ask her questions related to the game/town and she will be more than happy to help! This game is a chatbot based experience, and is influenced heavily from assignment 3."
   ]
  },
  {
   "cell_type": "markdown",
   "metadata": {},
   "source": [
    "## Project Code\n",
    "\n",
    "If it makes sense for your project, you can have code and outputs here in the notebook as well."
   ]
  },
  {
   "cell_type": "code",
   "execution_count": 27,
   "metadata": {},
   "outputs": [],
   "source": [
    "from my_module.functions import my_func, my_other_func"
   ]
  },
  {
   "cell_type": "code",
   "execution_count": 28,
   "metadata": {},
   "outputs": [
    {
     "name": "stdout",
     "output_type": "stream",
     "text": [
      "Oh, excuse me, I have a quick question for you. What town are you headed to?\n",
      "Nice! I am heading there too. Where are my manners, I forgot to even ask you your name!\n",
      "Beautiful. I'm Rover, nice to meet you!\n",
      "Well it looks like we're here! Let's step out\n"
     ]
    }
   ],
   "source": [
    "#You are now entering the world that is Animal Crossing. You start off on a train with Rover, the talking dog.\n",
    "#He's curious to see you there. He asks you a few questions.\n",
    "\n",
    "print ('Oh, excuse me, I have a quick question for you. What town are you headed to?')\n",
    "#In the game, this is the chance for users to pick their town name.\n",
    "\n",
    "def town_name():\n",
    "    assert (input_string is not None)\n",
    "#Now that you have entered your town name, Rover will still continue to interact with you\n",
    "\n",
    "print ('Nice! I am heading there too. Where are my manners, I forgot to even ask you your name!')\n",
    "\n",
    "       \n",
    "def mayor_name(): \n",
    "    assert (input_string is not None)\n",
    "#You have now selected your name for the remainder of the game. \n",
    "\n",
    "print (\"Beautiful. I'm Rover, nice to meet you!\")\n",
    "print (\"Well it looks like we're here! Let's step out\")\n",
    "\n",
    "       \n",
    "      "
   ]
  },
  {
   "cell_type": "markdown",
   "metadata": {
    "collapsed": true
   },
   "source": [
    "As you exit the train, you see your town. You encounter Isabelle, who is waiting for you by the mayor's office. She looks like she has something important to say!"
   ]
  },
  {
   "cell_type": "code",
   "execution_count": 29,
   "metadata": {},
   "outputs": [],
   "source": [
    "\n",
    "#Uncomment to run. To start, enter a greeting. To finish, enter 'bye'.\n",
    "#talk_to_isabelle()\n"
   ]
  },
  {
   "cell_type": "code",
   "execution_count": null,
   "metadata": {},
   "outputs": [],
   "source": []
  },
  {
   "cell_type": "code",
   "execution_count": null,
   "metadata": {},
   "outputs": [],
   "source": []
  }
 ],
 "metadata": {
  "kernelspec": {
   "display_name": "Python 3",
   "language": "python",
   "name": "python3"
  },
  "language_info": {
   "codemirror_mode": {
    "name": "ipython",
    "version": 3
   },
   "file_extension": ".py",
   "mimetype": "text/x-python",
   "name": "python",
   "nbconvert_exporter": "python",
   "pygments_lexer": "ipython3",
   "version": "3.6.5"
  }
 },
 "nbformat": 4,
 "nbformat_minor": 2
}
