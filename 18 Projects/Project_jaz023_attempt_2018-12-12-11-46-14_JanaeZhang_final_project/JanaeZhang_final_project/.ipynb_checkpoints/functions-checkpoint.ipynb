{
 "cells": [
  {
   "cell_type": "code",
   "execution_count": 12,
   "metadata": {},
   "outputs": [],
   "source": [
    "\"\"\"All of this is code taken from A3.\n",
    "end_chat has been modified to also recognize 'bye' and 'goodbye'.\n",
    "prepare_text has been modified so that 'big bear' can be recognized as one phrase\"\"\"\n",
    "\n",
    "\n",
    "#Remove the punctuation of the input\n",
    "def remove_punctuation(input_string):\n",
    "    out_string = \"\"\n",
    "    for char in input_string:\n",
    "        if not char in string.punctuation:\n",
    "            out_string = out_string + char\n",
    "    return out_string\n",
    "\n",
    "\n",
    "#Turn the input into a list of single-word strings\n",
    "import string\n",
    "def prepare_text(input_string):\n",
    "    temp_string = input_string.lower()\n",
    "    temp_string2 = remove_punctuation(temp_string)\n",
    "    out_list = temp_string2.split()\n",
    "    if \"big\" in out_list and \"bear\" in out_list:\n",
    "        out_list.append(\"big bear\")\n",
    "    return out_list\n",
    "\n",
    "\n",
    "#Determine if the message should end the chat\n",
    "def end_chat(input_list):\n",
    "    if \"quit\" in input_list:\n",
    "        output = True\n",
    "    elif \"bye\" in input_list:\n",
    "        output = True\n",
    "    elif \"goodbye\"  in input_list:\n",
    "        output = True\n",
    "    else:\n",
    "        output = False\n",
    "    return output\n",
    "\n",
    "\n",
    "#Check if an element in list_one is in list_two\n",
    "def is_in_list(list_one, list_two):\n",
    "    for element in list_one:\n",
    "        if element in list_two:\n",
    "            return True\n",
    "    return False\n",
    "\n",
    "\n",
    "#Find and return an element from list_one that is in list_two, or None otherwise.\n",
    "def find_in_list(list_one, list_two):\n",
    "    for element in list_one:\n",
    "        if element in list_two:\n",
    "            return element\n",
    "    return None"
   ]
  }
 ],
 "metadata": {
  "kernelspec": {
   "display_name": "Python 3",
   "language": "python",
   "name": "python3"
  },
  "language_info": {
   "codemirror_mode": {
    "name": "ipython",
    "version": 3
   },
   "file_extension": ".py",
   "mimetype": "text/x-python",
   "name": "python",
   "nbconvert_exporter": "python",
   "pygments_lexer": "ipython3",
   "version": "3.7.0"
  }
 },
 "nbformat": 4,
 "nbformat_minor": 2
}
