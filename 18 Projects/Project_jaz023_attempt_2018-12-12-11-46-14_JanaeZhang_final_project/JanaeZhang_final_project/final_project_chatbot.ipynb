{
 "cells": [
  {
   "cell_type": "markdown",
   "metadata": {},
   "source": [
    "## Final Project: \"Specialized\" ChatBot\n",
    "\n",
    "Created by Janae Zhang for the COGS18 final due Dec 12, 2018 at 11:59am"
   ]
  },
  {
   "cell_type": "markdown",
   "metadata": {},
   "source": [
    "# Project Description\n",
    "\n",
    "Objective: Create a Chatbot that convinces our friend Nathan to come to Yosemite with us over winter break.\n",
    "\n",
    "In the archery club, we have \"families,\" which are essentially bigs and littles. Our family, named Dry Fire, has been planning a trip to Yosemite since November, and almost everyone is able to make it. The exceptions are those whose parents won't let them, the one who will be out of the country, and Nathan. Nathan is choosing to instead go to Big Bear with some other friends because they \"started planning first\" and he's afraid to be a flake. We've been trying to convince him to come for the past few weeks, but he keeps giving the same excuses, creating a situation predictable enough to be handled with a chatbot.\n",
    "\n",
    "Some other things to note:\n",
    "1. Seaweed and white rice are his favorite foods, and can be used to tempt him.\n",
    "2. We're mostly trying to guilt trip him with our responses.\n",
    "3. He's in a safe environment; I made this partly because I thought it'd be funny, partly because I needed a project idea.\n",
    "4. We're not actually trying to pressure him into doing something he doesn't want to.\n",
    "5. When I told him I was doing this, he said, \"I don't know whether to feel special or attacked\".\n",
    "6. It's both.\n",
    "\n",
    "Love ya Nathan <3"
   ]
  },
  {
   "cell_type": "markdown",
   "metadata": {},
   "source": [
    "## An example of an actual conversation in our group chat:\n",
    "(slightly edited to save space)\n",
    "\n",
    "Nathan: i already have what i wanted -- the 27 pack of korean seaweed :D\n",
    "\n",
    "Jason: a trip to Yosemite with your family\n",
    "\n",
    "Nathan: ah\n",
    "\n",
    "Me: are you saying you only cared about us bc we gave you seaweed D:\n",
    "\n",
    "Jason: oh yikes\n",
    "\n",
    "Jason: if you haven't noticed, when it comes to the 5 stages of grief we basically only go from 1-4 and back around again: Denial, Anger, Bargaining, Depression, rinse and repeat. It's never going to hit 5\n",
    "\n",
    "Paul: it's already repeated 4 times"
   ]
  },
  {
   "cell_type": "markdown",
   "metadata": {},
   "source": [
    "# Project Code"
   ]
  },
  {
   "cell_type": "code",
   "execution_count": 1,
   "metadata": {},
   "outputs": [],
   "source": [
    "#Imports\n",
    "\n",
    "import random\n",
    "from my_module.functions import *"
   ]
  },
  {
   "cell_type": "code",
   "execution_count": 2,
   "metadata": {},
   "outputs": [],
   "source": [
    "# Things to check for in the input and how to respond to them\n",
    "# I'd recommend reading through these to get a sense of how our actual conversations go\n",
    "\n",
    "\n",
    "# Inputs\n",
    "\n",
    "GREETINGS_IN = (\"hello\", \"hi\", \"hey\")\n",
    "EXCUSES = (\"big bear\", \"flake\", \"friend\", \"friends\")\n",
    "\n",
    "\n",
    "# Outputs\n",
    "GREETINGS_OUT = (\"Hi! You're coming to Yosemite, right?\",\n",
    "                \"Hi Nathan we love you please come to Yosemite\")\n",
    "\n",
    "BIGBEAR_RESPONSES = (\"Yosemite is better than Big Bear\", \n",
    "                     \"When you say Big Bear you mean Yosemite, got it\",\n",
    "                    \"You told us that they haven't even really planned anything out though!\")\n",
    "\n",
    "FLAKE_RESPONSES = (\"You're only flaking if you tell them too late!\",\n",
    "                  \"It's ok, we'll just kidnap you so it's not flaking!\",\n",
    "                  \"If you don't flake on them you'll be flaking on us :(\")\n",
    "\n",
    "FRIEND_RESPONSES = (\"We're not just friends, we're family!\",\n",
    "                   \"Are we not your friends? :(\",\n",
    "                   \"Oh, so you're choosing them over us. I see how it is.\")\n",
    "\n",
    "OTHER_RESPONSES = (\"Please just come to Yosemite :(\",\n",
    "                  \"We'll miss you :(  Please just come with us\",\n",
    "                  \"Why do you keep making excuses to not come?\",\n",
    "                  \"We'll get you more seaweed if you come :D\")"
   ]
  },
  {
   "cell_type": "code",
   "execution_count": 3,
   "metadata": {},
   "outputs": [],
   "source": [
    "#Chatbot code. Based structurally off the chatbot code used in A3.\n",
    "\n",
    "def convince_nathan():\n",
    "    \n",
    "    \"\"\"Runs a chatbot where the user is Nathan;\n",
    "    The chatbot attempts to convince Nathan to go to Yosemite.\n",
    "    \n",
    "    Parameters\n",
    "    ----------\n",
    "    N/A\n",
    "    \n",
    "    \n",
    "    Inputs\n",
    "    ----------\n",
    "    input\n",
    "        Takes in user input and converts it to a string\n",
    "        \n",
    "        \n",
    "    Returns\n",
    "    -------\n",
    "    out_msg : string\n",
    "        String containing a response to the user input.\"\"\"\n",
    "    \n",
    "    \n",
    "    chat=True\n",
    "    while chat:\n",
    "        \n",
    "        msg = input(\"Nathan: \")\n",
    "    \n",
    "        # Allows us to use is_in_list on the input message\n",
    "        msg = prepare_text(msg)\n",
    "    \n",
    "        # Checks if the user is ending the chat\n",
    "        if end_chat(msg):\n",
    "            out_msg = \"Bye! We'll see you at Yosemite! <3\"\n",
    "            chat = False\n",
    "            \n",
    "        if not end_chat(msg):\n",
    "            \n",
    "            # Checks for excuses from the list and chooses how to respond\n",
    "            # If there is no match, provides a generic plea to go to Yosemite\n",
    "            if is_in_list(msg, EXCUSES):\n",
    "                reason = find_in_list(msg, EXCUSES)\n",
    "                if reason == \"big bear\":\n",
    "                    out_msg = random.choice(BIGBEAR_RESPONSES)\n",
    "                elif reason == \"flake\":\n",
    "                    out_msg = random.choice(FLAKE_RESPONSES)\n",
    "                elif reason == \"friend\" or \"friends\":\n",
    "                    out_msg = random.choice(FRIEND_RESPONSES)\n",
    "            elif is_in_list(msg, GREETINGS_IN):\n",
    "                out_msg = random.choice(GREETINGS_OUT)\n",
    "            else:\n",
    "                out_msg = random.choice(OTHER_RESPONSES)\n",
    "                \n",
    "        print(\"Dry Fire: \", out_msg)"
   ]
  },
  {
   "cell_type": "code",
   "execution_count": 4,
   "metadata": {},
   "outputs": [],
   "source": [
    "# Run the chatbot. You'll be speaking as Nathan.\n",
    "# If you actually are Nathan, I hope this convinces you :) \n",
    "# Use 'quit', 'bye', or 'goodbye' to end the chat.\n",
    "\n",
    "convince_nathan()"
   ]
  }
 ],
 "metadata": {
  "kernelspec": {
   "display_name": "Python 3",
   "language": "python",
   "name": "python3"
  },
  "language_info": {
   "codemirror_mode": {
    "name": "ipython",
    "version": 3
   },
   "file_extension": ".py",
   "mimetype": "text/x-python",
   "name": "python",
   "nbconvert_exporter": "python",
   "pygments_lexer": "ipython3",
   "version": "3.7.0"
  }
 },
 "nbformat": 4,
 "nbformat_minor": 2
}
